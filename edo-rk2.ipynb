{
 "cells": [
  {
   "cell_type": "markdown",
   "metadata": {},
   "source": [
    "# Equações diferenciais ordinárias"
   ]
  },
  {
   "cell_type": "markdown",
   "metadata": {},
   "source": [
    "Os métodos de Euler e Euler–Cromer são práticos para escrever rapidamente um programa que calcula a solução de uma EDO. Vamos aprender sobre a família de Métodos de Runge–Kutta, que são mais eficientes e preciso do que os métodos que já aprendemos."
   ]
  },
  {
   "cell_type": "markdown",
   "metadata": {},
   "source": [
    "## Métodos de Runge–Kutta\n",
    "\n",
    "### Melhorando o método de Euler"
   ]
  },
  {
   "cell_type": "markdown",
   "metadata": {},
   "source": [
    "Depois do método de Euler–Cromer, ainda é possível melhorar o método de Euler, usando os métodos da família Runge–Kutta. Lembrando, queremos encontrar a solução $x(t)$ da EDO\n",
    "\n",
    "$$\n",
    "\\frac{\\mathrm{d}x}{\\mathrm{d}t} = f(x, t).\n",
    "$$"
   ]
  },
  {
   "cell_type": "markdown",
   "metadata": {},
   "source": [
    "A solução exata pode ser encontrada, em princípio, calculando a integral no tempo,\n",
    "\n",
    "\\begin{align}\n",
    "\\int_{t_j}^{t_{j+1}} \\frac{\\mathrm{d}x}{\\mathrm{d}t}\\,\\mathrm{d}t &= \\int_{t_j}^{t_{j+1}} f\\left( x(t), t \\right)\\,\\mathrm{d}t \\\\\n",
    "\\int_{x_j}^{x_{j+1}}\\,\\mathrm{d}x &= \\int_{t_{j-1}}^{t_j} f\\left( x(t), t \\right)\\,\\mathrm{d}t \\\\\n",
    "x_{j+1} - x_j &= \\int_{t_j}^{t_{j+1}} f\\left( x(t), t \\right)\\,\\mathrm{d}t \\\\\n",
    "x_{j+1} & = x_j + \\int_{t_j}^{t_{j+1}} f\\left( x(t), t \\right)\\,\\mathrm{d}t.\n",
    "\\end{align}"
   ]
  },
  {
   "cell_type": "markdown",
   "metadata": {},
   "source": [
    "Logicamente, não conseguimos resolver essa integral, pois $x(t)$ está no integrando. Mas, podemos tentar calcular essa integral de forma aproximada, usando a regra retangular. Neste caso, aproximamos a função $f(x, t)$ como uma constante $f(x(t_j), t_j)$ dentro do intervalo de integração. Note que $x(t_j) = x_j$, assim\n",
    "\n",
    "\\begin{align}\n",
    "x_{j+1} &\\cong x_j + \\int_{t_j}^{t_{j+1}} f\\left( x_j, t_j \\right)\\,\\mathrm{d}t \\\\\n",
    "&\\cong x_j + f\\left( x_j, t_j \\right) \\int_{t_j}^{t_{j+1}} \\,\\mathrm{d}t \\\\\n",
    "&\\cong x_j + f\\left( x_j, t_j \\right) (t_{j+1} - t_j) \\\\\n",
    "&\\cong x_j + h\\,f\\left( x_j, t_j \\right),\n",
    "\\end{align}\n",
    "\n",
    "lembrando que o intervalo entre os instantes de tempo é $h = t_j - t_{j-1}$. O resultado é o método de Euler, na sua forma mais simples!"
   ]
  },
  {
   "cell_type": "markdown",
   "metadata": {},
   "source": [
    "Podemos tentar refinar a integral, usando o método do trapézio, que resulta em\n",
    "\n",
    "\\begin{align}\n",
    "x_{j+1} &\\cong x_j + \\frac{h}{2} \\left( f\\left( x_j, t_j \\right) + f\\left( x(t_{j+1}), t_{j+1} \\right) \\right) \\\\\n",
    "&\\cong x_j + \\frac{h}{2} \\left( f\\left( x_j, t_j \\right) + f\\left( x_{j+1}, t_{j+1} \\right) \\right).\n",
    "\\end{align}"
   ]
  },
  {
   "cell_type": "markdown",
   "metadata": {},
   "source": [
    "Aqui temos um problema, precisamo de $x_{j+1}$ para calcular $x_{j+1}$. Poderíamos tentar resolver essa equação não-linear com os métodos que já aprendemos. Chamamos isso de *método implícito*."
   ]
  },
  {
   "cell_type": "markdown",
   "metadata": {},
   "source": [
    "Por outro lado, se queremos um método *explícito*, baseado apenas nos passos anteriores, podemos sair dessa sinuca de bico calculando uma primeira aproximação para $x_{j+1}$ usando o método de Euler (que chamaremos de $\\tilde{x}_{j+1}$), para usá-la como entrada para o novo método.\n",
    "\n",
    "\\begin{align}\n",
    "\\tilde{x}_{j+1} &= x_j + h \\,f\\left( x_j, t_j \\right) \\\\\n",
    "x_{j+1} &\\cong x_j + \\frac{h}{2} \\left( f\\left( x_j, t_j \\right) + f\\left( \\tilde{x}_{j+1}, t_{j+1} \\right) \\right).\n",
    "\\end{align}"
   ]
  },
  {
   "cell_type": "markdown",
   "metadata": {},
   "source": [
    "Vamos rescrever essas equações para padronizar a notação,\n",
    "\n",
    "\\begin{align}\n",
    "k_1 &= h \\,f\\left( x_j, t_j \\right) \\\\\n",
    "k_2 &= h \\,f\\left( x_j + k_1, t_{j+1} \\right) \\\\\n",
    "x_{j+1} &\\cong x_j + \\frac{1}{2} \\left( k_1 + k_2 \\right).\n",
    "\\end{align}"
   ]
  },
  {
   "cell_type": "markdown",
   "metadata": {},
   "source": [
    "Na prática, isso significa que temos um incremento $k_1$  que aproxima $x_j$ do próximo passo, o qual usamos para calcular um outro candidato a incremento $k_2$ com base em $k_1$. O incremento final é a média entre eles. Esse é o método de Runge–Kutta de segunda ordem com dois estágios, ou simplesmente RK2."
   ]
  },
  {
   "cell_type": "markdown",
   "metadata": {},
   "source": [
    "#### Exercício 1\n",
    "\n",
    "Resolva novamente o exemplo do início do texto, a EDO\n",
    "\n",
    "$$\n",
    "\\frac{\\mathrm{d}x}{\\mathrm{d}t} = - x^3 + \\sin t.\n",
    "$$\n",
    "\n",
    "Obtenha a solução com $x=1$ em $t=0$ até $t=20$. Compare o resultado usando o métodos RK2 e usando o método de Euler. Use um número diferente de passos para cada método, para poder comparar a sua precisão."
   ]
  },
  {
   "cell_type": "code",
   "execution_count": 1,
   "metadata": {},
   "outputs": [],
   "source": [
    "import numpy as np\n",
    "\n",
    "x0 = 1\n",
    "t0 = 0.0\n",
    "tf = 20.0\n",
    "\n",
    "def f(x, t):\n",
    "    return -x**3 + np.sin(t)\n",
    "\n",
    "#Euler\n",
    "he = 0.5\n",
    "Ne = int((tf - t0)/he)\n",
    "te = np.zeros(Ne)\n",
    "xe = np.zeros(Ne)\n",
    "xe[0] = x0\n",
    "\n",
    "for i in range(Ne):\n",
    "    te[i] = t0 + i * he\n",
    "\n",
    "for j in range(Ne - 1):\n",
    "    xe[j+1] = xe[j] + he * f(xe[j], te[j])\n",
    "\n",
    "#RK2\n",
    "hr = 0.2\n",
    "Nr = int((tf - t0)/hr)\n",
    "tr = np.zeros(Nr)\n",
    "xr = np.zeros(Nr)\n",
    "xr[0] = x0\n",
    "\n",
    "for i in range(Nr):\n",
    "    tr[i] = t0 + i * hr\n",
    "\n",
    "for j in range(Nr - 1):\n",
    "    xr[j+1] = xr[j] + hr * f(xr[j], tr[j])"
   ]
  },
  {
   "cell_type": "markdown",
   "metadata": {},
   "source": [
    "Este é o método mais usado para obter soluções numéricas de EDOs. É necessário calcular $f(x)$ 2 vezes a cada iteração, porém o RK2 é preciso até termos de ordem $h^2$, com erros da ordem de $h^3$. Na prática, isto significa que o RK2 é muito mais preciso e eficiente do que o método de Euler, que tem erros da ordem de $h^2$."
   ]
  },
  {
   "cell_type": "markdown",
   "metadata": {},
   "source": [
    "Assim, em geral podemos usar o método RK2 com $h$ muito maiores (isto é, menos passos), e ainda assim ter resultados tão bons quanto os do método de Euler."
   ]
  },
  {
   "cell_type": "markdown",
   "metadata": {},
   "source": [
    "## EDOs com mais do que uma variável\n",
    "\n",
    "Na semana passada vimos um jeito simples de resolver problemas de dinâmica, onde temos duas EDOs acopladas, e achamos uma forma simples e *ad hoc* de resolvê-las com o método de Euler–Cromer. Podemos fazer o mesmo para o método de Runge–Kutta, porém vamos ser mais gerais, e resolver para quaisquer $M$ EDOs acopladas."
   ]
  },
  {
   "cell_type": "markdown",
   "metadata": {},
   "source": [
    "Considere primeiro as duas equações\n",
    "\n",
    "\\begin{align}\n",
    "\\frac{\\mathrm{d}x}{\\mathrm{d}t} &= xy - y \\\\\n",
    "\\frac{\\mathrm{d}y}{\\mathrm{d}t} &= y - xy + \\sin^2 \\omega t.\n",
    "\\end{align}"
   ]
  },
  {
   "cell_type": "markdown",
   "metadata": {},
   "source": [
    "Nestas equações, $x$ e $y$ são variáveis que dependem somente de $t$, mas não dependem uma da outra. Isto é, as soluções das EDOs são as funções $x(t)$ e $y(t)$, e somente $t$ é a variável independente (por isso as derivadas são completas, e não parciais). Mesmo sendo $x$ e $y$ independentes, elas estão acopladas pelas EDOs, tal que a derivada de $x$ pode depender de $y$ e vice-versa."
   ]
  },
  {
   "cell_type": "markdown",
   "metadata": {},
   "source": [
    "Uma boa parte das EDOs acopladas pode ser separada, e expressa da forma\n",
    "\n",
    "\\begin{align}\n",
    "\\frac{\\mathrm{d}x}{\\mathrm{d}t} &= f_x(x, y, t) \\\\\n",
    "\\frac{\\mathrm{d}y}{\\mathrm{d}t} &= f_y(x, y, t),\n",
    "\\end{align}"
   ]
  },
  {
   "cell_type": "markdown",
   "metadata": {},
   "source": [
    "onde $f_x$ e $f_y$ são funções gerais e possivelmente não-lineares de $x$, $y$, e $t$. Em situações onde esta separação não é possível, precisamos de outros métodos para resolver as EDOs, como métodos de relaxação. Veja a seção 8.6 do livro Computational Physics de Mark Newman."
   ]
  },
  {
   "cell_type": "markdown",
   "metadata": {},
   "source": [
    "Repare que, assim como um sistema linear, precisamos que o número de EDOs acopladas seja igual ao número de variáveis dependentes. Para um número arbitrário de variáveis e EDOs, podemos adotar uma notação vetorial, com $\\vec{r} = (x, y, \\ldots)$ e $\\vec{f} = \\left(f_x(\\vec{r}, t), f_y(\\vec{r}, t), \\ldots \\right)$, e escrever simplesmente\n",
    "\n",
    "\n",
    "\\begin{align}\n",
    "\\frac{\\mathrm{d}\\vec{r}}{\\mathrm{d}t} &= \\vec{f}(\\vec{r}, t).\n",
    "\\end{align}"
   ]
  },
  {
   "cell_type": "markdown",
   "metadata": {},
   "source": [
    "Na prática, $\\vec{f}$ é uma função que recebe um vetor $\\vec{r}$ com as $M$ variáveis dependentes, e retorna um vetor do mesmo tamanho com o resultado. Isto é muito fácil de programar em Python usando numpy arrays bidimensionais (isto é, matrizes). O método de Euler segue facilmente fazendo o mesmo raciocínio da semana passada, mas usando vetores. Fazendo a expansão de Taylor do vetor $\\vec{r}$,\n",
    "\n",
    "\\begin{align}\n",
    "\\vec{r}(t+h) &= \\vec{r}(t) + h \\frac{\\mathrm{d}\\vec{r}}{\\mathrm{d}t} + \\frac{1}{2} h^2\\frac{\\mathrm{d}^2\\vec{r}}{\\mathrm{d}t^2} + \\ldots \\\\\n",
    "\\vec{r}(t+h) &\\cong \\vec{r}(t) + h \\vec{f}.\n",
    "\\end{align}"
   ]
  },
  {
   "cell_type": "markdown",
   "metadata": {},
   "source": [
    "Do mesmo jeito, o método de Runge–Kutta pode ser generalizado para vetores, ficando da forma\n",
    "\n",
    "\\begin{align}\n",
    "\\vec{k_1} &= h \\vec{f}(\\vec{r}, t) \\\\\n",
    "\\vec{k_2} &= h \\vec{f}(\\vec{r} + \\vec{k_1}, t + h) \\\\\n",
    "\\vec{r}(t+h) &= \\vec{r}(t) + \\frac 1 2 (\\vec{k_1} + \\vec{k_2}).\n",
    "\\end{align}"
   ]
  },
  {
   "cell_type": "markdown",
   "metadata": {},
   "source": [
    "Neste caso, os valores auxiliares $\\vec{k_1}$ e $\\vec{k_2}$ são vetores de mesmas dimensões que $\\vec{r}$, com $M$ componentes."
   ]
  },
  {
   "cell_type": "markdown",
   "metadata": {},
   "source": [
    "#### Exemplo\n",
    "\n",
    "Vamos resolver as equações dadas como exemplo acima,\n",
    "\n",
    "\\begin{align}\n",
    "\\frac{\\mathrm{d}x}{\\mathrm{d}t} &= xy - x \\\\\n",
    "\\frac{\\mathrm{d}y}{\\mathrm{d}t} &= y - xy + \\sin^2 \\omega t,\n",
    "\\end{align}\n",
    "\n",
    "com $\\omega = 1$, de $t = 0$ até $t = 10$ em $N = 1000$ passos. Como condições iniciais, tome $x = 1.5$ e $y = 1$ em $t=0$."
   ]
  },
  {
   "cell_type": "markdown",
   "metadata": {},
   "source": [
    "Aqui temos as variáveis dependentes $x$ e $y$, $M = 2$. Vamos tomar alguns cuidados na hora de decidir a representação de $\\vec{f}$ e $\\vec{r}$, e veremos que o programa fica virtualmente idêntico ao que já fizemos acima."
   ]
  },
  {
   "cell_type": "markdown",
   "metadata": {},
   "source": [
    "Uma representação possível é usar arrays de 2 elementos para representar $\\vec{r} = (x, y)$. Neste caso, precisamos de um array de $N$ elementos para guardar a solução, onde cada elemento é também um array de $M$ elementos. Isso pode ser feito usando um array bidimensional, que é como uma matriz $N \\times M$."
   ]
  },
  {
   "cell_type": "markdown",
   "metadata": {},
   "source": [
    "Vamos aproveitar e já definir as condições iniciais e o passo de tempo."
   ]
  },
  {
   "cell_type": "code",
   "execution_count": 2,
   "metadata": {},
   "outputs": [],
   "source": [
    "import numpy as np\n",
    "N = 100\n",
    "t0 = 0\n",
    "tf = 10\n",
    "\n",
    "# Passo de tempo\n",
    "h = (tf - t0) / N\n",
    "\n",
    "# Instantes de tempo\n",
    "t = np.arange(t0, tf, h)\n",
    "\n",
    "# (N, M) é uma tupla, que indica um array multidimensional.\n",
    "# A ordem importa!\n",
    "M = 2\n",
    "dimensões = (N, M)\n",
    "r = np.zeros((dimensões))\n",
    "\n",
    "# Condição inicial\n",
    "r[0, :] = [1.5, 1]\n",
    "# igualmente correto\n",
    "#r[0] = [1.5, 1]"
   ]
  },
  {
   "cell_type": "markdown",
   "metadata": {},
   "source": [
    "Em seguida, vamos definir a função Python que calcula $\\vec{f}(\\vec{r}, t)$."
   ]
  },
  {
   "cell_type": "code",
   "execution_count": 3,
   "metadata": {},
   "outputs": [],
   "source": [
    "def f(r, t):\n",
    "    # r tem 2 elementos.\n",
    "    # \"desempacotando\" as variáveis independentes\n",
    "    x = r[0]\n",
    "    y = r[1]\n",
    "    \n",
    "    # Calculando as duas funções\n",
    "    f_x = x * y - x\n",
    "    f_y = y - x * y + np.sin(t) ** 2\n",
    "    \n",
    "    # Retornando um array de 2 elementos.\n",
    "    return np.array([f_x, f_y])"
   ]
  },
  {
   "cell_type": "markdown",
   "metadata": {},
   "source": [
    "É interessante verificar como ficam os cálculos intermediários usando agora valores vetoriais."
   ]
  },
  {
   "cell_type": "code",
   "execution_count": 4,
   "metadata": {},
   "outputs": [
    {
     "name": "stdout",
     "output_type": "stream",
     "text": [
      "Em t = 0, as variáveis são [1.5 1. ]\n",
      "em t = 0, dr/dt = [ 0.  -0.5]\n"
     ]
    }
   ],
   "source": [
    "print(f'Em t = {t0}, as variáveis são {r[0]}')\n",
    "\n",
    "drdt = f(r[0], t0)\n",
    "print(f'em t = {t0}, dr/dt = {drdt}')"
   ]
  },
  {
   "cell_type": "code",
   "execution_count": 5,
   "metadata": {},
   "outputs": [
    {
     "name": "stdout",
     "output_type": "stream",
     "text": [
      "k1 = [ 0.   -0.05]\n",
      "k2 = [-0.0075     -0.04650333]\n",
      "r_1 = [1.49625    0.95174834]\n"
     ]
    }
   ],
   "source": [
    "k1 = h * f(r[0], t0)\n",
    "k2 = h * f(r[0] + k1, t[1])\n",
    "print(f'k1 = {k1}')\n",
    "print(f'k2 = {k2}')\n",
    "print(f'r_1 = {r[0] + 0.5 * (k1 + k2)}')"
   ]
  },
  {
   "cell_type": "markdown",
   "metadata": {},
   "source": [
    "Podemos ver que, quando definimos as variáveis e as funções desta forma, o código pode ser exatamente o mesmo usado anteriormente."
   ]
  },
  {
   "cell_type": "code",
   "execution_count": 6,
   "metadata": {},
   "outputs": [],
   "source": [
    "for j in range(N - 1):\n",
    "    k1 = h * f(r[j], t[j])\n",
    "    k2 = h * f(r[j] + k1, t[j + 1])\n",
    "    r[j + 1] = r[j] + 0.5 * (k1 + k2)\n",
    "\n",
    "# Separar o array r nas variáveis\n",
    "x = r[:, 0]\n",
    "y = r[:, 1]"
   ]
  },
  {
   "cell_type": "code",
   "execution_count": 7,
   "metadata": {},
   "outputs": [
    {
     "name": "stderr",
     "output_type": "stream",
     "text": [
      "/var/folders/_4/4_jgl64j4s9bfwjs2dlqlrbh0000gn/T/ipykernel_76796/2519064835.py:4: MatplotlibDeprecationWarning: The seaborn styles shipped by Matplotlib are deprecated since 3.6, as they no longer correspond to the styles shipped by seaborn. However, they will remain available as 'seaborn-v0_8-<style>'. Alternatively, directly use the seaborn API instead.\n",
      "  plt.style.use('seaborn-bright')\n"
     ]
    }
   ],
   "source": [
    "# Inicialização\n",
    "import numpy as np\n",
    "import matplotlib.pyplot as plt\n",
    "plt.style.use('seaborn-bright')\n",
    "plt.rcParams['font.family'] = 'serif'\n",
    "plt.rcParams['mathtext.fontset'] = 'stix'"
   ]
  },
  {
   "cell_type": "code",
   "execution_count": 8,
   "metadata": {},
   "outputs": [
    {
     "data": {
      "image/png": "[encoded data removed]",
      "text/plain": [
       "<Figure size 640x480 with 1 Axes>"
      ]
     },
     "metadata": {},
     "output_type": "display_data"
    }
   ],
   "source": [
    "fig, ax = plt.subplots()\n",
    "ax.plot(t, x, 'r-', label=f'$x(t)$')\n",
    "ax.plot(t, y, 'b-', label=f'$y(t)$')\n",
    "ax.set_xlabel('$t$')\n",
    "ax.set_ylim(0.0, 3.0)\n",
    "ax.legend(frameon=False, loc='upper right')\n",
    "plt.show()"
   ]
  },
  {
   "cell_type": "markdown",
   "metadata": {},
   "source": [
    "#### Exercício 2\n",
    "\n",
    "Calcule a órbita aproximada, em duas dimensões, de um planeta ao redor do Sol, supondo que ele tem uma massa muito menor que a solar. Considere a força gravitacional\n",
    "\n",
    "\\begin{align}\n",
    "\\vec{F} &= \\frac{GMm}{r^3} \\vec{r} \\\\\n",
    "&= \\frac{GMm}{r^3} x \\hat{i} + \\frac{GMm}{r^3} y \\hat{j},\n",
    "\\end{align}"
   ]
  },
  {
   "cell_type": "markdown",
   "metadata": {},
   "source": [
    "com $r = \\sqrt{x^2 + y^2}$, $M$ é a massa do Sol e $m$ é a massa do planeta. Neste caso as equações de movimento ficam\n",
    "\n",
    "\\begin{align}\n",
    "\\frac{\\mathrm{d}x}{\\mathrm{d}t} &= v_x \\\\\n",
    "\\frac{\\mathrm{d}v_x}{\\mathrm{d}t} &=\\frac{GM}{r^3} x \\\\\n",
    "\\frac{\\mathrm{d}y}{\\mathrm{d}t} &= v_y \\\\\n",
    "\\frac{\\mathrm{d}v_y}{\\mathrm{d}t} &=\\frac{GM}{r^3} y \\\\\n",
    "\\end{align}"
   ]
  },
  {
   "cell_type": "markdown",
   "metadata": {},
   "source": [
    "Resolva o problema em unidades mais convenientes, com distâncias em unidades astronômicas e tempo em anos. Nessas unidades, $G = 1.9853516 \\times 10^{-29}\\,\\mathrm{au}^3\\,\\mathrm{kg}^{-1}\\,\\mathrm{a}^{-2}$. Use como massa do Sol $M_\\odot = 1.98847 \\times 10^{30}\\,\\mathrm{kg}$. Desenhe o gráfico da órbita."
   ]
  },
  {
   "cell_type": "code",
   "execution_count": null,
   "metadata": {},
   "outputs": [],
   "source": []
  }
 ],
 "metadata": {
  "kernelspec": {
   "display_name": "Python 3 (ipykernel)",
   "language": "python",
   "name": "python3"
  },
  "language_info": {
   "codemirror_mode": {
    "name": "ipython",
    "version": 3
   },
   "file_extension": ".py",
   "mimetype": "text/x-python",
   "name": "python",
   "nbconvert_exporter": "python",
   "pygments_lexer": "ipython3",
   "version": "3.11.5"
  }
 },
 "nbformat": 4,
 "nbformat_minor": 4
}
