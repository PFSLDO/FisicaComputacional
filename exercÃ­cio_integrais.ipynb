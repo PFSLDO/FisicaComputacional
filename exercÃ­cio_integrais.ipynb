{
 "cells": [
  {
   "cell_type": "markdown",
   "metadata": {},
   "source": [
    "# Exercício\n",
    "\n",
    "## Função erro"
   ]
  },
  {
   "cell_type": "markdown",
   "metadata": {},
   "source": [
    "Considere a integral\n",
    "\n",
    "$$\n",
    "\\mathrm{erf}(x) = \\frac{2}{\\sqrt{\\pi}} \\int_0^x \\mathrm{e}^{-t^2}\\ \\mathrm{d}t.\n",
    "$$"
   ]
  },
  {
   "cell_type": "markdown",
   "metadata": {},
   "source": [
    "Note que esta é uma integral definida, sobre a variável $t$, com o limite superior variável. Ou seja, o resultado é uma função de $x$, chamada de *função erro*, que aparece muito em cálculos de probabilidade. Não existe maneira conhecida de resolver esta integral analiticamente. A única forma de resolvê-la é numericamente."
   ]
  },
  {
   "cell_type": "markdown",
   "metadata": {},
   "source": [
    "**a.** Calcule numericamente $\\mathrm{erf}(x=1)$. Escolha você mesmo o método (exceto a regra retangular) e o número de intervalos. Não esqueça de fazer um print do resultado.\n",
    "\n",
    "*Resposta*: $\\mathrm{erf}(1.0) \\cong 0.8427$."
   ]
  },
  {
   "cell_type": "code",
   "execution_count": 1,
   "metadata": {
    "nbgrader": {
     "grade": true,
     "grade_id": "cell-54205ce49d485392",
     "locked": false,
     "points": 2,
     "schema_version": 3,
     "solution": true,
     "task": false
    }
   },
   "outputs": [
    {
     "name": "stdout",
     "output_type": "stream",
     "text": [
      "0.8427007929497148\n"
     ]
    }
   ],
   "source": [
    "import numpy as np\n",
    "from scipy.special import roots_legendre\n",
    "\n",
    "def f(x):\n",
    "    return np.exp(-x**2)\n",
    "\n",
    "def calcula_I_gauss(lim2):\n",
    "    I = 0.0\n",
    "    u_k, w_linha_k = roots_legendre(20)\n",
    "\n",
    "    for i in range(20):\n",
    "        w_k = (lim2) * w_linha_k[i] / 2\n",
    "        x_k = ((lim2) * u_k[i] / 2) + ((lim2) / 2)\n",
    "        I = I + w_k * f(x_k)\n",
    "    return 2 * I / np.sqrt(np.pi)\n",
    "\n",
    "print(calcula_I_gauss(1.0))"
   ]
  },
  {
   "cell_type": "markdown",
   "metadata": {},
   "source": [
    "**b.** Programe a função abaixo tal que ela calcule $\\mathrm{erf}(x)$ para um $x$ qualquer passado como parâmetro.\n",
    "Utilizando a função que você programou, calcule $\\mathrm{erf}(1.0)$. O resultado deve ser igual ao do item anterior."
   ]
  },
  {
   "cell_type": "code",
   "execution_count": 2,
   "metadata": {
    "nbgrader": {
     "grade": true,
     "grade_id": "cell-acef7d7e96fe56b3",
     "locked": false,
     "points": 2,
     "schema_version": 3,
     "solution": true,
     "task": false
    }
   },
   "outputs": [
    {
     "name": "stdout",
     "output_type": "stream",
     "text": [
      "erf(1.0) = 0.8427\n"
     ]
    }
   ],
   "source": [
    "def integralSimpsonGeral(lim2):\n",
    "    lim1 = 0.0\n",
    "    N = 200\n",
    "    h = lim2 / N\n",
    "    integralImp = 0\n",
    "    integralPar = 0\n",
    "    integral = 0\n",
    "    xi = 0\n",
    "\n",
    "    for i in range(1, N, 2): #impares\n",
    "        xi = lim1 + i*h\n",
    "        integralImp += f(xi)\n",
    "        \n",
    "    xi = 0\n",
    "    for i in range(2, N, 2): #pares\n",
    "        xi = lim1 + i*h\n",
    "        integralPar += f(xi)\n",
    "        \n",
    "    integral = h * (4 * integralImp + 2 * integralPar + f(lim1) + f(lim2)) / 3\n",
    "    resultado = 2 * integral / (np.sqrt(np.pi))\n",
    "    return resultado\n",
    "\n",
    "erf_1 = integralSimpsonGeral(1.0)\n",
    "print(f'erf(1.0) = {erf_1:.4f}')"
   ]
  },
  {
   "cell_type": "markdown",
   "metadata": {},
   "source": [
    "**c.** Usando a função programada acima, faça o gráfico de $\\mathrm{erf}(x)$ para $-3 < x < 3$, com pontos em intervalos de $0.1$. Não esqueça das etiquetas dos eixos e do título.\n",
    "\n",
    "Compare o seu gráfico com o que aparece na [página da Wikipedia sobre função erro](https://en.wikipedia.org/wiki/Error_function), para saber se o resultado está correto."
   ]
  },
  {
   "cell_type": "code",
   "execution_count": 3,
   "metadata": {
    "nbgrader": {
     "grade": true,
     "grade_id": "cell-d6d79977eb47d70b",
     "locked": false,
     "points": 2,
     "schema_version": 3,
     "solution": true,
     "task": false
    }
   },
   "outputs": [
    {
     "data": {
      "image/png": "[encoded data removed]",
      "text/plain": [
       "<Figure size 640x480 with 1 Axes>"
      ]
     },
     "metadata": {},
     "output_type": "display_data"
    }
   ],
   "source": [
    "import matplotlib.pyplot as plt\n",
    "\n",
    "plt.style.use('ggplot')\n",
    "plt.rcParams['font.family'] = 'serif'\n",
    "plt.rcParams['mathtext.fontset'] = 'stix'\n",
    "\n",
    "lista_N = []\n",
    "lista_I = []\n",
    "\n",
    "x = -3.0\n",
    "while (x < 3):\n",
    "    lista_N.append(x)\n",
    "    lista_I.append(calcula_I_gauss(x))\n",
    "    x += 0.1\n",
    "\n",
    "fig, ax = plt.subplots()\n",
    "ax.axhline(0.0, ls=':', color='k')\n",
    "ax.plot(lista_N, lista_I, label=\"Metodo Gauss\")\n",
    "ax.set_title(\"Error function\")\n",
    "ax.legend()\n",
    "plt.show()"
   ]
  }
 ],
 "metadata": {
  "celltoolbar": "Create Assignment",
  "kernelspec": {
   "display_name": "Python 3 (ipykernel)",
   "language": "python",
   "name": "python3"
  },
  "language_info": {
   "codemirror_mode": {
    "name": "ipython",
    "version": 3
   },
   "file_extension": ".py",
   "mimetype": "text/x-python",
   "name": "python",
   "nbconvert_exporter": "python",
   "pygments_lexer": "ipython3",
   "version": "3.11.5"
  }
 },
 "nbformat": 4,
 "nbformat_minor": 4
}
