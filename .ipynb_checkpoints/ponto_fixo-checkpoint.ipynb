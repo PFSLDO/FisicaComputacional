{
 "cells": [
  {
   "cell_type": "markdown",
   "metadata": {},
   "source": [
    "# Equações não-lineares de uma variável"
   ]
  },
  {
   "cell_type": "markdown",
   "metadata": {},
   "source": [
    "## Método do ponto fixo\n",
    "\n",
    "O método da bisseção, tem seus prós e contras. Funciona para qualquer equação, desde que tenhamos os pontos cercando a raiz. Existe um método alternativo bastante simples, chamado método do ponto fixo, ou método de relaxação, que pode funcionar bem em alguns casos. Sempre que temos uma equação da forma $f(x) = 0$, pode-se rescrevê-la como\n",
    "\n",
    "$$\n",
    "x = g(x).\n",
    "$$"
   ]
  },
  {
   "cell_type": "markdown",
   "metadata": {},
   "source": [
    "Vamos ver o caso da equação\n",
    "\n",
    "$$\n",
    "x = 2 - \\mathrm{e}^{-x}.\n",
    "$$\n",
    "\n",
    "Primeiro, definimos a função $g(x)$ em Python."
   ]
  },
  {
   "cell_type": "code",
   "execution_count": 1,
   "metadata": {},
   "outputs": [
    {
     "ename": "ValueError",
     "evalue": "\n$$\n^\nParseException: Expected end of text, found '$'  (at char 0), (line:1, col:1)",
     "output_type": "error",
     "traceback": [
      "\u001b[0;31m---------------------------------------------------------------------------\u001b[0m",
      "\u001b[0;31mValueError\u001b[0m                                Traceback (most recent call last)",
      "File \u001b[0;32m/opt/homebrew/anaconda3/lib/python3.11/site-packages/IPython/core/formatters.py:340\u001b[0m, in \u001b[0;36mBaseFormatter.__call__\u001b[0;34m(self, obj)\u001b[0m\n\u001b[1;32m    338\u001b[0m     \u001b[38;5;28;01mpass\u001b[39;00m\n\u001b[1;32m    339\u001b[0m \u001b[38;5;28;01melse\u001b[39;00m:\n\u001b[0;32m--> 340\u001b[0m     \u001b[38;5;28;01mreturn\u001b[39;00m printer(obj)\n\u001b[1;32m    341\u001b[0m \u001b[38;5;66;03m# Finally look for special method names\u001b[39;00m\n\u001b[1;32m    342\u001b[0m method \u001b[38;5;241m=\u001b[39m get_real_method(obj, \u001b[38;5;28mself\u001b[39m\u001b[38;5;241m.\u001b[39mprint_method)\n",
      "File \u001b[0;32m/opt/homebrew/anaconda3/lib/python3.11/site-packages/IPython/core/pylabtools.py:152\u001b[0m, in \u001b[0;36mprint_figure\u001b[0;34m(fig, fmt, bbox_inches, base64, **kwargs)\u001b[0m\n\u001b[1;32m    149\u001b[0m     \u001b[38;5;28;01mfrom\u001b[39;00m \u001b[38;5;21;01mmatplotlib\u001b[39;00m\u001b[38;5;21;01m.\u001b[39;00m\u001b[38;5;21;01mbackend_bases\u001b[39;00m \u001b[38;5;28;01mimport\u001b[39;00m FigureCanvasBase\n\u001b[1;32m    150\u001b[0m     FigureCanvasBase(fig)\n\u001b[0;32m--> 152\u001b[0m fig\u001b[38;5;241m.\u001b[39mcanvas\u001b[38;5;241m.\u001b[39mprint_figure(bytes_io, \u001b[38;5;241m*\u001b[39m\u001b[38;5;241m*\u001b[39mkw)\n\u001b[1;32m    153\u001b[0m data \u001b[38;5;241m=\u001b[39m bytes_io\u001b[38;5;241m.\u001b[39mgetvalue()\n\u001b[1;32m    154\u001b[0m \u001b[38;5;28;01mif\u001b[39;00m fmt \u001b[38;5;241m==\u001b[39m \u001b[38;5;124m'\u001b[39m\u001b[38;5;124msvg\u001b[39m\u001b[38;5;124m'\u001b[39m:\n",
      "File \u001b[0;32m/opt/homebrew/anaconda3/lib/python3.11/site-packages/matplotlib/backend_bases.py:2342\u001b[0m, in \u001b[0;36mFigureCanvasBase.print_figure\u001b[0;34m(self, filename, dpi, facecolor, edgecolor, orientation, format, bbox_inches, pad_inches, bbox_extra_artists, backend, **kwargs)\u001b[0m\n\u001b[1;32m   2336\u001b[0m     renderer \u001b[38;5;241m=\u001b[39m _get_renderer(\n\u001b[1;32m   2337\u001b[0m         \u001b[38;5;28mself\u001b[39m\u001b[38;5;241m.\u001b[39mfigure,\n\u001b[1;32m   2338\u001b[0m         functools\u001b[38;5;241m.\u001b[39mpartial(\n\u001b[1;32m   2339\u001b[0m             print_method, orientation\u001b[38;5;241m=\u001b[39morientation)\n\u001b[1;32m   2340\u001b[0m     )\n\u001b[1;32m   2341\u001b[0m     \u001b[38;5;28;01mwith\u001b[39;00m \u001b[38;5;28mgetattr\u001b[39m(renderer, \u001b[38;5;124m\"\u001b[39m\u001b[38;5;124m_draw_disabled\u001b[39m\u001b[38;5;124m\"\u001b[39m, nullcontext)():\n\u001b[0;32m-> 2342\u001b[0m         \u001b[38;5;28mself\u001b[39m\u001b[38;5;241m.\u001b[39mfigure\u001b[38;5;241m.\u001b[39mdraw(renderer)\n\u001b[1;32m   2344\u001b[0m \u001b[38;5;28;01mif\u001b[39;00m bbox_inches:\n\u001b[1;32m   2345\u001b[0m     \u001b[38;5;28;01mif\u001b[39;00m bbox_inches \u001b[38;5;241m==\u001b[39m \u001b[38;5;124m\"\u001b[39m\u001b[38;5;124mtight\u001b[39m\u001b[38;5;124m\"\u001b[39m:\n",
      "File \u001b[0;32m/opt/homebrew/anaconda3/lib/python3.11/site-packages/matplotlib/artist.py:95\u001b[0m, in \u001b[0;36m_finalize_rasterization.<locals>.draw_wrapper\u001b[0;34m(artist, renderer, *args, **kwargs)\u001b[0m\n\u001b[1;32m     93\u001b[0m \u001b[38;5;129m@wraps\u001b[39m(draw)\n\u001b[1;32m     94\u001b[0m \u001b[38;5;28;01mdef\u001b[39;00m \u001b[38;5;21mdraw_wrapper\u001b[39m(artist, renderer, \u001b[38;5;241m*\u001b[39margs, \u001b[38;5;241m*\u001b[39m\u001b[38;5;241m*\u001b[39mkwargs):\n\u001b[0;32m---> 95\u001b[0m     result \u001b[38;5;241m=\u001b[39m draw(artist, renderer, \u001b[38;5;241m*\u001b[39margs, \u001b[38;5;241m*\u001b[39m\u001b[38;5;241m*\u001b[39mkwargs)\n\u001b[1;32m     96\u001b[0m     \u001b[38;5;28;01mif\u001b[39;00m renderer\u001b[38;5;241m.\u001b[39m_rasterizing:\n\u001b[1;32m     97\u001b[0m         renderer\u001b[38;5;241m.\u001b[39mstop_rasterizing()\n",
      "File \u001b[0;32m/opt/homebrew/anaconda3/lib/python3.11/site-packages/matplotlib/artist.py:72\u001b[0m, in \u001b[0;36mallow_rasterization.<locals>.draw_wrapper\u001b[0;34m(artist, renderer)\u001b[0m\n\u001b[1;32m     69\u001b[0m     \u001b[38;5;28;01mif\u001b[39;00m artist\u001b[38;5;241m.\u001b[39mget_agg_filter() \u001b[38;5;129;01mis\u001b[39;00m \u001b[38;5;129;01mnot\u001b[39;00m \u001b[38;5;28;01mNone\u001b[39;00m:\n\u001b[1;32m     70\u001b[0m         renderer\u001b[38;5;241m.\u001b[39mstart_filter()\n\u001b[0;32m---> 72\u001b[0m     \u001b[38;5;28;01mreturn\u001b[39;00m draw(artist, renderer)\n\u001b[1;32m     73\u001b[0m \u001b[38;5;28;01mfinally\u001b[39;00m:\n\u001b[1;32m     74\u001b[0m     \u001b[38;5;28;01mif\u001b[39;00m artist\u001b[38;5;241m.\u001b[39mget_agg_filter() \u001b[38;5;129;01mis\u001b[39;00m \u001b[38;5;129;01mnot\u001b[39;00m \u001b[38;5;28;01mNone\u001b[39;00m:\n",
      "File \u001b[0;32m/opt/homebrew/anaconda3/lib/python3.11/site-packages/matplotlib/figure.py:3175\u001b[0m, in \u001b[0;36mFigure.draw\u001b[0;34m(self, renderer)\u001b[0m\n\u001b[1;32m   3172\u001b[0m         \u001b[38;5;66;03m# ValueError can occur when resizing a window.\u001b[39;00m\n\u001b[1;32m   3174\u001b[0m \u001b[38;5;28mself\u001b[39m\u001b[38;5;241m.\u001b[39mpatch\u001b[38;5;241m.\u001b[39mdraw(renderer)\n\u001b[0;32m-> 3175\u001b[0m mimage\u001b[38;5;241m.\u001b[39m_draw_list_compositing_images(\n\u001b[1;32m   3176\u001b[0m     renderer, \u001b[38;5;28mself\u001b[39m, artists, \u001b[38;5;28mself\u001b[39m\u001b[38;5;241m.\u001b[39msuppressComposite)\n\u001b[1;32m   3178\u001b[0m \u001b[38;5;28;01mfor\u001b[39;00m sfig \u001b[38;5;129;01min\u001b[39;00m \u001b[38;5;28mself\u001b[39m\u001b[38;5;241m.\u001b[39msubfigs:\n\u001b[1;32m   3179\u001b[0m     sfig\u001b[38;5;241m.\u001b[39mdraw(renderer)\n",
      "File \u001b[0;32m/opt/homebrew/anaconda3/lib/python3.11/site-packages/matplotlib/image.py:131\u001b[0m, in \u001b[0;36m_draw_list_compositing_images\u001b[0;34m(renderer, parent, artists, suppress_composite)\u001b[0m\n\u001b[1;32m    129\u001b[0m \u001b[38;5;28;01mif\u001b[39;00m not_composite \u001b[38;5;129;01mor\u001b[39;00m \u001b[38;5;129;01mnot\u001b[39;00m has_images:\n\u001b[1;32m    130\u001b[0m     \u001b[38;5;28;01mfor\u001b[39;00m a \u001b[38;5;129;01min\u001b[39;00m artists:\n\u001b[0;32m--> 131\u001b[0m         a\u001b[38;5;241m.\u001b[39mdraw(renderer)\n\u001b[1;32m    132\u001b[0m \u001b[38;5;28;01melse\u001b[39;00m:\n\u001b[1;32m    133\u001b[0m     \u001b[38;5;66;03m# Composite any adjacent images together\u001b[39;00m\n\u001b[1;32m    134\u001b[0m     image_group \u001b[38;5;241m=\u001b[39m []\n",
      "File \u001b[0;32m/opt/homebrew/anaconda3/lib/python3.11/site-packages/matplotlib/artist.py:72\u001b[0m, in \u001b[0;36mallow_rasterization.<locals>.draw_wrapper\u001b[0;34m(artist, renderer)\u001b[0m\n\u001b[1;32m     69\u001b[0m     \u001b[38;5;28;01mif\u001b[39;00m artist\u001b[38;5;241m.\u001b[39mget_agg_filter() \u001b[38;5;129;01mis\u001b[39;00m \u001b[38;5;129;01mnot\u001b[39;00m \u001b[38;5;28;01mNone\u001b[39;00m:\n\u001b[1;32m     70\u001b[0m         renderer\u001b[38;5;241m.\u001b[39mstart_filter()\n\u001b[0;32m---> 72\u001b[0m     \u001b[38;5;28;01mreturn\u001b[39;00m draw(artist, renderer)\n\u001b[1;32m     73\u001b[0m \u001b[38;5;28;01mfinally\u001b[39;00m:\n\u001b[1;32m     74\u001b[0m     \u001b[38;5;28;01mif\u001b[39;00m artist\u001b[38;5;241m.\u001b[39mget_agg_filter() \u001b[38;5;129;01mis\u001b[39;00m \u001b[38;5;129;01mnot\u001b[39;00m \u001b[38;5;28;01mNone\u001b[39;00m:\n",
      "File \u001b[0;32m/opt/homebrew/anaconda3/lib/python3.11/site-packages/matplotlib/axes/_base.py:3064\u001b[0m, in \u001b[0;36m_AxesBase.draw\u001b[0;34m(self, renderer)\u001b[0m\n\u001b[1;32m   3061\u001b[0m \u001b[38;5;28;01mif\u001b[39;00m artists_rasterized:\n\u001b[1;32m   3062\u001b[0m     _draw_rasterized(\u001b[38;5;28mself\u001b[39m\u001b[38;5;241m.\u001b[39mfigure, artists_rasterized, renderer)\n\u001b[0;32m-> 3064\u001b[0m mimage\u001b[38;5;241m.\u001b[39m_draw_list_compositing_images(\n\u001b[1;32m   3065\u001b[0m     renderer, \u001b[38;5;28mself\u001b[39m, artists, \u001b[38;5;28mself\u001b[39m\u001b[38;5;241m.\u001b[39mfigure\u001b[38;5;241m.\u001b[39msuppressComposite)\n\u001b[1;32m   3067\u001b[0m renderer\u001b[38;5;241m.\u001b[39mclose_group(\u001b[38;5;124m'\u001b[39m\u001b[38;5;124maxes\u001b[39m\u001b[38;5;124m'\u001b[39m)\n\u001b[1;32m   3068\u001b[0m \u001b[38;5;28mself\u001b[39m\u001b[38;5;241m.\u001b[39mstale \u001b[38;5;241m=\u001b[39m \u001b[38;5;28;01mFalse\u001b[39;00m\n",
      "File \u001b[0;32m/opt/homebrew/anaconda3/lib/python3.11/site-packages/matplotlib/image.py:131\u001b[0m, in \u001b[0;36m_draw_list_compositing_images\u001b[0;34m(renderer, parent, artists, suppress_composite)\u001b[0m\n\u001b[1;32m    129\u001b[0m \u001b[38;5;28;01mif\u001b[39;00m not_composite \u001b[38;5;129;01mor\u001b[39;00m \u001b[38;5;129;01mnot\u001b[39;00m has_images:\n\u001b[1;32m    130\u001b[0m     \u001b[38;5;28;01mfor\u001b[39;00m a \u001b[38;5;129;01min\u001b[39;00m artists:\n\u001b[0;32m--> 131\u001b[0m         a\u001b[38;5;241m.\u001b[39mdraw(renderer)\n\u001b[1;32m    132\u001b[0m \u001b[38;5;28;01melse\u001b[39;00m:\n\u001b[1;32m    133\u001b[0m     \u001b[38;5;66;03m# Composite any adjacent images together\u001b[39;00m\n\u001b[1;32m    134\u001b[0m     image_group \u001b[38;5;241m=\u001b[39m []\n",
      "File \u001b[0;32m/opt/homebrew/anaconda3/lib/python3.11/site-packages/matplotlib/artist.py:72\u001b[0m, in \u001b[0;36mallow_rasterization.<locals>.draw_wrapper\u001b[0;34m(artist, renderer)\u001b[0m\n\u001b[1;32m     69\u001b[0m     \u001b[38;5;28;01mif\u001b[39;00m artist\u001b[38;5;241m.\u001b[39mget_agg_filter() \u001b[38;5;129;01mis\u001b[39;00m \u001b[38;5;129;01mnot\u001b[39;00m \u001b[38;5;28;01mNone\u001b[39;00m:\n\u001b[1;32m     70\u001b[0m         renderer\u001b[38;5;241m.\u001b[39mstart_filter()\n\u001b[0;32m---> 72\u001b[0m     \u001b[38;5;28;01mreturn\u001b[39;00m draw(artist, renderer)\n\u001b[1;32m     73\u001b[0m \u001b[38;5;28;01mfinally\u001b[39;00m:\n\u001b[1;32m     74\u001b[0m     \u001b[38;5;28;01mif\u001b[39;00m artist\u001b[38;5;241m.\u001b[39mget_agg_filter() \u001b[38;5;129;01mis\u001b[39;00m \u001b[38;5;129;01mnot\u001b[39;00m \u001b[38;5;28;01mNone\u001b[39;00m:\n",
      "File \u001b[0;32m/opt/homebrew/anaconda3/lib/python3.11/site-packages/matplotlib/legend.py:726\u001b[0m, in \u001b[0;36mLegend.draw\u001b[0;34m(self, renderer)\u001b[0m\n\u001b[1;32m    722\u001b[0m     \u001b[38;5;28mself\u001b[39m\u001b[38;5;241m.\u001b[39m_legend_box\u001b[38;5;241m.\u001b[39mset_width(\u001b[38;5;28mself\u001b[39m\u001b[38;5;241m.\u001b[39mget_bbox_to_anchor()\u001b[38;5;241m.\u001b[39mwidth \u001b[38;5;241m-\u001b[39m pad)\n\u001b[1;32m    724\u001b[0m \u001b[38;5;66;03m# update the location and size of the legend. This needs to\u001b[39;00m\n\u001b[1;32m    725\u001b[0m \u001b[38;5;66;03m# be done in any case to clip the figure right.\u001b[39;00m\n\u001b[0;32m--> 726\u001b[0m bbox \u001b[38;5;241m=\u001b[39m \u001b[38;5;28mself\u001b[39m\u001b[38;5;241m.\u001b[39m_legend_box\u001b[38;5;241m.\u001b[39mget_window_extent(renderer)\n\u001b[1;32m    727\u001b[0m \u001b[38;5;28mself\u001b[39m\u001b[38;5;241m.\u001b[39mlegendPatch\u001b[38;5;241m.\u001b[39mset_bounds(bbox\u001b[38;5;241m.\u001b[39mbounds)\n\u001b[1;32m    728\u001b[0m \u001b[38;5;28mself\u001b[39m\u001b[38;5;241m.\u001b[39mlegendPatch\u001b[38;5;241m.\u001b[39mset_mutation_scale(fontsize)\n",
      "File \u001b[0;32m/opt/homebrew/anaconda3/lib/python3.11/site-packages/matplotlib/offsetbox.py:400\u001b[0m, in \u001b[0;36mOffsetBox.get_window_extent\u001b[0;34m(self, renderer)\u001b[0m\n\u001b[1;32m    398\u001b[0m \u001b[38;5;28;01mif\u001b[39;00m renderer \u001b[38;5;129;01mis\u001b[39;00m \u001b[38;5;28;01mNone\u001b[39;00m:\n\u001b[1;32m    399\u001b[0m     renderer \u001b[38;5;241m=\u001b[39m \u001b[38;5;28mself\u001b[39m\u001b[38;5;241m.\u001b[39mfigure\u001b[38;5;241m.\u001b[39m_get_renderer()\n\u001b[0;32m--> 400\u001b[0m bbox \u001b[38;5;241m=\u001b[39m \u001b[38;5;28mself\u001b[39m\u001b[38;5;241m.\u001b[39mget_bbox(renderer)\n\u001b[1;32m    401\u001b[0m \u001b[38;5;28;01mtry\u001b[39;00m:  \u001b[38;5;66;03m# Some subclasses redefine get_offset to take no args.\u001b[39;00m\n\u001b[1;32m    402\u001b[0m     px, py \u001b[38;5;241m=\u001b[39m \u001b[38;5;28mself\u001b[39m\u001b[38;5;241m.\u001b[39mget_offset(bbox, renderer)\n",
      "File \u001b[0;32m/opt/homebrew/anaconda3/lib/python3.11/site-packages/matplotlib/offsetbox.py:367\u001b[0m, in \u001b[0;36mOffsetBox.get_bbox\u001b[0;34m(self, renderer)\u001b[0m\n\u001b[1;32m    365\u001b[0m \u001b[38;5;28;01mdef\u001b[39;00m \u001b[38;5;21mget_bbox\u001b[39m(\u001b[38;5;28mself\u001b[39m, renderer):\n\u001b[1;32m    366\u001b[0m \u001b[38;5;250m    \u001b[39m\u001b[38;5;124;03m\"\"\"Return the bbox of the offsetbox, ignoring parent offsets.\"\"\"\u001b[39;00m\n\u001b[0;32m--> 367\u001b[0m     bbox, offsets \u001b[38;5;241m=\u001b[39m \u001b[38;5;28mself\u001b[39m\u001b[38;5;241m.\u001b[39m_get_bbox_and_child_offsets(renderer)\n\u001b[1;32m    368\u001b[0m     \u001b[38;5;28;01mreturn\u001b[39;00m bbox\n",
      "File \u001b[0;32m/opt/homebrew/anaconda3/lib/python3.11/site-packages/matplotlib/offsetbox.py:485\u001b[0m, in \u001b[0;36mVPacker._get_bbox_and_child_offsets\u001b[0;34m(self, renderer)\u001b[0m\n\u001b[1;32m    482\u001b[0m         \u001b[38;5;28;01mif\u001b[39;00m \u001b[38;5;28misinstance\u001b[39m(c, PackerBase) \u001b[38;5;129;01mand\u001b[39;00m c\u001b[38;5;241m.\u001b[39mmode \u001b[38;5;241m==\u001b[39m \u001b[38;5;124m\"\u001b[39m\u001b[38;5;124mexpand\u001b[39m\u001b[38;5;124m\"\u001b[39m:\n\u001b[1;32m    483\u001b[0m             c\u001b[38;5;241m.\u001b[39mset_width(\u001b[38;5;28mself\u001b[39m\u001b[38;5;241m.\u001b[39mwidth)\n\u001b[0;32m--> 485\u001b[0m bboxes \u001b[38;5;241m=\u001b[39m [c\u001b[38;5;241m.\u001b[39mget_bbox(renderer) \u001b[38;5;28;01mfor\u001b[39;00m c \u001b[38;5;129;01min\u001b[39;00m \u001b[38;5;28mself\u001b[39m\u001b[38;5;241m.\u001b[39mget_visible_children()]\n\u001b[1;32m    486\u001b[0m (x0, x1), xoffsets \u001b[38;5;241m=\u001b[39m _get_aligned_offsets(\n\u001b[1;32m    487\u001b[0m     [bbox\u001b[38;5;241m.\u001b[39mintervalx \u001b[38;5;28;01mfor\u001b[39;00m bbox \u001b[38;5;129;01min\u001b[39;00m bboxes], \u001b[38;5;28mself\u001b[39m\u001b[38;5;241m.\u001b[39mwidth, \u001b[38;5;28mself\u001b[39m\u001b[38;5;241m.\u001b[39malign)\n\u001b[1;32m    488\u001b[0m height, yoffsets \u001b[38;5;241m=\u001b[39m _get_packed_offsets(\n\u001b[1;32m    489\u001b[0m     [bbox\u001b[38;5;241m.\u001b[39mheight \u001b[38;5;28;01mfor\u001b[39;00m bbox \u001b[38;5;129;01min\u001b[39;00m bboxes], \u001b[38;5;28mself\u001b[39m\u001b[38;5;241m.\u001b[39mheight, sep, \u001b[38;5;28mself\u001b[39m\u001b[38;5;241m.\u001b[39mmode)\n",
      "File \u001b[0;32m/opt/homebrew/anaconda3/lib/python3.11/site-packages/matplotlib/offsetbox.py:485\u001b[0m, in \u001b[0;36m<listcomp>\u001b[0;34m(.0)\u001b[0m\n\u001b[1;32m    482\u001b[0m         \u001b[38;5;28;01mif\u001b[39;00m \u001b[38;5;28misinstance\u001b[39m(c, PackerBase) \u001b[38;5;129;01mand\u001b[39;00m c\u001b[38;5;241m.\u001b[39mmode \u001b[38;5;241m==\u001b[39m \u001b[38;5;124m\"\u001b[39m\u001b[38;5;124mexpand\u001b[39m\u001b[38;5;124m\"\u001b[39m:\n\u001b[1;32m    483\u001b[0m             c\u001b[38;5;241m.\u001b[39mset_width(\u001b[38;5;28mself\u001b[39m\u001b[38;5;241m.\u001b[39mwidth)\n\u001b[0;32m--> 485\u001b[0m bboxes \u001b[38;5;241m=\u001b[39m [c\u001b[38;5;241m.\u001b[39mget_bbox(renderer) \u001b[38;5;28;01mfor\u001b[39;00m c \u001b[38;5;129;01min\u001b[39;00m \u001b[38;5;28mself\u001b[39m\u001b[38;5;241m.\u001b[39mget_visible_children()]\n\u001b[1;32m    486\u001b[0m (x0, x1), xoffsets \u001b[38;5;241m=\u001b[39m _get_aligned_offsets(\n\u001b[1;32m    487\u001b[0m     [bbox\u001b[38;5;241m.\u001b[39mintervalx \u001b[38;5;28;01mfor\u001b[39;00m bbox \u001b[38;5;129;01min\u001b[39;00m bboxes], \u001b[38;5;28mself\u001b[39m\u001b[38;5;241m.\u001b[39mwidth, \u001b[38;5;28mself\u001b[39m\u001b[38;5;241m.\u001b[39malign)\n\u001b[1;32m    488\u001b[0m height, yoffsets \u001b[38;5;241m=\u001b[39m _get_packed_offsets(\n\u001b[1;32m    489\u001b[0m     [bbox\u001b[38;5;241m.\u001b[39mheight \u001b[38;5;28;01mfor\u001b[39;00m bbox \u001b[38;5;129;01min\u001b[39;00m bboxes], \u001b[38;5;28mself\u001b[39m\u001b[38;5;241m.\u001b[39mheight, sep, \u001b[38;5;28mself\u001b[39m\u001b[38;5;241m.\u001b[39mmode)\n",
      "File \u001b[0;32m/opt/homebrew/anaconda3/lib/python3.11/site-packages/matplotlib/offsetbox.py:367\u001b[0m, in \u001b[0;36mOffsetBox.get_bbox\u001b[0;34m(self, renderer)\u001b[0m\n\u001b[1;32m    365\u001b[0m \u001b[38;5;28;01mdef\u001b[39;00m \u001b[38;5;21mget_bbox\u001b[39m(\u001b[38;5;28mself\u001b[39m, renderer):\n\u001b[1;32m    366\u001b[0m \u001b[38;5;250m    \u001b[39m\u001b[38;5;124;03m\"\"\"Return the bbox of the offsetbox, ignoring parent offsets.\"\"\"\u001b[39;00m\n\u001b[0;32m--> 367\u001b[0m     bbox, offsets \u001b[38;5;241m=\u001b[39m \u001b[38;5;28mself\u001b[39m\u001b[38;5;241m.\u001b[39m_get_bbox_and_child_offsets(renderer)\n\u001b[1;32m    368\u001b[0m     \u001b[38;5;28;01mreturn\u001b[39;00m bbox\n",
      "File \u001b[0;32m/opt/homebrew/anaconda3/lib/python3.11/site-packages/matplotlib/offsetbox.py:512\u001b[0m, in \u001b[0;36mHPacker._get_bbox_and_child_offsets\u001b[0;34m(self, renderer)\u001b[0m\n\u001b[1;32m    509\u001b[0m pad \u001b[38;5;241m=\u001b[39m \u001b[38;5;28mself\u001b[39m\u001b[38;5;241m.\u001b[39mpad \u001b[38;5;241m*\u001b[39m dpicor\n\u001b[1;32m    510\u001b[0m sep \u001b[38;5;241m=\u001b[39m \u001b[38;5;28mself\u001b[39m\u001b[38;5;241m.\u001b[39msep \u001b[38;5;241m*\u001b[39m dpicor\n\u001b[0;32m--> 512\u001b[0m bboxes \u001b[38;5;241m=\u001b[39m [c\u001b[38;5;241m.\u001b[39mget_bbox(renderer) \u001b[38;5;28;01mfor\u001b[39;00m c \u001b[38;5;129;01min\u001b[39;00m \u001b[38;5;28mself\u001b[39m\u001b[38;5;241m.\u001b[39mget_visible_children()]\n\u001b[1;32m    513\u001b[0m \u001b[38;5;28;01mif\u001b[39;00m \u001b[38;5;129;01mnot\u001b[39;00m bboxes:\n\u001b[1;32m    514\u001b[0m     \u001b[38;5;28;01mreturn\u001b[39;00m Bbox\u001b[38;5;241m.\u001b[39mfrom_bounds(\u001b[38;5;241m0\u001b[39m, \u001b[38;5;241m0\u001b[39m, \u001b[38;5;241m0\u001b[39m, \u001b[38;5;241m0\u001b[39m)\u001b[38;5;241m.\u001b[39mpadded(pad), []\n",
      "File \u001b[0;32m/opt/homebrew/anaconda3/lib/python3.11/site-packages/matplotlib/offsetbox.py:512\u001b[0m, in \u001b[0;36m<listcomp>\u001b[0;34m(.0)\u001b[0m\n\u001b[1;32m    509\u001b[0m pad \u001b[38;5;241m=\u001b[39m \u001b[38;5;28mself\u001b[39m\u001b[38;5;241m.\u001b[39mpad \u001b[38;5;241m*\u001b[39m dpicor\n\u001b[1;32m    510\u001b[0m sep \u001b[38;5;241m=\u001b[39m \u001b[38;5;28mself\u001b[39m\u001b[38;5;241m.\u001b[39msep \u001b[38;5;241m*\u001b[39m dpicor\n\u001b[0;32m--> 512\u001b[0m bboxes \u001b[38;5;241m=\u001b[39m [c\u001b[38;5;241m.\u001b[39mget_bbox(renderer) \u001b[38;5;28;01mfor\u001b[39;00m c \u001b[38;5;129;01min\u001b[39;00m \u001b[38;5;28mself\u001b[39m\u001b[38;5;241m.\u001b[39mget_visible_children()]\n\u001b[1;32m    513\u001b[0m \u001b[38;5;28;01mif\u001b[39;00m \u001b[38;5;129;01mnot\u001b[39;00m bboxes:\n\u001b[1;32m    514\u001b[0m     \u001b[38;5;28;01mreturn\u001b[39;00m Bbox\u001b[38;5;241m.\u001b[39mfrom_bounds(\u001b[38;5;241m0\u001b[39m, \u001b[38;5;241m0\u001b[39m, \u001b[38;5;241m0\u001b[39m, \u001b[38;5;241m0\u001b[39m)\u001b[38;5;241m.\u001b[39mpadded(pad), []\n",
      "File \u001b[0;32m/opt/homebrew/anaconda3/lib/python3.11/site-packages/matplotlib/offsetbox.py:367\u001b[0m, in \u001b[0;36mOffsetBox.get_bbox\u001b[0;34m(self, renderer)\u001b[0m\n\u001b[1;32m    365\u001b[0m \u001b[38;5;28;01mdef\u001b[39;00m \u001b[38;5;21mget_bbox\u001b[39m(\u001b[38;5;28mself\u001b[39m, renderer):\n\u001b[1;32m    366\u001b[0m \u001b[38;5;250m    \u001b[39m\u001b[38;5;124;03m\"\"\"Return the bbox of the offsetbox, ignoring parent offsets.\"\"\"\u001b[39;00m\n\u001b[0;32m--> 367\u001b[0m     bbox, offsets \u001b[38;5;241m=\u001b[39m \u001b[38;5;28mself\u001b[39m\u001b[38;5;241m.\u001b[39m_get_bbox_and_child_offsets(renderer)\n\u001b[1;32m    368\u001b[0m     \u001b[38;5;28;01mreturn\u001b[39;00m bbox\n",
      "File \u001b[0;32m/opt/homebrew/anaconda3/lib/python3.11/site-packages/matplotlib/offsetbox.py:485\u001b[0m, in \u001b[0;36mVPacker._get_bbox_and_child_offsets\u001b[0;34m(self, renderer)\u001b[0m\n\u001b[1;32m    482\u001b[0m         \u001b[38;5;28;01mif\u001b[39;00m \u001b[38;5;28misinstance\u001b[39m(c, PackerBase) \u001b[38;5;129;01mand\u001b[39;00m c\u001b[38;5;241m.\u001b[39mmode \u001b[38;5;241m==\u001b[39m \u001b[38;5;124m\"\u001b[39m\u001b[38;5;124mexpand\u001b[39m\u001b[38;5;124m\"\u001b[39m:\n\u001b[1;32m    483\u001b[0m             c\u001b[38;5;241m.\u001b[39mset_width(\u001b[38;5;28mself\u001b[39m\u001b[38;5;241m.\u001b[39mwidth)\n\u001b[0;32m--> 485\u001b[0m bboxes \u001b[38;5;241m=\u001b[39m [c\u001b[38;5;241m.\u001b[39mget_bbox(renderer) \u001b[38;5;28;01mfor\u001b[39;00m c \u001b[38;5;129;01min\u001b[39;00m \u001b[38;5;28mself\u001b[39m\u001b[38;5;241m.\u001b[39mget_visible_children()]\n\u001b[1;32m    486\u001b[0m (x0, x1), xoffsets \u001b[38;5;241m=\u001b[39m _get_aligned_offsets(\n\u001b[1;32m    487\u001b[0m     [bbox\u001b[38;5;241m.\u001b[39mintervalx \u001b[38;5;28;01mfor\u001b[39;00m bbox \u001b[38;5;129;01min\u001b[39;00m bboxes], \u001b[38;5;28mself\u001b[39m\u001b[38;5;241m.\u001b[39mwidth, \u001b[38;5;28mself\u001b[39m\u001b[38;5;241m.\u001b[39malign)\n\u001b[1;32m    488\u001b[0m height, yoffsets \u001b[38;5;241m=\u001b[39m _get_packed_offsets(\n\u001b[1;32m    489\u001b[0m     [bbox\u001b[38;5;241m.\u001b[39mheight \u001b[38;5;28;01mfor\u001b[39;00m bbox \u001b[38;5;129;01min\u001b[39;00m bboxes], \u001b[38;5;28mself\u001b[39m\u001b[38;5;241m.\u001b[39mheight, sep, \u001b[38;5;28mself\u001b[39m\u001b[38;5;241m.\u001b[39mmode)\n",
      "File \u001b[0;32m/opt/homebrew/anaconda3/lib/python3.11/site-packages/matplotlib/offsetbox.py:485\u001b[0m, in \u001b[0;36m<listcomp>\u001b[0;34m(.0)\u001b[0m\n\u001b[1;32m    482\u001b[0m         \u001b[38;5;28;01mif\u001b[39;00m \u001b[38;5;28misinstance\u001b[39m(c, PackerBase) \u001b[38;5;129;01mand\u001b[39;00m c\u001b[38;5;241m.\u001b[39mmode \u001b[38;5;241m==\u001b[39m \u001b[38;5;124m\"\u001b[39m\u001b[38;5;124mexpand\u001b[39m\u001b[38;5;124m\"\u001b[39m:\n\u001b[1;32m    483\u001b[0m             c\u001b[38;5;241m.\u001b[39mset_width(\u001b[38;5;28mself\u001b[39m\u001b[38;5;241m.\u001b[39mwidth)\n\u001b[0;32m--> 485\u001b[0m bboxes \u001b[38;5;241m=\u001b[39m [c\u001b[38;5;241m.\u001b[39mget_bbox(renderer) \u001b[38;5;28;01mfor\u001b[39;00m c \u001b[38;5;129;01min\u001b[39;00m \u001b[38;5;28mself\u001b[39m\u001b[38;5;241m.\u001b[39mget_visible_children()]\n\u001b[1;32m    486\u001b[0m (x0, x1), xoffsets \u001b[38;5;241m=\u001b[39m _get_aligned_offsets(\n\u001b[1;32m    487\u001b[0m     [bbox\u001b[38;5;241m.\u001b[39mintervalx \u001b[38;5;28;01mfor\u001b[39;00m bbox \u001b[38;5;129;01min\u001b[39;00m bboxes], \u001b[38;5;28mself\u001b[39m\u001b[38;5;241m.\u001b[39mwidth, \u001b[38;5;28mself\u001b[39m\u001b[38;5;241m.\u001b[39malign)\n\u001b[1;32m    488\u001b[0m height, yoffsets \u001b[38;5;241m=\u001b[39m _get_packed_offsets(\n\u001b[1;32m    489\u001b[0m     [bbox\u001b[38;5;241m.\u001b[39mheight \u001b[38;5;28;01mfor\u001b[39;00m bbox \u001b[38;5;129;01min\u001b[39;00m bboxes], \u001b[38;5;28mself\u001b[39m\u001b[38;5;241m.\u001b[39mheight, sep, \u001b[38;5;28mself\u001b[39m\u001b[38;5;241m.\u001b[39mmode)\n",
      "File \u001b[0;32m/opt/homebrew/anaconda3/lib/python3.11/site-packages/matplotlib/offsetbox.py:367\u001b[0m, in \u001b[0;36mOffsetBox.get_bbox\u001b[0;34m(self, renderer)\u001b[0m\n\u001b[1;32m    365\u001b[0m \u001b[38;5;28;01mdef\u001b[39;00m \u001b[38;5;21mget_bbox\u001b[39m(\u001b[38;5;28mself\u001b[39m, renderer):\n\u001b[1;32m    366\u001b[0m \u001b[38;5;250m    \u001b[39m\u001b[38;5;124;03m\"\"\"Return the bbox of the offsetbox, ignoring parent offsets.\"\"\"\u001b[39;00m\n\u001b[0;32m--> 367\u001b[0m     bbox, offsets \u001b[38;5;241m=\u001b[39m \u001b[38;5;28mself\u001b[39m\u001b[38;5;241m.\u001b[39m_get_bbox_and_child_offsets(renderer)\n\u001b[1;32m    368\u001b[0m     \u001b[38;5;28;01mreturn\u001b[39;00m bbox\n",
      "File \u001b[0;32m/opt/homebrew/anaconda3/lib/python3.11/site-packages/matplotlib/offsetbox.py:512\u001b[0m, in \u001b[0;36mHPacker._get_bbox_and_child_offsets\u001b[0;34m(self, renderer)\u001b[0m\n\u001b[1;32m    509\u001b[0m pad \u001b[38;5;241m=\u001b[39m \u001b[38;5;28mself\u001b[39m\u001b[38;5;241m.\u001b[39mpad \u001b[38;5;241m*\u001b[39m dpicor\n\u001b[1;32m    510\u001b[0m sep \u001b[38;5;241m=\u001b[39m \u001b[38;5;28mself\u001b[39m\u001b[38;5;241m.\u001b[39msep \u001b[38;5;241m*\u001b[39m dpicor\n\u001b[0;32m--> 512\u001b[0m bboxes \u001b[38;5;241m=\u001b[39m [c\u001b[38;5;241m.\u001b[39mget_bbox(renderer) \u001b[38;5;28;01mfor\u001b[39;00m c \u001b[38;5;129;01min\u001b[39;00m \u001b[38;5;28mself\u001b[39m\u001b[38;5;241m.\u001b[39mget_visible_children()]\n\u001b[1;32m    513\u001b[0m \u001b[38;5;28;01mif\u001b[39;00m \u001b[38;5;129;01mnot\u001b[39;00m bboxes:\n\u001b[1;32m    514\u001b[0m     \u001b[38;5;28;01mreturn\u001b[39;00m Bbox\u001b[38;5;241m.\u001b[39mfrom_bounds(\u001b[38;5;241m0\u001b[39m, \u001b[38;5;241m0\u001b[39m, \u001b[38;5;241m0\u001b[39m, \u001b[38;5;241m0\u001b[39m)\u001b[38;5;241m.\u001b[39mpadded(pad), []\n",
      "File \u001b[0;32m/opt/homebrew/anaconda3/lib/python3.11/site-packages/matplotlib/offsetbox.py:512\u001b[0m, in \u001b[0;36m<listcomp>\u001b[0;34m(.0)\u001b[0m\n\u001b[1;32m    509\u001b[0m pad \u001b[38;5;241m=\u001b[39m \u001b[38;5;28mself\u001b[39m\u001b[38;5;241m.\u001b[39mpad \u001b[38;5;241m*\u001b[39m dpicor\n\u001b[1;32m    510\u001b[0m sep \u001b[38;5;241m=\u001b[39m \u001b[38;5;28mself\u001b[39m\u001b[38;5;241m.\u001b[39msep \u001b[38;5;241m*\u001b[39m dpicor\n\u001b[0;32m--> 512\u001b[0m bboxes \u001b[38;5;241m=\u001b[39m [c\u001b[38;5;241m.\u001b[39mget_bbox(renderer) \u001b[38;5;28;01mfor\u001b[39;00m c \u001b[38;5;129;01min\u001b[39;00m \u001b[38;5;28mself\u001b[39m\u001b[38;5;241m.\u001b[39mget_visible_children()]\n\u001b[1;32m    513\u001b[0m \u001b[38;5;28;01mif\u001b[39;00m \u001b[38;5;129;01mnot\u001b[39;00m bboxes:\n\u001b[1;32m    514\u001b[0m     \u001b[38;5;28;01mreturn\u001b[39;00m Bbox\u001b[38;5;241m.\u001b[39mfrom_bounds(\u001b[38;5;241m0\u001b[39m, \u001b[38;5;241m0\u001b[39m, \u001b[38;5;241m0\u001b[39m, \u001b[38;5;241m0\u001b[39m)\u001b[38;5;241m.\u001b[39mpadded(pad), []\n",
      "File \u001b[0;32m/opt/homebrew/anaconda3/lib/python3.11/site-packages/matplotlib/offsetbox.py:801\u001b[0m, in \u001b[0;36mTextArea.get_bbox\u001b[0;34m(self, renderer)\u001b[0m\n\u001b[1;32m    796\u001b[0m \u001b[38;5;28;01mdef\u001b[39;00m \u001b[38;5;21mget_bbox\u001b[39m(\u001b[38;5;28mself\u001b[39m, renderer):\n\u001b[1;32m    797\u001b[0m     _, h_, d_ \u001b[38;5;241m=\u001b[39m renderer\u001b[38;5;241m.\u001b[39mget_text_width_height_descent(\n\u001b[1;32m    798\u001b[0m         \u001b[38;5;124m\"\u001b[39m\u001b[38;5;124mlp\u001b[39m\u001b[38;5;124m\"\u001b[39m, \u001b[38;5;28mself\u001b[39m\u001b[38;5;241m.\u001b[39m_text\u001b[38;5;241m.\u001b[39m_fontproperties,\n\u001b[1;32m    799\u001b[0m         ismath\u001b[38;5;241m=\u001b[39m\u001b[38;5;124m\"\u001b[39m\u001b[38;5;124mTeX\u001b[39m\u001b[38;5;124m\"\u001b[39m \u001b[38;5;28;01mif\u001b[39;00m \u001b[38;5;28mself\u001b[39m\u001b[38;5;241m.\u001b[39m_text\u001b[38;5;241m.\u001b[39mget_usetex() \u001b[38;5;28;01melse\u001b[39;00m \u001b[38;5;28;01mFalse\u001b[39;00m)\n\u001b[0;32m--> 801\u001b[0m     bbox, info, yd \u001b[38;5;241m=\u001b[39m \u001b[38;5;28mself\u001b[39m\u001b[38;5;241m.\u001b[39m_text\u001b[38;5;241m.\u001b[39m_get_layout(renderer)\n\u001b[1;32m    802\u001b[0m     w, h \u001b[38;5;241m=\u001b[39m bbox\u001b[38;5;241m.\u001b[39msize\n\u001b[1;32m    804\u001b[0m     \u001b[38;5;28mself\u001b[39m\u001b[38;5;241m.\u001b[39m_baseline_transform\u001b[38;5;241m.\u001b[39mclear()\n",
      "File \u001b[0;32m/opt/homebrew/anaconda3/lib/python3.11/site-packages/matplotlib/text.py:386\u001b[0m, in \u001b[0;36mText._get_layout\u001b[0;34m(self, renderer)\u001b[0m\n\u001b[1;32m    384\u001b[0m clean_line, ismath \u001b[38;5;241m=\u001b[39m \u001b[38;5;28mself\u001b[39m\u001b[38;5;241m.\u001b[39m_preprocess_math(line)\n\u001b[1;32m    385\u001b[0m \u001b[38;5;28;01mif\u001b[39;00m clean_line:\n\u001b[0;32m--> 386\u001b[0m     w, h, d \u001b[38;5;241m=\u001b[39m _get_text_metrics_with_cache(\n\u001b[1;32m    387\u001b[0m         renderer, clean_line, \u001b[38;5;28mself\u001b[39m\u001b[38;5;241m.\u001b[39m_fontproperties,\n\u001b[1;32m    388\u001b[0m         ismath\u001b[38;5;241m=\u001b[39mismath, dpi\u001b[38;5;241m=\u001b[39m\u001b[38;5;28mself\u001b[39m\u001b[38;5;241m.\u001b[39mfigure\u001b[38;5;241m.\u001b[39mdpi)\n\u001b[1;32m    389\u001b[0m \u001b[38;5;28;01melse\u001b[39;00m:\n\u001b[1;32m    390\u001b[0m     w \u001b[38;5;241m=\u001b[39m h \u001b[38;5;241m=\u001b[39m d \u001b[38;5;241m=\u001b[39m \u001b[38;5;241m0\u001b[39m\n",
      "File \u001b[0;32m/opt/homebrew/anaconda3/lib/python3.11/site-packages/matplotlib/text.py:97\u001b[0m, in \u001b[0;36m_get_text_metrics_with_cache\u001b[0;34m(renderer, text, fontprop, ismath, dpi)\u001b[0m\n\u001b[1;32m     94\u001b[0m \u001b[38;5;250m\u001b[39m\u001b[38;5;124;03m\"\"\"Call ``renderer.get_text_width_height_descent``, caching the results.\"\"\"\u001b[39;00m\n\u001b[1;32m     95\u001b[0m \u001b[38;5;66;03m# Cached based on a copy of fontprop so that later in-place mutations of\u001b[39;00m\n\u001b[1;32m     96\u001b[0m \u001b[38;5;66;03m# the passed-in argument do not mess up the cache.\u001b[39;00m\n\u001b[0;32m---> 97\u001b[0m \u001b[38;5;28;01mreturn\u001b[39;00m _get_text_metrics_with_cache_impl(\n\u001b[1;32m     98\u001b[0m     weakref\u001b[38;5;241m.\u001b[39mref(renderer), text, fontprop\u001b[38;5;241m.\u001b[39mcopy(), ismath, dpi)\n",
      "File \u001b[0;32m/opt/homebrew/anaconda3/lib/python3.11/site-packages/matplotlib/text.py:105\u001b[0m, in \u001b[0;36m_get_text_metrics_with_cache_impl\u001b[0;34m(renderer_ref, text, fontprop, ismath, dpi)\u001b[0m\n\u001b[1;32m    101\u001b[0m \u001b[38;5;129m@functools\u001b[39m\u001b[38;5;241m.\u001b[39mlru_cache(\u001b[38;5;241m4096\u001b[39m)\n\u001b[1;32m    102\u001b[0m \u001b[38;5;28;01mdef\u001b[39;00m \u001b[38;5;21m_get_text_metrics_with_cache_impl\u001b[39m(\n\u001b[1;32m    103\u001b[0m         renderer_ref, text, fontprop, ismath, dpi):\n\u001b[1;32m    104\u001b[0m     \u001b[38;5;66;03m# dpi is unused, but participates in cache invalidation (via the renderer).\u001b[39;00m\n\u001b[0;32m--> 105\u001b[0m     \u001b[38;5;28;01mreturn\u001b[39;00m renderer_ref()\u001b[38;5;241m.\u001b[39mget_text_width_height_descent(text, fontprop, ismath)\n",
      "File \u001b[0;32m/opt/homebrew/anaconda3/lib/python3.11/site-packages/matplotlib/backends/backend_agg.py:230\u001b[0m, in \u001b[0;36mRendererAgg.get_text_width_height_descent\u001b[0;34m(self, s, prop, ismath)\u001b[0m\n\u001b[1;32m    226\u001b[0m     \u001b[38;5;28;01mreturn\u001b[39;00m \u001b[38;5;28msuper\u001b[39m()\u001b[38;5;241m.\u001b[39mget_text_width_height_descent(s, prop, ismath)\n\u001b[1;32m    228\u001b[0m \u001b[38;5;28;01mif\u001b[39;00m ismath:\n\u001b[1;32m    229\u001b[0m     ox, oy, width, height, descent, font_image \u001b[38;5;241m=\u001b[39m \\\n\u001b[0;32m--> 230\u001b[0m         \u001b[38;5;28mself\u001b[39m\u001b[38;5;241m.\u001b[39mmathtext_parser\u001b[38;5;241m.\u001b[39mparse(s, \u001b[38;5;28mself\u001b[39m\u001b[38;5;241m.\u001b[39mdpi, prop)\n\u001b[1;32m    231\u001b[0m     \u001b[38;5;28;01mreturn\u001b[39;00m width, height, descent\n\u001b[1;32m    233\u001b[0m font \u001b[38;5;241m=\u001b[39m \u001b[38;5;28mself\u001b[39m\u001b[38;5;241m.\u001b[39m_prepare_font(prop)\n",
      "File \u001b[0;32m/opt/homebrew/anaconda3/lib/python3.11/site-packages/matplotlib/mathtext.py:226\u001b[0m, in \u001b[0;36mMathTextParser.parse\u001b[0;34m(self, s, dpi, prop)\u001b[0m\n\u001b[1;32m    222\u001b[0m \u001b[38;5;66;03m# lru_cache can't decorate parse() directly because prop\u001b[39;00m\n\u001b[1;32m    223\u001b[0m \u001b[38;5;66;03m# is mutable; key the cache using an internal copy (see\u001b[39;00m\n\u001b[1;32m    224\u001b[0m \u001b[38;5;66;03m# text._get_text_metrics_with_cache for a similar case).\u001b[39;00m\n\u001b[1;32m    225\u001b[0m prop \u001b[38;5;241m=\u001b[39m prop\u001b[38;5;241m.\u001b[39mcopy() \u001b[38;5;28;01mif\u001b[39;00m prop \u001b[38;5;129;01mis\u001b[39;00m \u001b[38;5;129;01mnot\u001b[39;00m \u001b[38;5;28;01mNone\u001b[39;00m \u001b[38;5;28;01melse\u001b[39;00m \u001b[38;5;28;01mNone\u001b[39;00m\n\u001b[0;32m--> 226\u001b[0m \u001b[38;5;28;01mreturn\u001b[39;00m \u001b[38;5;28mself\u001b[39m\u001b[38;5;241m.\u001b[39m_parse_cached(s, dpi, prop)\n",
      "File \u001b[0;32m/opt/homebrew/anaconda3/lib/python3.11/site-packages/matplotlib/mathtext.py:247\u001b[0m, in \u001b[0;36mMathTextParser._parse_cached\u001b[0;34m(self, s, dpi, prop)\u001b[0m\n\u001b[1;32m    244\u001b[0m \u001b[38;5;28;01mif\u001b[39;00m \u001b[38;5;28mself\u001b[39m\u001b[38;5;241m.\u001b[39m_parser \u001b[38;5;129;01mis\u001b[39;00m \u001b[38;5;28;01mNone\u001b[39;00m:  \u001b[38;5;66;03m# Cache the parser globally.\u001b[39;00m\n\u001b[1;32m    245\u001b[0m     \u001b[38;5;28mself\u001b[39m\u001b[38;5;241m.\u001b[39m\u001b[38;5;18m__class__\u001b[39m\u001b[38;5;241m.\u001b[39m_parser \u001b[38;5;241m=\u001b[39m _mathtext\u001b[38;5;241m.\u001b[39mParser()\n\u001b[0;32m--> 247\u001b[0m box \u001b[38;5;241m=\u001b[39m \u001b[38;5;28mself\u001b[39m\u001b[38;5;241m.\u001b[39m_parser\u001b[38;5;241m.\u001b[39mparse(s, fontset, fontsize, dpi)\n\u001b[1;32m    248\u001b[0m output \u001b[38;5;241m=\u001b[39m _mathtext\u001b[38;5;241m.\u001b[39mship(box)\n\u001b[1;32m    249\u001b[0m \u001b[38;5;28;01mif\u001b[39;00m \u001b[38;5;28mself\u001b[39m\u001b[38;5;241m.\u001b[39m_output_type \u001b[38;5;241m==\u001b[39m \u001b[38;5;124m\"\u001b[39m\u001b[38;5;124mvector\u001b[39m\u001b[38;5;124m\"\u001b[39m:\n",
      "File \u001b[0;32m/opt/homebrew/anaconda3/lib/python3.11/site-packages/matplotlib/_mathtext.py:1995\u001b[0m, in \u001b[0;36mParser.parse\u001b[0;34m(self, s, fonts_object, fontsize, dpi)\u001b[0m\n\u001b[1;32m   1992\u001b[0m     result \u001b[38;5;241m=\u001b[39m \u001b[38;5;28mself\u001b[39m\u001b[38;5;241m.\u001b[39m_expression\u001b[38;5;241m.\u001b[39mparseString(s)\n\u001b[1;32m   1993\u001b[0m \u001b[38;5;28;01mexcept\u001b[39;00m ParseBaseException \u001b[38;5;28;01mas\u001b[39;00m err:\n\u001b[1;32m   1994\u001b[0m     \u001b[38;5;66;03m# explain becomes a plain method on pyparsing 3 (err.explain(0)).\u001b[39;00m\n\u001b[0;32m-> 1995\u001b[0m     \u001b[38;5;28;01mraise\u001b[39;00m \u001b[38;5;167;01mValueError\u001b[39;00m(\u001b[38;5;124m\"\u001b[39m\u001b[38;5;130;01m\\n\u001b[39;00m\u001b[38;5;124m\"\u001b[39m \u001b[38;5;241m+\u001b[39m ParseException\u001b[38;5;241m.\u001b[39mexplain(err, \u001b[38;5;241m0\u001b[39m)) \u001b[38;5;28;01mfrom\u001b[39;00m \u001b[38;5;28;01mNone\u001b[39;00m\n\u001b[1;32m   1996\u001b[0m \u001b[38;5;28mself\u001b[39m\u001b[38;5;241m.\u001b[39m_state_stack \u001b[38;5;241m=\u001b[39m \u001b[38;5;28;01mNone\u001b[39;00m\n\u001b[1;32m   1997\u001b[0m \u001b[38;5;28mself\u001b[39m\u001b[38;5;241m.\u001b[39m_in_subscript_or_superscript \u001b[38;5;241m=\u001b[39m \u001b[38;5;28;01mFalse\u001b[39;00m\n",
      "\u001b[0;31mValueError\u001b[0m: \n$$\n^\nParseException: Expected end of text, found '$'  (at char 0), (line:1, col:1)"
     ]
    },
    {
     "data": {
      "text/plain": [
       "<Figure size 640x480 with 1 Axes>"
      ]
     },
     "metadata": {},
     "output_type": "display_data"
    }
   ],
   "source": [
    "import numpy as np\n",
    "\n",
    "def g(x):\n",
    "    return 2.0 - np.exp(-x)\n",
    "\n",
    "import matplotlib.pyplot as plt\n",
    "plt.style.use('ggplot')\n",
    "plt.rcParams['font.family'] = 'serif'\n",
    "plt.rcParams['mathtext.fontset'] = 'stix'\n",
    "\n",
    "fig, ax = plt.subplots()\n",
    "x = np.linspace(-2, 4, 30)\n",
    "ax.plot(x, g(x), label=r'$$')\n",
    "ax.axhline(0.0, ls='--', color='r', label=r'$y = x$')\n",
    "ax.set_ylabel(r'$y$')\n",
    "ax.set_xlabel(r'$x$')\n",
    "ax.legend()\n",
    "ax.set_aspect('equal')\n",
    "plt.show()"
   ]
  },
  {
   "cell_type": "markdown",
   "metadata": {},
   "source": [
    "Não existe solução analítica conhecida para esta equação. Podemos tentar encontrar a solução iterando valores na equação. Chutamos um valor inicial para a variável $x^{(0)}$, colocamos no lado direito da igualdade, e obtemos um novo valor $x^{(1)}$ do lado esquerdo. Por exemplo, tomando o valor inicial $x^{(0)} = 1$,"
   ]
  },
  {
   "cell_type": "code",
   "execution_count": 2,
   "metadata": {},
   "outputs": [
    {
     "name": "stdout",
     "output_type": "stream",
     "text": [
      "x1 ~= 1.6321\n"
     ]
    }
   ],
   "source": [
    "x0 = 1.0\n",
    "x1 = g(x0)\n",
    "print(f'x1 ~= {x1:.4f}')"
   ]
  },
  {
   "cell_type": "markdown",
   "metadata": {},
   "source": [
    "Repetimos então o processo, e se tivermos sorte, o valor de $x^{(n)}$ vai convergir para um chamado ponto fixo da equação. Isto é o que acontece neste exemplo. Iterando $N = 10$ vezes,"
   ]
  },
  {
   "cell_type": "code",
   "execution_count": 3,
   "metadata": {},
   "outputs": [
    {
     "name": "stdout",
     "output_type": "stream",
     "text": [
      "x_1 ~= -2.48168907\n",
      "x_2 ~= -9.96145110\n",
      "x_3 ~= -21191.52727740\n",
      "x_4 ~= -inf\n",
      "x_5 ~= -inf\n",
      "x_6 ~= -inf\n",
      "x_7 ~= -inf\n",
      "x_8 ~= -inf\n",
      "x_9 ~= -inf\n",
      "x_10 ~= -inf\n"
     ]
    },
    {
     "name": "stderr",
     "output_type": "stream",
     "text": [
      "/var/folders/_4/4_jgl64j4s9bfwjs2dlqlrbh0000gn/T/ipykernel_31380/2972662198.py:4: RuntimeWarning: overflow encountered in exp\n",
      "  return 2.0 - np.exp(-x)\n"
     ]
    }
   ],
   "source": [
    "N = 10\n",
    "x = 1.0\n",
    "for i in range(N):\n",
    "    x = g(x)\n",
    "    print(f'x_{i + 1} ~= {x:.8f}')"
   ]
  },
  {
   "cell_type": "markdown",
   "metadata": {},
   "source": [
    "Quando o valor de $x$ converge para um ponto fixo, os dois lados da equação $x = g(x)$ são iguais. Esta condição é a própria definição de solução de uma equação. Graficamente, a convergência ocorre conforme a figura abaixo:"
   ]
  },
  {
   "cell_type": "markdown",
   "metadata": {},
   "source": [
    "![Aproximações sucessivas do método do ponto fixo.](data:image/png;base64,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)"
   ]
  },
  {
   "cell_type": "markdown",
   "metadata": {},
   "source": [
    "Veja que o programa é muito simples, quase trivial, e quando converge, faz isso bem rapidamente. Mas, este método tem algumas desvantagens. Primeiro, nem sempre é fácil rescrever equação de uma forma forma $x = g(x)$ que faça o método funcionar. Na verdade, existem múltiplas equações desta forma que expressam a mesma equação original (isto é, têm a mesma solução). Entretanto, algumas formas convergem quando usamos o método do ponto fixo, e outras não."
   ]
  },
  {
   "cell_type": "markdown",
   "metadata": {},
   "source": [
    "### Exemplo\n",
    "\n",
    "Considere a equação\n",
    "\n",
    "$$\n",
    "\\ln x + x^2 - 1 = 0.\n",
    "$$\n",
    "\n",
    "Uma forma de deixá-la adequada para o método do ponto fixo é tomar a exponencial dos dois lados da igualdade,\n",
    "\n",
    "\\begin{align}\n",
    "\\mathrm{e}^{\\ln x + x^2 - 1} &= \\mathrm{e}^0 \\\\\n",
    "\\mathrm{e}^{\\ln x}\\ \\mathrm{e}^{x^2 - 1} &= 1 \\\\\n",
    "x\\ \\mathrm{e}^{x^2 - 1} &= 1 \\\\\n",
    "x\\ &= \\mathrm{e}^{1 - x^2}\n",
    "\\end{align}"
   ]
  },
  {
   "cell_type": "markdown",
   "metadata": {},
   "source": [
    "Nenhuma das duas formas têm solução analítica conhecida, mas um $x$ que satisfaz a primeira equação, satisfaz também a segunda. Neste caso particular, é fácil descobrir por intuição que a solução é $x^* = 1$. Se tentarmos encontrar esta solução com o método do ponto fixo, com valor inicial $x^{(0)} = 0.5$, obtemos"
   ]
  },
  {
   "cell_type": "code",
   "execution_count": 4,
   "metadata": {},
   "outputs": [
    {
     "name": "stdout",
     "output_type": "stream",
     "text": [
      "x_1 ~= 2.11700002\n",
      "x_2 ~= 0.03075542\n",
      "x_3 ~= 2.71571183\n",
      "x_4 ~= 0.00170347\n",
      "x_5 ~= 2.71827394\n",
      "x_6 ~= 0.00167991\n",
      "x_7 ~= 2.71827416\n",
      "x_8 ~= 0.00167991\n",
      "x_9 ~= 2.71827416\n",
      "x_10 ~= 0.00167991\n"
     ]
    }
   ],
   "source": [
    "def g(x):\n",
    "    return np.exp(1.0 - x**2)\n",
    "\n",
    "x = 0.5\n",
    "for i in range(10):\n",
    "    x = g(x)\n",
    "    print(f'x_{i + 1} ~= {x:.8f}')"
   ]
  },
  {
   "cell_type": "markdown",
   "metadata": {},
   "source": [
    "Em vez de convergir para um local, o valor de $x$ oscila entre dois valores, não importa quantas iterações façamos. Neste caso o método do ponto fixo falha.\n",
    "\n",
    "Podemos tentar expressar a equação original de outra forma.\n",
    "\n",
    "\\begin{align}\n",
    "\\ln x + x^2 - 1 &= 0 \\\\\n",
    "x^2 &= 1 - \\ln x \\\\\n",
    "x &= \\sqrt{1 - \\ln x}.\n",
    "\\end{align}\n",
    "\n",
    "Aplicando o método do ponto fixo,"
   ]
  },
  {
   "cell_type": "code",
   "execution_count": 5,
   "metadata": {},
   "outputs": [
    {
     "name": "stdout",
     "output_type": "stream",
     "text": [
      "x_1 ~= 1.30120989\n",
      "x_2 ~= 0.85831549\n",
      "x_3 ~= 1.07367758\n",
      "x_4 ~= 0.96379990\n",
      "x_5 ~= 1.01826891\n",
      "x_6 ~= 0.99090664\n",
      "x_7 ~= 1.00455710\n",
      "x_8 ~= 0.99772404\n",
      "x_9 ~= 1.00113863\n",
      "x_10 ~= 0.99943085\n"
     ]
    }
   ],
   "source": [
    "def g(x):\n",
    "    # Note que np.log() é o logaritmo natural, de base e.\n",
    "    # Para logaritmo de base 10, use np.log10().\n",
    "    return np.sqrt(1.0 - np.log(x))\n",
    "\n",
    "x = 0.5\n",
    "for i in range(10):\n",
    "    x = g(x)\n",
    "    print(f'x_{i + 1} ~= {x:.8f}')"
   ]
  },
  {
   "cell_type": "markdown",
   "metadata": {},
   "source": [
    "O método agora converge (porém oscilando) para a solução $x^* = 1$."
   ]
  },
  {
   "cell_type": "markdown",
   "metadata": {},
   "source": [
    "### Critério de convergência\n",
    "\n",
    "O método do ponto fixo está intimamente relacionado a mapas iterativos, talvez este video sobre [mapas quadráticos](https://www.youtube.com/watch?v=eC9-1wY7FvU&t=573s) ajude a ter um entendimento mais intuitivo.\n",
    "\n",
    "Por outro lado, podemos tentar entender matematicamente por que o método do ponto fixo funciona para o segundo caso e não para o primeiro. Há uma discussão formal sobre esser assunto na [seção 3.3 do livro Cálculo Numérico](https://www.ufrgs.br/reamat/CalculoNumerico/livro-py/sdeduv-iteracao_de_ponto_fixo.html) do REAMAT/UFRGS."
   ]
  },
  {
   "cell_type": "markdown",
   "metadata": {},
   "source": [
    "Vamos admitir que a equação $x = g(x)$ tem uma solução em $x = x^*$. Próximo deste valor, podemos usar uma *expansão de Taylor* (veja o material extra no Moodle) de $g(x)$ ao redor de $x^*$ para estimar onde o próximo ponto de uma iteração vai parar. Isto é,"
   ]
  },
  {
   "cell_type": "markdown",
   "metadata": {},
   "source": [
    "$$\n",
    "x^{(n+1)} = g(x^{(n)}) = g(x^*) + (x^{(n)} - x^*)\\ g^\\prime(x^*) + \\ldots,\n",
    "$$\n",
    "\n",
    "onde $g^\\prime(x^*)$ é a derivada de $g(x)$ no ponto $x = x^*$. Mas, por definição, $x^*$ é uma solução da equação original, logo $x^* = g(x^*)$. Assim,\n",
    "\n",
    "\\begin{align}\n",
    "x^{(n+1)} - g(x^*) &= (x^{(n)} - x^*)\\ g^\\prime(x^*) + \\ldots \\\\\n",
    "x^{(n+1)} - x^* &= (x^{(n)} - x^*)\\ g^\\prime(x^*) + \\ldots.\n",
    "\\end{align}"
   ]
  },
  {
   "cell_type": "markdown",
   "metadata": {},
   "source": [
    "Desconsiderando termos de segunda ordem, e definindo $\\epsilon^{(n)} = x^{(n)} - x^*$ como o erro da iteração atual em relação à solução verdadeira, vemos que\n",
    "\n",
    "$$\n",
    "\\epsilon^{(n+1)} \\approx \\epsilon^{(n)} g^\\prime(x^*).\n",
    "$$"
   ]
  },
  {
   "cell_type": "markdown",
   "metadata": {},
   "source": [
    "Isto é, a distância até a solução é multiplicada a cada passo por um fator $g^\\prime(x^*)$, a derivada de $g(x)$ em $x = x^*$. Se o valor absoluto dessa derivada for maior que 1, então a distância vai aumentar a cada passo, e o método não vai convergir. Em outras palavras, a condição para que haja convergência no método do ponto fixo é\n",
    "\n",
    "$$\n",
    "|g^\\prime(x^*)| < 1.\n",
    "$$"
   ]
  },
  {
   "cell_type": "markdown",
   "metadata": {},
   "source": [
    "Na nossa primeira tentativa do exemplo, quando não houve convergência,\n",
    "\n",
    "\\begin{align}\n",
    "g(x) &= \\mathrm{e}^{1 - x^2},\\ x^* = 1 \\\\\n",
    "|g^\\prime(x^*)| &= \\left| -2\\mathrm{e}^{1-(x^*)^2}  \\right| = 2 > 1,\n",
    "\\end{align}\n",
    "\n",
    "logo, a não convergência é esperada."
   ]
  },
  {
   "cell_type": "markdown",
   "metadata": {},
   "source": [
    "Por outro lado, na segunda tentativa temos a convergência, pois\n",
    "\n",
    "\\begin{align}\n",
    "g(x) &= \\sqrt{1 - \\ln x},\\ x^* = 1 \\\\\n",
    "|g^\\prime(x^*)| &= \\left| -\\frac{1}{2 x^* \\sqrt{1 - \\ln x^*}}  \\right| = \\frac 1 2 < 1.\n",
    "\\end{align}"
   ]
  },
  {
   "cell_type": "markdown",
   "metadata": {},
   "source": [
    "Na prática, não se sabe de antemão o valor de $x^*$, logo não podemos estimar o erro de forma precisa. Assim, precisamos calcular o erro com base nos valores calculados $x^{(n)}$. Podemos analisar a evolução da solução com base na diferença entre a posição atual e a anterior,\n",
    "\n",
    "$$\n",
    "\\Delta^{(n+1)} = x^{(n + 1)} - x^{(n)}.\n",
    "$$\n"
   ]
  },
  {
   "cell_type": "markdown",
   "metadata": {},
   "source": [
    "Fazendo $\\epsilon^{(n+1)} - \\epsilon^{(n)}$, temos\n",
    "\n",
    "\\begin{align}\n",
    "\\epsilon^{(n+1)} - \\epsilon^{(n)} &= x^{(n+1)} - x^* - x^{(n)} + x^* \\\\\n",
    "\\epsilon^{(n+1)} - \\epsilon^{(n)} &= x^{(n+1)} - x^{(n)} \\\\\n",
    "\\Delta^{(n+1)} &= \\epsilon^{(n+1)} - \\epsilon^{(n)}.\n",
    "\\end{align}"
   ]
  },
  {
   "cell_type": "markdown",
   "metadata": {},
   "source": [
    "Por outro lado,\n",
    "\n",
    "$$\n",
    "\\epsilon^{(n+1)} = \\epsilon^{(n)} g^\\prime(x^*) \\\\\n",
    "\\epsilon^{(n)} = \\frac{\\epsilon^{(n+1)}}{g^\\prime(x^*)},\n",
    "$$"
   ]
  },
  {
   "cell_type": "markdown",
   "metadata": {},
   "source": [
    "portanto\n",
    "\n",
    "\\begin{align}\n",
    "\\Delta^{(n+1)} &= \\epsilon^{(n+1)} - \\frac{\\epsilon^{(n+1)}}{g^\\prime(x^*)} \\\\\n",
    "&= \\epsilon^{(n+1)}\\left(1 - \\frac{1}{g^\\prime(x^*)} \\right)\n",
    "\\end{align}\n",
    "$$\n",
    "\\implies \\epsilon^{(n+1)} = \\frac{1}{1 - \\frac{1}{g^\\prime(x^*)}} \\Delta^{(n+1)}.\n",
    "$$"
   ]
  },
  {
   "cell_type": "markdown",
   "metadata": {},
   "source": [
    "Agora, próximo da convergência, $g^\\prime(x^*) \\approx g^\\prime(x)$. Caso a derivada seja desconhecida, ou difícil de calcular, podemos estimar a derivada usando uma *diferença finita* (que veremos com mais detalhes adiante no curso). Também, sabemos que $x^{(n+1)} = g(x^{(n)})$. Logo,\n",
    "\n",
    "\\begin{align}\n",
    "g^{\\prime}(x) &\\cong \\frac{g(x^{(n)}) - g(x^{(n-1)})}{x^{(n)} - x^{(n-1)}} \\\\\n",
    "&\\cong \\frac{x^{(n+1)} - x^{(n)}}{x^{(n)} - x^{(n-1)}} \\\\\n",
    "&\\cong \\frac{\\Delta^{(n+1)}}{\\Delta^{(n)}}.\n",
    "\\end{align}"
   ]
  },
  {
   "cell_type": "markdown",
   "metadata": {},
   "source": [
    "Finalmente, o erro estimado no passo $n + 1$ é\n",
    "\n",
    "\\begin{align}\n",
    "\\epsilon^{(n+1)} &= \\frac{1}{1 - \\frac{\\Delta^{(n)}}{\\Delta^{(n+1)}}} \\Delta^{(n + 1)} \\\\\n",
    "&= \\frac{\\left[\\Delta^{(n + 1)}\\right]^2}{\\Delta^{(n+1)} - \\Delta^{(n)}}.\n",
    "\\end{align}"
   ]
  },
  {
   "cell_type": "markdown",
   "metadata": {},
   "source": [
    "Assim, podemos estimar o erro apenas guardando a diferença do passo anterior."
   ]
  },
  {
   "cell_type": "markdown",
   "metadata": {},
   "source": [
    "### Exercício\n",
    "\n",
    "Na teoria de campo médio do ferromagnetismo, a intensidade $M$ da magnetização de um material ferromagnético como ferro depende da temperatura $T$ conforme a equação\n",
    "\n",
    "$$\n",
    "M = \\mu \\tanh \\frac{JM}{k_\\mathrm{B}T},\n",
    "$$"
   ]
  },
  {
   "cell_type": "markdown",
   "metadata": {},
   "source": [
    "onde $\\mu$ é o momento magnético, $J$ é uma constante de acoplamento, e $k_\\mathrm{B}$ é a constante de Boltzmann. Para simplificar, vamos definir $m = \\frac{M}{\\mu}$ e $C =  \\frac{\\mu J}{k_\\mathrm{B}}$, ficando com a equação\n",
    "\n",
    "$$\n",
    "m = \\tanh \\frac{Cm}{T}. \n",
    "$$"
   ]
  },
  {
   "cell_type": "markdown",
   "metadata": {},
   "source": [
    "É fácil ver que esta equação tem uma solução em $m=0$, que significa \"sem magnetização\". Mas e as outras soluções? Não há método conhecido para resolver esta equação analiticamente, vamos encontrá-la numericamente. Vamos tomar $C = 1$ por simplicidade e buscar soluções em função de $T$, com tolerância de $\\epsilon = \\pm 10^{-10}$ da resposta verdadeira. É possível encontrar a derivada da função $g(m)$ analiticamente, e utilizá-la para calcular o erro. A implementação disto fica como exercício.\n",
    "\n",
    "**a.** Defina uma função que calcula $m$ usando o método do ponto fixo. Calcule $m$ para alguns valores de $T$. \n",
    "\n",
    "*Dica: use $N$ grande, pois alguns pontos podem demorar bastante para convergir.*"
   ]
  },
  {
   "cell_type": "code",
   "execution_count": null,
   "metadata": {},
   "outputs": [],
   "source": []
  },
  {
   "cell_type": "markdown",
   "metadata": {},
   "source": [
    "**b.** Faça um gráfico da magnetização em função da temperatura, com $0{,}01 \\lt T \\lt 1{,}5$. Verifique que ocorre uma mudança de fase em $T = 1$."
   ]
  },
  {
   "cell_type": "code",
   "execution_count": null,
   "metadata": {},
   "outputs": [],
   "source": []
  }
 ],
 "metadata": {
  "kernelspec": {
   "display_name": "Python 3 (ipykernel)",
   "language": "python",
   "name": "python3"
  },
  "language_info": {
   "codemirror_mode": {
    "name": "ipython",
    "version": 3
   },
   "file_extension": ".py",
   "mimetype": "text/x-python",
   "name": "python",
   "nbconvert_exporter": "python",
   "pygments_lexer": "ipython3",
   "version": "3.11.5"
  }
 },
 "nbformat": 4,
 "nbformat_minor": 4
}
