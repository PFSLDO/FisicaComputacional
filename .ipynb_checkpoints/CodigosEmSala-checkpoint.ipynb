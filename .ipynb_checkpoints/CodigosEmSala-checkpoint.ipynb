{
 "cells": [
  {
   "cell_type": "markdown",
   "id": "869ce954",
   "metadata": {},
   "source": [
    "Códigos feitos em sala"
   ]
  },
  {
   "cell_type": "code",
   "execution_count": null,
   "id": "d22973db",
   "metadata": {},
   "outputs": [],
   "source": []
  },
  {
   "cell_type": "code",
   "execution_count": 1,
   "id": "a5070bef",
   "metadata": {},
   "outputs": [
    {
     "name": "stdout",
     "output_type": "stream",
     "text": [
      "teste\n"
     ]
    }
   ],
   "source": [
    "print('teste')"
   ]
  },
  {
   "cell_type": "code",
   "execution_count": 2,
   "id": "af09f731",
   "metadata": {},
   "outputs": [
    {
     "data": {
      "image/png": "[encoded data removed]",
      "text/plain": [
       "<Figure size 640x480 with 1 Axes>"
      ]
     },
     "metadata": {},
     "output_type": "display_data"
    },
    {
     "name": "stdout",
     "output_type": "stream",
     "text": [
      "[a, b] = [-2.000000, -1.000000]\n",
      "delta = 2.000000\n",
      "feito em = 1.000000\n",
      "[a, b] = [-2.000000, -1.500000]\n",
      "delta = 1.000000\n",
      "feito em = 2.000000\n",
      "[a, b] = [-2.000000, -1.750000]\n",
      "delta = 0.500000\n",
      "feito em = 3.000000\n",
      "[a, b] = [-1.875000, -1.750000]\n",
      "delta = 0.250000\n",
      "feito em = 4.000000\n",
      "[a, b] = [-1.875000, -1.812500]\n",
      "delta = 0.125000\n",
      "feito em = 5.000000\n",
      "[a, b] = [-1.843750, -1.812500]\n",
      "delta = 0.062500\n",
      "feito em = 6.000000\n",
      "[a, b] = [-1.843750, -1.828125]\n",
      "delta = 0.031250\n",
      "feito em = 7.000000\n",
      "[a, b] = [-1.843750, -1.835938]\n",
      "delta = 0.015625\n",
      "feito em = 8.000000\n",
      "[a, b] = [-1.843750, -1.839844]\n",
      "delta = 0.007812\n",
      "feito em = 9.000000\n",
      "[a, b] = [-1.841797, -1.839844]\n",
      "delta = 0.003906\n",
      "feito em = 10.000000\n",
      "[a, b] = [-1.841797, -1.840820]\n",
      "delta = 0.001953\n",
      "feito em = 11.000000\n",
      "[a, b] = [-1.841797, -1.841309]\n",
      "delta = 0.000977\n",
      "feito em = 12.000000\n",
      "[a, b] = [-1.841553, -1.841309]\n",
      "delta = 0.000488\n",
      "feito em = 13.000000\n",
      "[a, b] = [-1.841431, -1.841309]\n",
      "delta = 0.000244\n",
      "feito em = 14.000000\n",
      "[a, b] = [-1.841431, -1.841370]\n",
      "delta = 0.000122\n",
      "feito em = 15.000000\n",
      "[a, b] = [-1.841431, -1.841400]\n",
      "delta = 0.000061\n",
      "feito em = 16.000000\n",
      "[a, b] = [-1.841415, -1.841400]\n",
      "delta = 0.000031\n",
      "feito em = 17.000000\n",
      "[a, b] = [-1.841408, -1.841400]\n",
      "delta = 0.000015\n",
      "feito em = 18.000000\n",
      "[a, b] = [-1.841408, -1.841404]\n",
      "delta = 0.000008\n",
      "feito em = 19.000000\n"
     ]
    }
   ],
   "source": [
    "import numpy as np\n",
    "import matplotlib.pyplot as plt\n",
    "\n",
    "def f(x):\n",
    "    return np.exp(x) - x - 2.0\n",
    "\n",
    "plt.style.use('ggplot')\n",
    "plt.rcParams['font.family'] = 'serif'\n",
    "plt.rcParams['mathtext.fontset'] = 'stix'\n",
    "\n",
    "fig, ax = plt.subplots()\n",
    "x = np.linspace(-4, 2)\n",
    "ax.plot(x, f(x), label=r'$f(x)$')\n",
    "ax.axhline(0.0, ls='--', color='r', label=r'$y = 0$')\n",
    "ax.set_ylabel(r'$y$')\n",
    "ax.set_xlabel(r'$x$')\n",
    "ax.legend()\n",
    "plt.show()\n",
    "\n",
    "n = 0\n",
    "a = -3.0\n",
    "b = -1.0\n",
    "epsilon = 1e-5\n",
    "delta = np.abs(b - a)\n",
    "passos = 0\n",
    "\n",
    "while (epsilon < delta):\n",
    "    xn = (a + b) / 2.0\n",
    "    delta = np.abs(b - a)\n",
    "    passos += 1\n",
    "    \n",
    "    if (f(a) * f(xn)) < 0:\n",
    "        #print('escolhemos o intervalo à esquerda.')\n",
    "        b = xn\n",
    "    else:\n",
    "        #print('escolhemos o intervalo à direita.')\n",
    "        a = xn\n",
    "\n",
    "    print(f'[a, b] = [{a:.6f}, {b:.6f}]')\n",
    "    print(f'delta = {delta:f}')\n",
    "    print(f'feito em = {passos:f}')"
   ]
  },
  {
   "cell_type": "code",
   "execution_count": null,
   "id": "59fba8ba",
   "metadata": {},
   "outputs": [],
   "source": [
    "kB = 1.380649e-23 # [J/K]\n",
    "h = 6.62607015e-34 # [J.s]\n",
    "c = 299792458.0 # [m/s]\n",
    "\n",
    "def B(l, T):\n",
    "    n = 2 * np.pi * h * c**2 * l**-5\n",
    "    d = np.exp(h * c / (l * kB * T)) - 1\n",
    "    return n / d\n",
    "\n",
    "\n",
    "fig, ax = plt.subplots()\n",
    "ll = np.linspace(100.0e-9, 1000.0e-9, 200)\n",
    "ax.plot(ll / 1e-9, B(ll, T=5500.0), label=r'$B(\\lambda), T= 5500\\,K$')\n",
    "ax.set_ylabel(r'$B(\\lambda)$')\n",
    "ax.set_xlabel(r'$\\lambda [nm]$')\n",
    "ax.legend()\n",
    "plt.show()"
   ]
  }
 ],
 "metadata": {
  "kernelspec": {
   "display_name": "Python 3 (ipykernel)",
   "language": "python",
   "name": "python3"
  },
  "language_info": {
   "codemirror_mode": {
    "name": "ipython",
    "version": 3
   },
   "file_extension": ".py",
   "mimetype": "text/x-python",
   "name": "python",
   "nbconvert_exporter": "python",
   "pygments_lexer": "ipython3",
   "version": "3.11.5"
  }
 },
 "nbformat": 4,
 "nbformat_minor": 5
}
