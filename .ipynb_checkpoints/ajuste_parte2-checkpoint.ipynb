{
 "cells": [
  {
   "cell_type": "markdown",
   "metadata": {},
   "source": [
    "# Ajuste linear: parte 2"
   ]
  },
  {
   "cell_type": "markdown",
   "metadata": {},
   "source": [
    "Nem todo modelo que vamos precisar ajustar é linear. Entretanto, em algumas situações onde podemos usar uma abordagem semelhante. Vejamos alguns casos."
   ]
  },
  {
   "cell_type": "markdown",
   "metadata": {
    "tags": []
   },
   "source": [
    "## Linearização de modelos\n",
    "\n",
    "Ajustes lineares servem pra muitos modelos, não somente para equações lineares. Você provavelmente já fez algo assim no laboratório de Física. Praticamente qualquer função que possua inversa pode ser linearizada, sendo um modelo adequado para um ajuste linear. Considere uma função na forma\n",
    "\n",
    "$$\n",
    "y(x) = a + b\\ f(x).\n",
    "$$\n",
    "\n",
    "Fazendo uma substituição direta $u = f(x)$ ficamos com,\n",
    "\n",
    "$$\n",
    "y(u) = a + b u.\n",
    "$$\n",
    "\n",
    "Neste caso, precisamos converter os $x_i$ para $u_i = f(x_i)$, e depois fazer o ajuste normalmente de $y(u)$ aos dados $u_i$ e $y_i$."
   ]
  },
  {
   "cell_type": "markdown",
   "metadata": {},
   "source": [
    "Por exemplo, seja uma função\n",
    "\n",
    "\\begin{align}\n",
    "y(x) &= a + b \\sqrt x\n",
    "\\end{align}\n",
    "\n",
    "Aqui, fazemos $u_i = \\sqrt{x_i}$, e ajustamos $y(u) = a + b u$."
   ]
  },
  {
   "cell_type": "markdown",
   "metadata": {
    "tags": []
   },
   "source": [
    "### Exponencial\n",
    "Quando temos como modelo uma função exponencial, podemos tomar logaritmo dos dois lados. Neste caso,\n",
    "\n",
    "\\begin{align}\n",
    "y(x) &= a\\mathrm{e}^{bx} \\\\\n",
    "\\ln y(x) &= \\ln a + b x.\n",
    "\\end{align}\n",
    "\n",
    "A substituição neste caso é $v = \\ln y(x)$. Calculamos os valores $v_i = \\ln y_i$, e ajustamos $v(x)$ a $x_i$ e $v_i$."
   ]
  },
  {
   "cell_type": "markdown",
   "metadata": {},
   "source": [
    "### Lei de potência\n",
    "No caso de uma lei de potência do tipo\n",
    "\n",
    "\\begin{align}\n",
    "y(x) &= c x^b,\n",
    "\\end{align}\n",
    "\n",
    "novamente tomamos o logaritmo dos dois lados. Assim,\n",
    "\n",
    "\\begin{align}\n",
    "\\ln y(x) &= \\ln \\left(c x^b \\right) \\\\\n",
    "\\ln y(x) &= \\ln c + b\\ \\ln x.\n",
    "\\end{align}\n",
    "\n",
    "Fazemos duas substituições, $u = \\ln x$ e $v = \\ln y(x)$. Do mesmo modo, calculamos $u_i = \\ln x_i$ e $v_i = \\ln y_i$.\n",
    "Basta então ajustar $v(u) = a + b u$, com $a = \\ln c$, aos dados $u_i$ e $v_i$."
   ]
  },
  {
   "cell_type": "markdown",
   "metadata": {},
   "source": [
    "### Exercício\n",
    "\n",
    "A terceira lei de Kepler relaciona as distâncias dos planetas até o Sol com o período de suas órbitas. Vamos tentar redescobrir esta lei usando técnicas um pouco mais modernas, explorando os dados da tabela abaixo. A coluna $R$ dá o semi-eixo maior da órbita do planeta, em unidades astronômicas ($\\mathrm{au}$), onde\n",
    "$1\\,\\mathrm{au} = 1.495978707 \\times 10^{11}\\,\\mathrm{m}$ é a distância média entre a Terra e o Sol. A Coluna $T$ contém o período orbital, em anos."
   ]
  },
  {
   "cell_type": "code",
   "execution_count": 1,
   "metadata": {
    "nbgrader": {
     "grade": true,
     "grade_id": "cell-9e8d58771e8b059e",
     "locked": false,
     "points": 1,
     "schema_version": 3,
     "solution": true,
     "task": false
    },
    "tags": []
   },
   "outputs": [],
   "source": [
    "import numpy as np\n",
    "import matplotlib.pyplot as plt\n",
    "plt.style.use('ggplot')\n",
    "plt.rcParams['font.family'] = 'serif'\n",
    "plt.rcParams['mathtext.fontset'] = 'stix'"
   ]
  },
  {
   "cell_type": "code",
   "execution_count": 2,
   "metadata": {},
   "outputs": [],
   "source": [
    "# Tabela de dados.\n",
    "# Fonte: Solar System Dynamics - JPL/NASA\n",
    "# Períodos: https://ssd.jpl.nasa.gov/?planet_phys_par\n",
    "# Distâncias: https://ssd.jpl.nasa.gov/txt/p_elem_t1.txt\n",
    "planetas = np.array([('Mercúrio', 0.38709927,   0.2408467),\n",
    "                     ('Vênus',    0.72333566,   0.61519726),\n",
    "                     ('Terra',    1.00000261,   1.0000174),\n",
    "                     ('Marte',    1.52371034,   1.8808476),\n",
    "                     ('Júpiter',  5.20288700,  11.862615),\n",
    "                     ('Saturno',  9.53667594,  29.447498),\n",
    "                     ('Urano',   19.18916464,  84.016846),\n",
    "                     ('Netuno',  30.06992276, 164.79132),\n",
    "                     ('Plutão 😢',  39.48211675, 247.92065)],\n",
    "                    dtype=[('nome', 'U8'), ('R', 'float64'), ('T', 'float64')])\n",
    "\n",
    "# Variáveis com arrays para acesso rápido.\n",
    "nome = planetas['nome']\n",
    "R = planetas['R']\n",
    "T = planetas['T']"
   ]
  },
  {
   "cell_type": "markdown",
   "metadata": {},
   "source": [
    "**a.** Faça um gráfico da distância em função do período, usando escala logarítmica nos dois eixos. *Sugestão*: não ligue os pontos com linhas interpoladas. Use a função `ax.scatter(x, y)`."
   ]
  },
  {
   "cell_type": "code",
   "execution_count": 3,
   "metadata": {
    "nbgrader": {
     "grade": true,
     "grade_id": "cell-9e8d58771e8b059e",
     "locked": false,
     "points": 1,
     "schema_version": 3,
     "solution": true,
     "task": false
    }
   },
   "outputs": [
    {
     "data": {
      "image/png": "[encoded data removed]",
      "text/plain": [
       "<Figure size 640x480 with 1 Axes>"
      ]
     },
     "metadata": {},
     "output_type": "display_data"
    }
   ],
   "source": [
    "fig, ax = plt.subplots()\n",
    "ax.scatter(T, R)\n",
    "ax.set_xscale('log')\n",
    "ax.set_yscale('log')\n",
    "ax.set_xlabel('Período [anos]')\n",
    "ax.set_ylabel('Semi-eixo maior [u.a.]')\n",
    "plt.show()"
   ]
  },
  {
   "cell_type": "markdown",
   "metadata": {},
   "source": [
    "**b.** Se tudo correu bem, você vai ver que os pontos formam aproximadamente uma linha reta no gráfico em escala logarítmica. Proponha um modelo linear, e determine qual a lei empírica $R(T)$."
   ]
  },
  {
   "cell_type": "markdown",
   "metadata": {},
   "source": []
  },
  {
   "cell_type": "markdown",
   "metadata": {},
   "source": [
    "**c.** Escrevendo o código explicitamente, faça um ajuste linear e imprima os valores dos coeficiente $a$ e $b$. Como não temos dados de incerteza, admita que as incertezas são todas iguais a 1.\n",
    "\n",
    "Faça novamente o gráfico com os dados, agora sobrepondo o modelo ajustado."
   ]
  },
  {
   "cell_type": "code",
   "execution_count": 4,
   "metadata": {
    "nbgrader": {
     "grade": true,
     "grade_id": "cell-c6c80d078fb8604d",
     "locked": false,
     "points": 2,
     "schema_version": 3,
     "solution": true,
     "task": false
    }
   },
   "outputs": [
    {
     "name": "stdout",
     "output_type": "stream",
     "text": [
      "9.0 8.523958501610776 5.6832960056652055 12.111121261666227 18.16471329357998\n",
      "a = 0.00001\n",
      "b = 0.66674\n",
      "c = 1.00002\n"
     ]
    },
    {
     "data": {
      "image/png": "[encoded data removed]",
      "text/plain": [
       "<Figure size 640x480 with 1 Axes>"
      ]
     },
     "metadata": {},
     "output_type": "display_data"
    }
   ],
   "source": [
    "rho = np.log10(R)\n",
    "tau = np.log10(T)\n",
    "\n",
    "S = Sx = Sy = Sxy = Sxx = 0.0\n",
    "s_exp = np.ones(len(tau))\n",
    "\n",
    "for i in range(len(tau)):\n",
    "    S += 1 / s_exp[i]**2\n",
    "    Sx += tau[i] / s_exp[i]**2\n",
    "    Sy += rho[i] / s_exp[i]**2\n",
    "    Sxy += tau[i] * rho[i] / s_exp[i]**2\n",
    "    Sxx += tau[i]**2 / s_exp[i]**2\n",
    "\n",
    "print(S, Sx, Sy, Sxy, Sxx)    \n",
    "\n",
    "delta = S * Sxx - Sx**2\n",
    "a = (Sxx * Sy - Sx * Sxy) / delta\n",
    "b = (S * Sxy - Sx * Sy) / delta\n",
    "c = 10**a\n",
    "print(f'a = {a:.5f}')\n",
    "print(f'b = {b:.5f}')\n",
    "print(f'c = {c:.5f}')\n",
    "\n",
    "N = 200\n",
    "T_modelo = np.linspace(0.2, 250.0, N)\n",
    "R_modelo = np.zeros(N)\n",
    "\n",
    "for i in range(N):\n",
    "    R_modelo[i] = c * T_modelo[i]**b\n",
    "\n",
    "fig, ax = plt.subplots()\n",
    "ax.scatter(T, R)\n",
    "ax.plot(T_modelo, R_modelo)\n",
    "ax.set_xlabel('Período [anos]')\n",
    "ax.set_ylabel('Semi-eixo maior [u.a.]')\n",
    "plt.show()"
   ]
  },
  {
   "cell_type": "markdown",
   "metadata": {},
   "source": [
    "Estes são dados parecidos com os que Kepler usou para determinar a sua terceira lei. Relembrando,\n",
    "\n",
    "$$\n",
    "\\frac{R^3}{T^2} \\cong 1\\,\\mathrm{au}^3\\,\\mathrm{a}^{-2}{,}\\ \\mathrm{constante}.\n",
    "$$"
   ]
  },
  {
   "cell_type": "markdown",
   "metadata": {},
   "source": [
    "Essa constante é obviamente próxima de 1, pois usamos a órbita da Terra para definir unidade astronômica e ano. Com o desenvolvimento da mecânica, Newton demonstrou que a terceira lei de Kepler é descrita por\n",
    "\n",
    "$$\n",
    "\\frac{R^3}{T^2} = \\frac{G (M_\\odot + m)}{4 \\pi^2} \\cong \\frac{G M_\\odot}{4 \\pi^2},\n",
    "$$\n",
    "\n",
    "onde $G$ é a constante gravitacional, $M_\\odot$ é a massa do Sol, e $m$ é a massa do planeta (desprezível para nossos propósitos)."
   ]
  },
  {
   "cell_type": "markdown",
   "metadata": {
    "tags": []
   },
   "source": [
    "**d.** Relacione seu modelo empríco com a equação acima, para entender o papel dos coeficientes angular e linear."
   ]
  },
  {
   "cell_type": "markdown",
   "metadata": {
    "tags": []
   },
   "source": []
  },
  {
   "cell_type": "markdown",
   "metadata": {
    "tags": []
   },
   "source": [
    "**e.** Se tudo correu bem, você descobriu que o coeficiente linear está relacionado à constante gravitacional $G$ e à massa do Sol $M_\\odot$. Sabemos que a constante $G$ é universal, e pode ser medida por meios independentes, aqui mesmo na Terra.\n",
    "\n",
    "Assim, usando o coeficiente linear que você ajustou, calcule e imprima a massa do Sol, em quilogramas. Use $G = 6.67430 \\times 10^{-11}\\,\\mathrm{m}^3\\,\\mathrm{kg}^{-1}\\,\\mathrm{s}^{-2}$. Lembre-se de converter, ou, nas unidades do nosso problema, sabendo que um ano tem $365.25$ dias."
   ]
  },
  {
   "cell_type": "markdown",
   "metadata": {
    "tags": []
   },
   "source": [
    "Imprima também o erro relativo ao valor \"oficial\", $M_\\odot = (1.98847 \\pm 0.00007) \\times 10^{30}\\,\\mathrm{kg}$. Este valor também foi obtido usando a Lei de Kepler, porém com mais dados e um modelo mais detalhado."
   ]
  },
  {
   "cell_type": "code",
   "execution_count": 5,
   "metadata": {
    "nbgrader": {
     "grade": true,
     "grade_id": "cell-368d59e48be2ce9d",
     "locked": false,
     "points": 2,
     "schema_version": 3,
     "solution": true,
     "task": false
    }
   },
   "outputs": [
    {
     "ename": "SyntaxError",
     "evalue": "invalid syntax (1276989479.py, line 8)",
     "output_type": "error",
     "traceback": [
      "\u001b[0;36m  Cell \u001b[0;32mIn[5], line 8\u001b[0;36m\u001b[0m\n\u001b[0;31m    erro_rel =\u001b[0m\n\u001b[0m               ^\u001b[0m\n\u001b[0;31mSyntaxError\u001b[0m\u001b[0;31m:\u001b[0m invalid syntax\n"
     ]
    }
   ],
   "source": [
    "ua = 1.495978707e11 #m\n",
    "ano = 365.25 * 24 * 3600 #s\n",
    "m3 = ua**-3\n",
    "s2 = ano**-2\n",
    "G = 6.67430e-11 * m3 / s2\n",
    "M_real = 1.98847e30\n",
    "\n",
    "M_sol = 4 * np.pi**2 * 10**(3 * a) / G\n",
    "erro_rel = (M_sol - M_real) / M_real\n",
    "\n",
    "print(M_sol, erro_rel)"
   ]
  },
  {
   "cell_type": "markdown",
   "metadata": {},
   "source": [
    "## Conclusão\n",
    "\n",
    "Aprendemos uma ferramenta simples, porém poderosa, de análise de dados experimentais: o ajuste linear. A solução do ajuste linear é analítica, logo temos uma solução direta. Quando um modelo não é linear, nem mesmo linearizável (pense numa função definida como uma integral, como vimos na semanas 3 e 4), existem outras alternativas mais complexas de ajuste. A maioria envolve uma busca inteligente no espaço de parâmetros, e requer muita atenção para saber se de fato encontramos o melhor ajuste."
   ]
  }
 ],
 "metadata": {
  "kernelspec": {
   "display_name": "Python 3 (ipykernel)",
   "language": "python",
   "name": "python3"
  },
  "language_info": {
   "codemirror_mode": {
    "name": "ipython",
    "version": 3
   },
   "file_extension": ".py",
   "mimetype": "text/x-python",
   "name": "python",
   "nbconvert_exporter": "python",
   "pygments_lexer": "ipython3",
   "version": "3.11.5"
  }
 },
 "nbformat": 4,
 "nbformat_minor": 4
}
