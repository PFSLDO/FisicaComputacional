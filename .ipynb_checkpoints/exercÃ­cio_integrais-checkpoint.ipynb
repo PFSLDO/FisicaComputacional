{
 "cells": [
  {
   "cell_type": "markdown",
   "metadata": {},
   "source": [
    "# Exercício\n",
    "\n",
    "## Função erro"
   ]
  },
  {
   "cell_type": "markdown",
   "metadata": {},
   "source": [
    "Considere a integral\n",
    "\n",
    "$$\n",
    "\\mathrm{erf}(x) = \\frac{2}{\\sqrt{\\pi}} \\int_0^x \\mathrm{e}^{-t^2}\\ \\mathrm{d}t.\n",
    "$$"
   ]
  },
  {
   "cell_type": "markdown",
   "metadata": {},
   "source": [
    "Note que esta é uma integral definida, sobre a variável $t$, com o limite superior variável. Ou seja, o resultado é uma função de $x$, chamada de *função erro*, que aparece muito em cálculos de probabilidade. Não existe maneira conhecida de resolver esta integral analiticamente. A única forma de resolvê-la é numericamente."
   ]
  },
  {
   "cell_type": "markdown",
   "metadata": {},
   "source": [
    "**a.** Calcule numericamente $\\mathrm{erf}(x=1)$. Escolha você mesmo o método (exceto a regra retangular) e o número de intervalos. Não esqueça de fazer um print do resultado.\n",
    "\n",
    "*Resposta*: $\\mathrm{erf}(1.0) \\cong 0.8427$."
   ]
  },
  {
   "cell_type": "code",
   "execution_count": 1,
   "metadata": {
    "nbgrader": {
     "grade": true,
     "grade_id": "cell-54205ce49d485392",
     "locked": false,
     "points": 2,
     "schema_version": 3,
     "solution": true,
     "task": false
    }
   },
   "outputs": [
    {
     "name": "stdout",
     "output_type": "stream",
     "text": [
      "0.8427078551103628\n"
     ]
    }
   ],
   "source": [
    "import numpy as np\n",
    "\n",
    "def integrando(x):\n",
    "    return np.exp(-x**2)\n",
    "\n",
    "lim1 = 0.0\n",
    "lim2 = 1.0\n",
    "\n",
    "def integralSimpson(N):\n",
    "    h = (lim2 - lim1) / N\n",
    "    integralImp = 0\n",
    "    integralPar = 0\n",
    "    integral = 0\n",
    "    xi = 0\n",
    "\n",
    "    for i in range(1, N, 2): #impares\n",
    "        xi = lim1 + i*h\n",
    "        integralImp += integrando(xi)\n",
    "        \n",
    "    xi = 0\n",
    "    for i in range(2, N, 2): #pares\n",
    "        xi = lim1 + i*h\n",
    "        integralPar += integrando(xi)\n",
    "        \n",
    "    integral = h * (4 * integralImp + 2 * integralPar + integrando(lim1) + integrando(lim2)) / 3\n",
    "    resultado = 2 * integral / (np.sqrt(np.pi))\n",
    "    return resultado\n",
    "\n",
    "print(integralSimpson(6))"
   ]
  },
  {
   "cell_type": "markdown",
   "metadata": {},
   "source": [
    "**b.** Programe a função abaixo tal que ela calcule $\\mathrm{erf}(x)$ para um $x$ qualquer passado como parâmetro.\n",
    "Utilizando a função que você programou, calcule $\\mathrm{erf}(1.0)$. O resultado deve ser igual ao do item anterior."
   ]
  },
  {
   "cell_type": "code",
   "execution_count": 2,
   "metadata": {
    "nbgrader": {
     "grade": true,
     "grade_id": "cell-acef7d7e96fe56b3",
     "locked": false,
     "points": 2,
     "schema_version": 3,
     "solution": true,
     "task": false
    }
   },
   "outputs": [
    {
     "name": "stdout",
     "output_type": "stream",
     "text": [
      "erf(1.0) = 0.8427\n"
     ]
    }
   ],
   "source": [
    "def integralSimpsonGeral(f, a, b, N):\n",
    "    h = (b - a) / N\n",
    "    integralImp = 0\n",
    "    integralPar = 0\n",
    "    integral = 0\n",
    "    xi = 0\n",
    "\n",
    "    for i in range(1, N, 2): #impares\n",
    "        xi = a + i*h\n",
    "        integralImp += f(xi)\n",
    "        \n",
    "    xi = 0\n",
    "    for i in range(2, N, 2): #pares\n",
    "        xi = a + i*h\n",
    "        integralPar += f(xi)\n",
    "        \n",
    "    integral = h * (4 * integralImp + 2 * integralPar + f(a) + f(b)) / 3\n",
    "    resultado = 2 * integral / (np.sqrt(np.pi))\n",
    "    return resultado\n",
    "\n",
    "\n",
    "erf_1 = integralSimpsonGeral(integrando, lim1, lim2, 6)\n",
    "print(f'erf(1.0) = {erf_1:.4f}')"
   ]
  },
  {
   "cell_type": "markdown",
   "metadata": {},
   "source": [
    "**c.** Usando a função programada acima, faça o gráfico de $\\mathrm{erf}(x)$ para $-3 < x < 3$, com pontos em intervalos de $0.1$. Não esqueça das etiquetas dos eixos e do título.\n",
    "\n",
    "Compare o seu gráfico com o que aparece na [página da Wikipedia sobre função erro](https://en.wikipedia.org/wiki/Error_function), para saber se o resultado está correto."
   ]
  },
  {
   "cell_type": "code",
   "execution_count": 3,
   "metadata": {
    "nbgrader": {
     "grade": true,
     "grade_id": "cell-d6d79977eb47d70b",
     "locked": false,
     "points": 2,
     "schema_version": 3,
     "solution": true,
     "task": false
    }
   },
   "outputs": [
    {
     "ename": "TypeError",
     "evalue": "'float' object cannot be interpreted as an integer",
     "output_type": "error",
     "traceback": [
      "\u001b[0;31m---------------------------------------------------------------------------\u001b[0m",
      "\u001b[0;31mTypeError\u001b[0m                                 Traceback (most recent call last)",
      "Cell \u001b[0;32mIn[3], line 9\u001b[0m\n\u001b[1;32m      7\u001b[0m lista_N \u001b[38;5;241m=\u001b[39m []\n\u001b[1;32m      8\u001b[0m lista_Int \u001b[38;5;241m=\u001b[39m []\n\u001b[0;32m----> 9\u001b[0m \u001b[38;5;28;01mfor\u001b[39;00m n \u001b[38;5;129;01min\u001b[39;00m \u001b[38;5;28mrange\u001b[39m(\u001b[38;5;241m-\u001b[39m\u001b[38;5;241m3\u001b[39m, \u001b[38;5;241m3.1\u001b[39m, \u001b[38;5;241m0.1\u001b[39m):\n\u001b[1;32m     10\u001b[0m     lista_N\u001b[38;5;241m.\u001b[39mappend(n)\n\u001b[1;32m     11\u001b[0m     lista_Int\u001b[38;5;241m.\u001b[39mappend(integralSimpsonGeral(integrando, lim1, lim2, n))\n",
      "\u001b[0;31mTypeError\u001b[0m: 'float' object cannot be interpreted as an integer"
     ]
    }
   ],
   "source": [
    "import matplotlib.pyplot as plt\n",
    "\n",
    "plt.style.use('ggplot')\n",
    "plt.rcParams['font.family'] = 'serif'\n",
    "plt.rcParams['mathtext.fontset'] = 'stix'\n",
    "\n",
    "lista_N = []\n",
    "lista_Int = []\n",
    "for n in range(-3, 3.1, 0.1): #errado\n",
    "    lista_N.append(n)\n",
    "    lista_Int.append(integralSimpsonGeral(integrando, lim1, lim2, n))\n",
    "\n",
    "fig, ax = plt.subplots()\n",
    "ax.plot(lista_N, lista_Int, label=\"Metodo Simpson\")\n",
    "ax.set_xscale('log')\n",
    "ax.set_title(\"Error function\")\n",
    "ax.legend()\n",
    "plt.show()"
   ]
  }
 ],
 "metadata": {
  "celltoolbar": "Create Assignment",
  "kernelspec": {
   "display_name": "Python 3 (ipykernel)",
   "language": "python",
   "name": "python3"
  },
  "language_info": {
   "codemirror_mode": {
    "name": "ipython",
    "version": 3
   },
   "file_extension": ".py",
   "mimetype": "text/x-python",
   "name": "python",
   "nbconvert_exporter": "python",
   "pygments_lexer": "ipython3",
   "version": "3.11.5"
  }
 },
 "nbformat": 4,
 "nbformat_minor": 4
}
