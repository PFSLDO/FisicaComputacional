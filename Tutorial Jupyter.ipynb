{
 "cells": [
  {
   "cell_type": "markdown",
   "metadata": {},
   "source": [
    "# Aula 01 - Tutorial básico de Jupyter Notebook"
   ]
  },
  {
   "cell_type": "markdown",
   "metadata": {},
   "source": [
    "Vamos aprender a usar Jupyter Notebooks. A ideia é ter o equivalente a um caderno de notas de aula, onde podemos ter:\n",
    "\n",
    "* texto\n",
    "* equações matemáticas\n",
    "* código\n",
    "* gráficos"
   ]
  },
  {
   "cell_type": "markdown",
   "metadata": {},
   "source": [
    "Veja a [ajuda sobre notebooks](https://nbviewer.jupyter.org/github/ipython/ipython/blob/3.x/examples/Notebook/Index.ipynb). Não esqueça de olhar o \"JupyterLab Reference\" no menu `Help`! Também não se esqueça colocar um nome e salvar seu notebook de vez em quando!"
   ]
  },
  {
   "cell_type": "markdown",
   "metadata": {},
   "source": [
    "## Tipos de célula\n",
    "O Jupyter tem 2 modos de funcionamento: Modo de comando e modo de edição. Em cada um deles nós podemos interagir com células de forma diferente. Células são os elementos básicos de um notebook. Há essencialmente dois tipos de células: markdown e code."
   ]
  },
  {
   "cell_type": "markdown",
   "metadata": {},
   "source": [
    "Células markdown contêm texto e equações, com a [sintaxe de markdown](https://math.meta.stackexchange.com/questions/5020/mathjax-basic-tutorial-and-quick-reference) (um HTML simplificado) e equações usando LaTeX com ajuda do [mathjax](https://math.meta.stackexchange.com/questions/5020/mathjax-basic-tutorial-and-quick-reference)."
   ]
  },
  {
   "cell_type": "markdown",
   "metadata": {},
   "source": [
    "Células code contêm código python, que será interpretado pelo kernel que está em execução. O kernel é um ambiente python que fica rodando quando você abre o notebook com o comando shell `jupyter notebook`. Um kernel pode servir a vários notebooks.\n",
    "\n",
    "Uma célula precisa ser executada para que o seu conteúdo seja atualizado no notebook. Se for markdown, o texto é renderizado, junto com as equações. Se for code, o código é executado."
   ]
  },
  {
   "cell_type": "markdown",
   "metadata": {},
   "source": [
    "## Modos de comando e edição\n",
    "O modo de comando é o padrão. Para ativar o modo de comando, pressione a tecla `Esc`. Para ativar o modo de edição, use a tecla `Enter`. Pode-se executar uma célula em qualquer modo, pressione `Ctr-Enter`. Note que quando estamos em modo de comando, a célula selecionada tem a cor azul, e no modo de edição, verde."
   ]
  },
  {
   "cell_type": "markdown",
   "metadata": {},
   "source": [
    "Use as setas para selecionar alguma célula. Para mudar o tipo de uma célula para código, use a tecla `y`. Para o modo markdown, use a tecla `m`. Claro, dá pra fazer tudo isso com o mouse caso você se perca."
   ]
  },
  {
   "cell_type": "markdown",
   "metadata": {},
   "source": [
    "## Equações"
   ]
  },
  {
   "cell_type": "markdown",
   "metadata": {},
   "source": [
    "O Jupyter usa a notação do LaTeX. Suporta tanto equaçãoes inline (para coisas simples como $E = h\\nu$) quanto em bloco:\n",
    "\n",
    "$$\n",
    "i\\hbar\\frac{\\partial}{\\partial t} \\Psi(\\mathbf{r},t) = \\left [ \\frac{-\\hbar^2}{2m}\\nabla^2 + V(\\mathbf{r},t)\\right ] \\Psi(\\mathbf{r},t)\n",
    "$$"
   ]
  },
  {
   "cell_type": "markdown",
   "metadata": {},
   "source": [
    "Para o modo inline, use o delimitador `$`. No exemplo acima: `$E = H\\nu$`. Para o modo em bloco, use o delimitador `$$`. por exemplo:\n",
    "\n",
    "```\n",
    "$$\n",
    "i\\hbar\\frac{\\partial}{\\partial t} \\Psi(\\mathbf{r},t) = \\left [ \\frac{-\\hbar^2}{2m}\\nabla^2 + V(\\mathbf{r},t)\\right ] \\Psi(\\mathbf{r},t)\n",
    "$$\n",
    "```"
   ]
  },
  {
   "cell_type": "markdown",
   "metadata": {},
   "source": [
    "## Código\n",
    "Vamos usar a linguagem de programação Python. Escreva a linha a seguir na célula abaixo.\n",
    "\n",
    "```\n",
    "print('Olá Mundo!')\n",
    "```\n",
    "\n",
    "Não se esqueça mudar o tipo da célula para código."
   ]
  },
  {
   "cell_type": "markdown",
   "metadata": {},
   "source": []
  },
  {
   "cell_type": "markdown",
   "metadata": {},
   "source": [
    "### Cuidado com a ordem de execução!\n",
    "Verifique sempre se as células foram executadas em ordem. Execute as células abaixo em qualquer ordem e veja a bagunça!\n",
    "\n",
    "Na dúvida, se as coisas parecerem inconsistentes, o mais seguro é usar o menu `Kernel/Restart Kernel and Run All Cells...`"
   ]
  },
  {
   "cell_type": "code",
   "execution_count": 1,
   "metadata": {},
   "outputs": [
    {
     "name": "stdout",
     "output_type": "stream",
     "text": [
      "0.2\n"
     ]
    }
   ],
   "source": [
    "x = 0.1 + 0.1\n",
    "print(x)"
   ]
  },
  {
   "cell_type": "code",
   "execution_count": 2,
   "metadata": {},
   "outputs": [
    {
     "name": "stdout",
     "output_type": "stream",
     "text": [
      "1.3\n"
     ]
    }
   ],
   "source": [
    "x = 1 + 0.3\n",
    "print(x)"
   ]
  },
  {
   "cell_type": "code",
   "execution_count": 3,
   "metadata": {},
   "outputs": [
    {
     "name": "stdout",
     "output_type": "stream",
     "text": [
      "1.3\n"
     ]
    }
   ],
   "source": [
    "print(x)"
   ]
  },
  {
   "cell_type": "markdown",
   "metadata": {},
   "source": [
    "## Considerações finais"
   ]
  },
  {
   "cell_type": "markdown",
   "metadata": {},
   "source": [
    "Esse negócio de notebook com markdown e equações em LaTeX parece complicado demais! Mas, não se preocupe, com o tempo você pega o jeito. Usamos notebooks para documentar e comunicar estudos, ou mesmo de uma forma exploratória. Adicionalmente, aprender LaTeX é conveniente, principalmente pra quem pretende publicar em revistas científicas."
   ]
  },
  {
   "cell_type": "markdown",
   "metadata": {},
   "source": [
    "Quando você já estiver craque em Python e notebooks, você vai poder escrever scripts Python em um editor de texto, ou então usar um terminal interativo como o [IPython](https://ipython.readthedocs.io/en/stable/interactive/tutorial.html)."
   ]
  }
 ],
 "metadata": {
  "kernelspec": {
   "display_name": "Python 3 (ipykernel)",
   "language": "python",
   "name": "python3"
  },
  "language_info": {
   "codemirror_mode": {
    "name": "ipython",
    "version": 3
   },
   "file_extension": ".py",
   "mimetype": "text/x-python",
   "name": "python",
   "nbconvert_exporter": "python",
   "pygments_lexer": "ipython3",
   "version": "3.11.5"
  }
 },
 "nbformat": 4,
 "nbformat_minor": 4
}
