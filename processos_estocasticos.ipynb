{
 "cells": [
  {
   "cell_type": "markdown",
   "metadata": {},
   "source": [
    "# Processos estocásticos em Física"
   ]
  },
  {
   "cell_type": "markdown",
   "metadata": {},
   "source": [
    "Em alguns problemas de física, podemos ter eventos com uma determinada probabilidade $P$ de ocorrer. Por exemplo, um dado de 6 lados tem probabilidade $P = \\frac 1 6$ de cair com o lado 6 para cima. A probabilidade é a mesma para qualquer lado. Num outro exemplo, uma moeda viciada pode ter probabilidade $P = 0.2$ de dar cara. Como podemos simular isso num computador?"
   ]
  },
  {
   "cell_type": "markdown",
   "metadata": {},
   "source": [
    "## Modelando probabilidades discretas\n",
    "Suponha que temos um evento que ocorre com probabilidade uniforme, gerando um valor $r$ entre $a$ e $b$. Neste caso, a *função distribuição de probabilidade* (PDF) tem a aparência mostrada abaixo."
   ]
  },
  {
   "cell_type": "markdown",
   "metadata": {},
   "source": [
    "![PDF uniforme de a até b, com uma região selecionada, interna e menor, c até d.](data:image/png;base64,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\n",
    ")"
   ]
  },
  {
   "cell_type": "markdown",
   "metadata": {},
   "source": [
    "Uma região menor entre $c$ e $d$ está selecionada. Perguntamos: qual a probabilidade do valor $r$ ocorrer entre $c$ e $d$?"
   ]
  },
  {
   "cell_type": "markdown",
   "metadata": {},
   "source": [
    "Para calcular esta probabilidade formalmente, precisamos integrar a PDF entre os valores que estamos interessados. Porém, sabemos que a probabilidade é uniforme, e então, a probabilidade é simplesmente proporcional à razão entre a área do retângulo delimitado por $c$ e $d$ e do retângulo delimitado por $a$ e $b$. Isto é,"
   ]
  },
  {
   "cell_type": "markdown",
   "metadata": {},
   "source": [
    "\\begin{align}\n",
    "P(c < r < d) &= \\frac{(d - c)h}{(b - a)h} \\\\\n",
    "&= \\frac{d - c}{b - a}.\n",
    "\\end{align}"
   ]
  },
  {
   "cell_type": "markdown",
   "metadata": {},
   "source": [
    "Podemos perceber que a probabilidade é proporcional ao tamanho dos segmentos. No nosso gerador de números pseudo-aleatórios (PRNG), conseguimos um valor com distribuição uniforme entre $a=0$ e $b=1$. Neste caso, a probabilidade é simplesmente $P(c < r < d) = d - c$."
   ]
  },
  {
   "cell_type": "markdown",
   "metadata": {},
   "source": [
    "## Simulando uma moeda viciada\n",
    "\n",
    "Voltando ao exemplo da moeda viciada, que cai com *cara* pra cima em 20% dos lançamentos. Como simular este problema usando o que vimos acima?"
   ]
  },
  {
   "cell_type": "markdown",
   "metadata": {},
   "source": [
    "Como temos um PRNG uniforme que gera valores entre 0 e 1, precisamos de dois valores $c$ e $d$ tal que\n",
    "\n",
    "$$\n",
    "P(c < r < d) = d - c = 0{,}2.\n",
    "$$"
   ]
  },
  {
   "cell_type": "markdown",
   "metadata": {},
   "source": [
    "Colhemos um número $r$ do PRNG. Se $r$ estiver entre $c$ e $d$, dizemos que a moeda deu cara. Caso contrário, coroa. Quaisquer $c$ e $d$ entre 0 e 1 servem, desde que $d - c = 0{,}2$. Um jeito simples é fazer $c=0$ e $d=0{,}2$, e assim, podemos escrever em código:"
   ]
  },
  {
   "cell_type": "code",
   "execution_count": null,
   "metadata": {},
   "outputs": [],
   "source": [
    "import numpy as np\n",
    "d = 0.2\n",
    "r = np.random.rand()\n",
    "if r < d:\n",
    "    print('cara')\n",
    "else:\n",
    "    print('coroa')"
   ]
  },
  {
   "cell_type": "markdown",
   "metadata": {},
   "source": [
    "Execute a célula acima muitas vezes e veja que na maioria das vezes é impressa a palavra `coroa`. Esperamos que o resultado seja coroa 20% das vezes. Uma forma de verificar isto é contando quantas vezes sai cara ou coroa, com $N$ lançamentos da moeda."
   ]
  },
  {
   "cell_type": "code",
   "execution_count": null,
   "metadata": {},
   "outputs": [],
   "source": [
    "np.random.seed(1234)\n",
    "\n",
    "def moeda_viciada():\n",
    "    p = 0.2\n",
    "    r = np.random.rand()\n",
    "    if r < p:\n",
    "        return 'cara'\n",
    "    else:\n",
    "        return 'coroa'"
   ]
  },
  {
   "cell_type": "code",
   "execution_count": null,
   "metadata": {},
   "outputs": [],
   "source": [
    "# Vamos contar quantas vezes sai cara ou coroa.\n",
    "cara = 0\n",
    "coroa = 0\n",
    "N = 100\n",
    "\n",
    "for _ in range(N):\n",
    "    # O índice aqui é irrelevante, chamamos a variável do laço\n",
    "    # de _ para indicar isso. Lançamos a moeda N vezes e contamos\n",
    "    # quantas vezes caiu em cada lado.\n",
    "    if moeda_viciada() == 'cara':\n",
    "        cara += 1\n",
    "    else:\n",
    "        coroa += 1"
   ]
  },
  {
   "cell_type": "code",
   "execution_count": null,
   "metadata": {},
   "outputs": [],
   "source": [
    "# A probabilidade estimada para cara ou coroa é\n",
    "# a fração de vezes que caiu em cada lado.\n",
    "p_cara = cara / N\n",
    "p_coroa = coroa / N\n",
    "\n",
    "print(f'cara  (%): {p_cara * 100:.1f}%')\n",
    "print(f'coroa (%): {p_coroa * 100:.1f}%')"
   ]
  },
  {
   "cell_type": "markdown",
   "metadata": {},
   "source": [
    "Faremos isso para vários valores crescentes de $N$, e veremos se o resultado faz sentido."
   ]
  },
  {
   "cell_type": "code",
   "execution_count": null,
   "metadata": {},
   "outputs": [],
   "source": [
    "np.random.seed(1234)\n",
    "\n",
    "def prob_moeda(N):\n",
    "    cara = 0\n",
    "    coroa = 0\n",
    "    for _ in range(N):\n",
    "        if moeda_viciada() == 'cara':\n",
    "            cara += 1\n",
    "        else:\n",
    "            coroa += 1\n",
    "    p_cara = cara / N\n",
    "    p_coroa = coroa / N\n",
    "    return p_cara, p_coroa"
   ]
  },
  {
   "cell_type": "code",
   "execution_count": null,
   "metadata": {},
   "outputs": [],
   "source": [
    "# M experimentos, com números de lançamentos\n",
    "# N crescentes.\n",
    "M = 100\n",
    "    \n",
    "# Valores da probabilidade estimada em função de N.\n",
    "p_cara = np.zeros(M)\n",
    "p_coroa = np.zeros(M)\n",
    "\n",
    "# Valores de N espaçados em\n",
    "# escala logarítmica (N = 10¹ até N = 10⁵).\n",
    "N_array = np.logspace(1, 5, M)\n",
    "\n",
    "for k, N in enumerate(N_array):\n",
    "    # A saída de logspace() é um número float.\n",
    "    # Precisamos de int para o range().\n",
    "    N = int(N)\n",
    "    p_cara[k], p_coroa[k] = prob_moeda(N)"
   ]
  },
  {
   "cell_type": "code",
   "execution_count": null,
   "metadata": {},
   "outputs": [],
   "source": [
    "import matplotlib.pyplot as plt\n",
    "plt.style.use('ggplot')\n",
    "plt.rcParams['font.family'] = 'serif'\n",
    "plt.rcParams['mathtext.fontset'] = 'stix'"
   ]
  },
  {
   "cell_type": "code",
   "execution_count": null,
   "metadata": {},
   "outputs": [],
   "source": [
    "fig, ax = plt.subplots()\n",
    "ax.plot(N_array, p_cara, label='cara')\n",
    "ax.plot(N_array, p_coroa, label='coroa')\n",
    "\n",
    "# Valores das probabilidades reais.\n",
    "ax.axhline(0.2, ls = '--', lw=1)\n",
    "ax.axhline(0.8, ls = '--', lw=1)\n",
    "\n",
    "ax.set_xscale('log')\n",
    "ax.set_xlabel('N')\n",
    "ax.legend()\n",
    "plt.show()"
   ]
  },
  {
   "cell_type": "markdown",
   "metadata": {},
   "source": [
    "Conforme o número de lançamentos aumenta, a fração de vezes que o resultado é cara se aproxima do valor da probabilidade definida no modelo,\n",
    "\n",
    "$$\n",
    "P_\\text{cara} \\cong P(c < r < d) = 0{,}2.\n",
    "$$"
   ]
  },
  {
   "cell_type": "markdown",
   "metadata": {},
   "source": [
    "O cálculo da probabilidade de dar coroa é trivial, pois sabemos que quando não sai cara, sai coroa. Neste caso, $P_\\text{cara} + P_\\text{coroa} = 1$, logo $P_\\text{coroa} \\cong 0.8$."
   ]
  },
  {
   "cell_type": "markdown",
   "metadata": {},
   "source": [
    "### Exemplo: caminhada aleatória\n",
    "\n",
    "Uma partícula num gás ou fluido qualquer recebe um bombardeio de colisões com as moléculas deste meio. Se a partícula for suficientemente pequena, essas colisões conseguem alterar o movimento da partícula, fazendo-a percorrer um caminho aleatório, comnhecido como *movimento browniano*."
   ]
  },
  {
   "cell_type": "markdown",
   "metadata": {},
   "source": [
    "Uma forma de aproximar o movimento browniano é através da *caminhada aleatória*, com passos discretos. Quando o tamanho do passo é suficientemente pequeno, a caminhada aleatória se aproxima do movimento browniano. Vamos fazer uma simulação, onde uma partícula pode ocupar posições discretas dadas pelas coordenadas $(i, j)$, com $i$ e $j$ inteiros, começando na posição $i=j=0$. A cada passo, escolhemos aleatoriamente se a partícula vai para cima, baixo, esquerda ou direita, dando um salto unitário naquela direção."
   ]
  },
  {
   "cell_type": "markdown",
   "metadata": {},
   "source": [
    "Faremos isso da mesma forma que no caso da moeda. Cada direção tem uma probabilidade, $P_\\text{cima}$, $P_\\text{baixo}$, $P_\\text{esquerda}$ e $P_\\text{direita}$. Vamos admitir que as probabilidades são iguais, com valor $P = \\frac 1 4 = 0.25$."
   ]
  },
  {
   "cell_type": "code",
   "execution_count": null,
   "metadata": {},
   "outputs": [],
   "source": [
    "np.random.seed(1234)\n",
    "\n",
    "# Passos de tempo.\n",
    "N = 100\n",
    "\n",
    "# Posições da partícula.\n",
    "x = np.zeros(N, dtype='int32')\n",
    "y = np.zeros(N, dtype='int32')\n",
    "\n",
    "# Posição inicial.\n",
    "x[0] = 0\n",
    "y[0] = 0\n",
    "\n",
    "# Iterando o movimento.\n",
    "for t in range(1, N):\n",
    "    # Número aleatório no intervalo [0, 1).\n",
    "    r = np.random.rand()\n",
    "    if 0 <= r < 0.25:\n",
    "        # Cima\n",
    "        dx = 0\n",
    "        dy = 1\n",
    "    elif 0.25 <= r < 0.5:\n",
    "        # Baixo\n",
    "        dx = 0\n",
    "        dy = -1\n",
    "    elif 0.5 <= r < 0.75:\n",
    "        # Direita\n",
    "        dx = 1\n",
    "        dy = 0\n",
    "    else:\n",
    "        # Esqzuerda\n",
    "        dx = -1\n",
    "        dy = 0\n",
    "    \n",
    "    x[t] = x[t - 1] + dx\n",
    "    y[t] = y[t - 1] + dy"
   ]
  },
  {
   "cell_type": "markdown",
   "metadata": {},
   "source": [
    "Depois de $N$ passos, temos o caminho percorrido pela partícula, com posições sucessivas $(x_i, y_i)$. Abaixo temos o gráfico do caminho percorrido."
   ]
  },
  {
   "cell_type": "code",
   "execution_count": null,
   "metadata": {},
   "outputs": [],
   "source": [
    "fig, ax = plt.subplots()\n",
    "# As variáveis l e b são guardadas para a\n",
    "# animação na célula a seguir.\n",
    "\n",
    "# Linha contendo o caminho.\n",
    "# A vírgula é necessária porque ax.plot() retorna\n",
    "# uma lista de linhas. Neste plot, temos uma lista\n",
    "# de apenas um elemento (somente uma linha desenhada),\n",
    "# logo o lado esquerdo é uma tupla de um elemento só.\n",
    "# Veja https://pythonhelp.wordpress.com/2013/01/10/desempacotamento-de-tupla/\n",
    "l, = ax.plot(x, y)\n",
    "\n",
    "# Círculo indicando a posição final.\n",
    "b, = ax.plot(x[-1], y[-1], 'ro')\n",
    "\n",
    "# Ponto de partida.\n",
    "ax.plot(x[0], y[0], 'rx', alpha=0.5)\n",
    "plt.show()"
   ]
  },
  {
   "cell_type": "markdown",
   "metadata": {},
   "source": [
    "Um gráfico estático não mostra bem a natureza do movimento. Vamos fazer uma animação."
   ]
  },
  {
   "cell_type": "code",
   "execution_count": null,
   "metadata": {},
   "outputs": [],
   "source": [
    "from matplotlib.animation import FuncAnimation\n",
    "from IPython.display import HTML\n",
    "\n",
    "# Modificando o conteúdo das linhas do gráfico.\n",
    "def animate(i):\n",
    "    # Desenha a linha até o instante i.\n",
    "    l.set_data(x[:i+1], y[:i+1])\n",
    "    # Desenha o círculo na posição atual no instante i.\n",
    "    b.set_data([x[i]], [y[i]])\n",
    "\n",
    "ani = FuncAnimation(fig, animate, frames=N)\n",
    "HTML(ani.to_jshtml())"
   ]
  },
  {
   "cell_type": "markdown",
   "metadata": {},
   "source": [
    "### Exercício\n",
    "\n",
    "Refaça o problema da caminhada aleatória apenas em uma dimensão. Considere 1000 partículas independentes, evoluindo 2000 passos de tempo, com passos unitários. Sugestão: guarde a história das partículas num array como este:"
   ]
  },
  {
   "cell_type": "code",
   "execution_count": null,
   "metadata": {},
   "outputs": [],
   "source": [
    "Nt = 2000\n",
    "Np = 1000\n",
    "x = np.zeros((Nt, Np), dtype='int32')"
   ]
  },
  {
   "cell_type": "markdown",
   "metadata": {},
   "source": [
    "**a.** Faça a simulação normalmente, sem limites no tamanho da caixa. Para verificar se a simulação funcionou, desenhe o gráfico da posição de 5 partículas quaisquer em função do tempo. Se você usou a forma acima, a história de uma partícula individual pode ser acessada tomando uma fatia do array `x`, por exemplo, `x[:, 4]` é um array que contém a história da quinta partícula, em um array de 2000 elementos."
   ]
  },
  {
   "cell_type": "code",
   "execution_count": null,
   "metadata": {},
   "outputs": [],
   "source": []
  },
  {
   "cell_type": "markdown",
   "metadata": {},
   "source": [
    "**b.** Calcule a média $\\bar{x} = \\langle x \\rangle$ e o desvio padrão $\\sigma = \\sqrt{\\langle (x - \\bar{x})^2 \\rangle}$ da posição das partículas a cada instante de tempo. Para tomar a posição de todas as partículas num determinado instante `t`, faça `x[t, :]`, isto irá retornar um array de 1000 elementos.\n",
    "\n",
    "Faça o gráfico de $\\bar{x}(t)$ e $\\sigma(t)$. Como o passo de tempo é unitário, os instantes de tempo podem ser feitos, por exemplo, como `tt = np.arange(Nt)`. No mesmo gráfico, desenhe a função $f(t) = \\sqrt t$, e veja como esta curva se compara com $\\sigma(t)$."
   ]
  },
  {
   "cell_type": "code",
   "execution_count": null,
   "metadata": {},
   "outputs": [],
   "source": []
  },
  {
   "cell_type": "markdown",
   "metadata": {},
   "source": [
    "### Teorema central do limite\n",
    "\n",
    "Este comportamento do $\\sigma$ é um fenômeno chamado de *difusão*. De fato, segundo o teorema central do limite ([video obrigatório do 3Blue1Brown](https://www.youtube.com/watch?v=zeJD6dqJ5lo)), a soma de muitas variáveis aleatórias gera uma distribuição normal, que neste problema vai alargando (maior $\\sigma$) com o passar do tempo."
   ]
  },
  {
   "cell_type": "markdown",
   "metadata": {},
   "source": [
    "Abaimo temos histogramas das posições das partículas nos instantes $t = 100, 500$ e $1999$. Essas distribuições se aproximam de gaussianas dadas por\n",
    "\n",
    "$$\n",
    "P(x) = \\frac{\\exp \\left({-\\frac{x^2}{t}}\\right)}{\\sqrt{2 \\pi t}}.\n",
    "$$"
   ]
  },
  {
   "cell_type": "code",
   "execution_count": null,
   "metadata": {},
   "outputs": [],
   "source": [
    "fig, ax = plt.subplots()\n",
    "xx = np.linspace(-100, 100, 1000)\n",
    "\n",
    "fotos=[(100, 'r'), (500, 'g'), (1999, 'b')]\n",
    "\n",
    "for t, color in fotos:\n",
    "    ax.hist(x[t, :], range=[-100, 100], color=color,\n",
    "            histtype='step', bins=100, density=True)\n",
    "    P = np.exp(-xx**2 / t) / np.sqrt(2 * np.pi * t)\n",
    "    ax.plot(xx, P, '-', color=color, label=f'$t={t}$')\n",
    "\n",
    "\n",
    "ax.set_xlabel('x')\n",
    "ax.grid(True)\n",
    "ax.legend()\n",
    "plt.show()"
   ]
  },
  {
   "cell_type": "markdown",
   "metadata": {},
   "source": [
    "Modifique o número de partículas (sem exagerar) e veja o que acontece com o gráfico."
   ]
  }
 ],
 "metadata": {
  "kernelspec": {
   "display_name": "Python 3 (ipykernel)",
   "language": "python",
   "name": "python3"
  },
  "language_info": {
   "codemirror_mode": {
    "name": "ipython",
    "version": 3
   },
   "file_extension": ".py",
   "mimetype": "text/x-python",
   "name": "python",
   "nbconvert_exporter": "python",
   "pygments_lexer": "ipython3",
   "version": "3.11.6"
  }
 },
 "nbformat": 4,
 "nbformat_minor": 4
}
