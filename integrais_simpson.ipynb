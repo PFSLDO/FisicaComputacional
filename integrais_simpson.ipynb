{
 "cells": [
  {
   "cell_type": "markdown",
   "metadata": {},
   "source": [
    "# Integração numérica"
   ]
  },
  {
   "cell_type": "markdown",
   "metadata": {},
   "source": [
    "## Regra de Simpson\n",
    "\n",
    "A regra do trapézio já nos proporciona uma precisão razoável, e é de fato bastante usado para calcular integrais dada a sua simplicidade e rapidez de execução. Ela também, com algumas pequenas modificações no código, permite que tenhamos segmentos de tamanho variável. Entretanto, quando necessitamos de uma maior precisão, principalmente se a função a ser integrada varia muito rapidamente, pode ser necessário um grande número de segmentos. Isso significa mais chamadas à função, e logo mais tempo computacional necessário.\n",
    "\n",
    "De fato, a regra do trapézio usa uma reta para aproximar o valor da função quando calculamos a área sob a mesma. Podemos ter um resultado melhor se usarmos alguma curva para prazer a aproximação. A regra de Simpson faz isso usando uma curva quadrática, isto é, um polinômio de grau 2, como indica a figura abaixo."
   ]
  },
  {
   "cell_type": "markdown",
   "metadata": {},
   "source": [
    "![Regra de Simpson](data:image/png;base64,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\n",
    ")"
   ]
  },
  {
   "cell_type": "markdown",
   "metadata": {},
   "source": [
    "CC BY-SA 4.0 [Popletibus](https://en.wikipedia.org/wiki/Simpson%27s_rule#/media/File:Simpsons_method_illustration.svg)"
   ]
  },
  {
   "cell_type": "markdown",
   "metadata": {},
   "source": [
    "Dados 3 pontos da função $f(x)$, podemos encontrar o polinômio de grau 2 $P(x)$ que passa exatamente sobre estes pontos. Isto é chamado de _interpolação_, e estudaremos alguns métodos mais adiante no curso. Por enquanto, vamos tratar do caso particular, com os limites de integração usando os pontos $a = -h$ e $b = h$, e um ponto extra em $x = 0$.\n",
    "\n",
    "Queremos que $P(x)$ e $f(x)$ coincidam nesses pontos. Vamos calcular coeficientes do polinômio $P(x) = Ax^2 + Bx + C$ tal que\n",
    "\n",
    "\\begin{align}\n",
    "P(-h) &= f(-h) \\\\\n",
    "P(0) &= f(0) \\\\\n",
    "P(h) &= f(h).\n",
    "\\end{align}"
   ]
  },
  {
   "cell_type": "markdown",
   "metadata": {},
   "source": [
    "Substituindo $P(x)$,\n",
    "\n",
    "\\begin{align}\n",
    "Ah^2 - Bh + C &= f(-h) \\\\\n",
    "C &= f(0) \\\\\n",
    "Ah^2 + Bh + C &= f(h).\n",
    "\\end{align}"
   ]
  },
  {
   "cell_type": "markdown",
   "metadata": {},
   "source": [
    "Com este sistema de equações é possível encontrar os coeficientes $A$, $B$ e $C$, através de uma substituição direta. O coeficiente $C$ já está dado. Somando a primeia e terceira equações, e substituindo $C$, temos\n",
    "\n",
    "$$\n",
    "2Ah^2 + 2C = f(-h) + f(h) \\\\\n",
    "A = \\frac{f(-h) + f(h) + 2 f(0)}{2h^2}.\n",
    "$$"
   ]
  },
  {
   "cell_type": "markdown",
   "metadata": {},
   "source": [
    "Substituindo a primeira linha acima, dividida por 2, na primeira equação,\n",
    "\n",
    "$$\n",
    "\\frac{f(-h) + f(h)}{2} - Bh = f(-h) \\\\\n",
    "B = \\frac{f(h) - f(-h)}{2h}.\n",
    "$$"
   ]
  },
  {
   "cell_type": "markdown",
   "metadata": {},
   "source": [
    "Conhecendo os coeficientes, podemos agora calcular a aproximação da integral,\n",
    "\n",
    "\\begin{align}\n",
    "\\int_{-h}^h f(x)\\,\\mathrm{d}x &\\cong \\int_{-h}^h P(x)\\,\\mathrm{d}x \\\\\n",
    "\\int_{-h}^h P(x)\\,\\mathrm{d}x &= \\int_{-h}^h Ax^2 + B(x) + C\\,\\mathrm{d}x \\\\\n",
    "&= \\frac{A}{3} x^3\\big|_{-h}^{h} + \\frac{B}{2} x^2\\big|_{-h}^{h} + Cx\\big|_{-h}^{h} \\\\\n",
    "&= \\frac{2}{3} A h^3 + 2 C h.\n",
    "\\end{align}"
   ]
  },
  {
   "cell_type": "markdown",
   "metadata": {},
   "source": [
    "Note que o termo em $B$ desaparece dados os limites simétricos da integração. Substituindo $A$ e $C$, e reorganizando os termos, ficamos com\n",
    "\n",
    "\\begin{align}\n",
    "\\int_{-h}^h P(x)\\,\\mathrm{d}x &= \\frac{2}{3} \\frac{f(-h) + f(h) + 2 f(0)}{2h^2} h^3 + 2 f(0) h \\\\\n",
    "&= \\frac{1}{3} \\left[ f(-h) + f(h) + 2 f(0) \\right] h + 2 f(0) h \\\\\n",
    "&= \\frac{1}{3} h \\left[ f(-h) + 4 f(0) + f(h) \\right].\n",
    "\\end{align}"
   ]
  },
  {
   "cell_type": "markdown",
   "metadata": {},
   "source": [
    "Como esta é uma integral definida, se deslocarmos esta integral acima à direita ou à esquerda, a fórmula da área sob a curva não pode mudar. Assim, a integral deve ser a mesma para quaisquer três pontos igualmente espaçados."
   ]
  },
  {
   "cell_type": "markdown",
   "metadata": {},
   "source": [
    "Voltando à integral completa de $f(x)$, dividimos a integral em segmentos da mesma forma que fizemos antes. Porém, vamos aplicar a regra de Simpson para pares de segmentos. Neste caso, para o primeiro par de segmentos, os pontos devem ser $x = a$, $a + h$ e $a + 2h$. Para o segundo par, $a + 2h$, $a + 3h$ e $a + 4h$, e assim por diante. Ou Seja, $x_i$, $x_{i+1}$ e $x_{i+2}$. Veja que $N$ precisa ser um número par. Então, em termos gerais, a integral de um segmento é dada por\n",
    "\n",
    "$$\n",
    "\\int_{x_i}^{x_{i + 2}} P(x)\\,\\mathrm{d}x = \\frac{1}{3} h \\left[ f(x_i) + 4 f(x_{i+1}) + f(x_{i+2}) \\right].\n",
    "$$"
   ]
  },
  {
   "cell_type": "markdown",
   "metadata": {},
   "source": [
    "Assim, a integral da função $f(x)$ fica\n",
    "\n",
    "\\begin{align}\n",
    "I &= \\int_a^b f(x)\\,\\mathrm{d}x \\cong \\int_{a}^{a + 2h} P(x)\\,\\mathrm{d}x\\ + \\\\\n",
    "&+ \\int_{a + 2h}^{a + 4h} P(x)\\,\\mathrm{d}x + \\ldots + \\int_{a + (N-2)h}^{a + Nh} P(x)\\,\\mathrm{d}x\n",
    "\\end{align}"
   ]
  },
  {
   "cell_type": "markdown",
   "metadata": {},
   "source": [
    "Aqui substituir e reorganizar os termos, tal que tenhamos somas em função de $x_i$, dá um pouco mais de trabalho do que a regra do trapézio. No final devemos ter\n",
    "\n",
    "$$\n",
    "\\int_a^b f(x)\\,\\mathrm{d}x \\cong \\frac{1}{3} h \\left[ f(a) + f(b) + 4 \\sum_{\\substack{{i=1} \\\\ i\\ \\mathrm{ímpar}}}^{N-1} f(x_i) + 2 \\sum_{\\substack{{i=2} \\\\ i\\ \\mathrm{par}}}^{N-2} f(x_i) \\right].\n",
    "$$"
   ]
  },
  {
   "cell_type": "markdown",
   "metadata": {},
   "source": [
    "A solução não é tão simples quanto a regra do trapézio, mas é facilmente programada em Python. Veja que temos dois laços, mas eles iteram cada um em metade dos pontos, o primeiro nos pontos com $i$ ímpar, e o segundo nos pontos com $i$ par. O número total de chamadas à função $f(x)$ é o mesmo. Em código, podemos iterar os elementos pares e ímpares separadamente fazendo"
   ]
  },
  {
   "cell_type": "code",
   "execution_count": 1,
   "metadata": {},
   "outputs": [
    {
     "name": "stdout",
     "output_type": "stream",
     "text": [
      "Números ímpares.\n",
      "1\n",
      "3\n",
      "5\n",
      "7\n",
      "9\n",
      "Números pares.\n",
      "2\n",
      "4\n",
      "6\n",
      "8\n"
     ]
    }
   ],
   "source": [
    "N = 10\n",
    "\n",
    "print('Números ímpares.')\n",
    "for i in range(1, N, 2):\n",
    "    print(i)\n",
    "print('Números pares.')\n",
    "for i in range(2, N, 2):\n",
    "    print(i)\n",
    "    "
   ]
  },
  {
   "cell_type": "markdown",
   "metadata": {},
   "source": [
    "### Exercício 1\n",
    "\n",
    "Vamos calcular a mesma integral que testamos nos métodos anteriores,\n",
    "\n",
    "$$\n",
    "I = \\int_{0.1}^{1.0} \\frac{\\mathrm{d}x}{x} = - \\ln(0.1).\n",
    "$$"
   ]
  },
  {
   "cell_type": "markdown",
   "metadata": {},
   "source": [
    "**a.** Calcule a integral para $N=6$."
   ]
  },
  {
   "cell_type": "code",
   "execution_count": 2,
   "metadata": {},
   "outputs": [
    {
     "name": "stdout",
     "output_type": "stream",
     "text": [
      "2.3417876241405655\n"
     ]
    }
   ],
   "source": [
    "def integrando(x):\n",
    "    return 1/x\n",
    "\n",
    "lim1 = 0.1\n",
    "lim2 = 1.0\n",
    "\n",
    "def integralSimpson(N):\n",
    "    h = (lim2 - lim1) / N\n",
    "    integralImp = 0\n",
    "    integralPar = 0\n",
    "    integral = 0\n",
    "    xi = 0\n",
    "\n",
    "    for i in range(1, N, 2): #impares\n",
    "        xi = lim1 + i*h\n",
    "        integralImp += integrando(xi)\n",
    "        \n",
    "    xi = 0\n",
    "    for i in range(2, N, 2): #pares\n",
    "        xi = lim1 + i*h\n",
    "        integralPar += integrando(xi)\n",
    "        \n",
    "    integral = h * (4 * integralImp + 2 * integralPar + integrando(lim1) + integrando(lim2)) / 3\n",
    "    return integral\n",
    "\n",
    "print(integralSimpson(6))"
   ]
  },
  {
   "cell_type": "markdown",
   "metadata": {},
   "source": [
    "**b.** Defina a função `integral_simpson(f, a, b, N)`, que calcula a integral entre os limites `a` e `b`, com `N` segmentos, para um integrando `f` qualquer."
   ]
  },
  {
   "cell_type": "code",
   "execution_count": 3,
   "metadata": {},
   "outputs": [
    {
     "name": "stdout",
     "output_type": "stream",
     "text": [
      "2.3417876241405655 2.3025850929940455\n"
     ]
    }
   ],
   "source": [
    "import numpy as np\n",
    "\n",
    "def integralSimpsonGeral(f, a, b, N):\n",
    "    h = (b - a) / N\n",
    "    integralImp = 0\n",
    "    integralPar = 0\n",
    "    integral = 0\n",
    "    xi = 0\n",
    "\n",
    "    for i in range(1, N, 2): #impares\n",
    "        xi = a + i*h\n",
    "        integralImp += f(xi)\n",
    "        \n",
    "    xi = 0\n",
    "    for i in range(2, N, 2): #pares\n",
    "        xi = a + i*h\n",
    "        integralPar += f(xi)\n",
    "        \n",
    "    integral = h * (4 * integralImp + 2 * integralPar + f(a) + f(b)) / 3\n",
    "    return integral\n",
    "\n",
    "resAnal = np.log(lim2) - np.log(lim1)\n",
    "print(integralSimpsonGeral(integrando, lim1, lim2, 6), resAnal)"
   ]
  },
  {
   "cell_type": "markdown",
   "metadata": {},
   "source": [
    "**c.** Faça um gráfico da convergência do valor da integral. Calcule a integral usando a regra de Simpson e compare com a regra do trapézio. Lembre que $N$ deve ser par."
   ]
  },
  {
   "cell_type": "code",
   "execution_count": 4,
   "metadata": {},
   "outputs": [
    {
     "data": {
      "image/png": "[encoded data removed]",
      "text/plain": [
       "<Figure size 640x480 with 1 Axes>"
      ]
     },
     "metadata": {},
     "output_type": "display_data"
    }
   ],
   "source": [
    "def fIntegralTrap(N):\n",
    "    h = (lim2 - lim1) / N\n",
    "    integral = 0\n",
    "    xi = 0\n",
    "\n",
    "    for i in range(1, N):\n",
    "        xi = lim1 + i*h\n",
    "        integral += integrando(xi)\n",
    "    integral = h * (integral + (integrando(lim1) + integrando(lim2))/2)\n",
    "    return integral\n",
    "\n",
    "import matplotlib.pyplot as plt\n",
    "\n",
    "plt.style.use('ggplot')\n",
    "plt.rcParams['font.family'] = 'serif'\n",
    "plt.rcParams['mathtext.fontset'] = 'stix'\n",
    "\n",
    "lista_N = []\n",
    "lista_Int = []\n",
    "for n in range(10, 1000, 2):\n",
    "    lista_N.append(n)\n",
    "    lista_Int.append(integralSimpsonGeral(integrando, lim1, lim2, n))\n",
    "lista_N_trap = []\n",
    "lista_Int_trap = []\n",
    "for n in range(10, 1001):\n",
    "    lista_N_trap.append(n)\n",
    "    lista_Int_trap.append(fIntegralTrap(n))\n",
    "\n",
    "fig, ax = plt.subplots()\n",
    "ax.axhline(resAnal, ls=':', color='k')\n",
    "ax.plot(lista_N, lista_Int, label=\"Metodo Simpson\")\n",
    "ax.plot(lista_N_trap, lista_Int_trap, label=\"Metodo trapezio\")\n",
    "ax.set_xscale('log')\n",
    "ax.legend()\n",
    "plt.show()"
   ]
  },
  {
   "cell_type": "markdown",
   "metadata": {},
   "source": [
    "## Conclusão\n",
    "\n",
    "Aprendemos a calcular integrais definidas usando métodos baseados nas regras retangular, do trapézio e de Simpson. A regra retangular tem valor apenas didático, por sua simplicidade. Para todos os casos efetivos, a regra de Simpson é uma boa escolha, dada a sua velocidade computacional, e convergência rápida. Caso por algum motivo os intervalos de integração não sejam igualmente espaçados, como no caso de dados experimentais ($f(x)$ pode ser uma tabela), devemos utilizar a regra do trapézio. Fica como exercício modificar a regra do trapézio para usar intervalos não-uniformes."
   ]
  }
 ],
 "metadata": {
  "kernelspec": {
   "display_name": "Python 3 (ipykernel)",
   "language": "python",
   "name": "python3"
  },
  "language_info": {
   "codemirror_mode": {
    "name": "ipython",
    "version": 3
   },
   "file_extension": ".py",
   "mimetype": "text/x-python",
   "name": "python",
   "nbconvert_exporter": "python",
   "pygments_lexer": "ipython3",
   "version": "3.11.5"
  }
 },
 "nbformat": 4,
 "nbformat_minor": 4
}
