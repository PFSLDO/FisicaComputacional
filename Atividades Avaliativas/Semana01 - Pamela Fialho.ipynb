{
 "cells": [
  {
   "cell_type": "markdown",
   "metadata": {},
   "source": [
    "# Avaliação - semana 1\n",
    "## FSC5705 - Física Computacional\n",
    "## 13/03/2024\n",
    "\n",
    "### Atenção\n",
    "- **Não esqueça de reiniciar o kernel e rodar todas as células para testar o notebook antes de enviar.**"
   ]
  },
  {
   "cell_type": "markdown",
   "metadata": {},
   "source": [
    "### Item 1\n",
    "Podemos calcular a raiz quadrada de um número `float` utilizando o pacote `numpy`, fazendo"
   ]
  },
  {
   "cell_type": "code",
   "execution_count": 1,
   "metadata": {},
   "outputs": [
    {
     "name": "stdout",
     "output_type": "stream",
     "text": [
      "9.0\n"
     ]
    }
   ],
   "source": [
    "import numpy as np\n",
    "x = 81.0\n",
    "print(np.sqrt(x))"
   ]
  },
  {
   "cell_type": "markdown",
   "metadata": {},
   "source": [
    "Calcule $\\sqrt[4]{1728.8969}$."
   ]
  },
  {
   "cell_type": "code",
   "execution_count": 2,
   "metadata": {
    "nbgrader": {
     "grade": true,
     "grade_id": "raiz_quarta",
     "locked": false,
     "points": 1,
     "schema_version": 3,
     "solution": true,
     "task": false
    }
   },
   "outputs": [
    {
     "name": "stdout",
     "output_type": "stream",
     "text": [
      "6.448256044273179\n",
      "6.448256044273179\n"
     ]
    }
   ],
   "source": [
    "import numpy as np\n",
    "#resolvendo atraves de potenciacao\n",
    "x = 1728.8969\n",
    "print(np.power(x, 0.25))\n",
    "\n",
    "#resolvendo atraves da raiz da raiz\n",
    "v1 = np.sqrt(x)\n",
    "v2 = np.sqrt(v1)\n",
    "print(v2)"
   ]
  },
  {
   "cell_type": "markdown",
   "metadata": {},
   "source": [
    "### Item 2\n",
    "Para pequenos valores de $x$, $\\sin x$ pode ser aproximado por\n",
    "\n",
    "$$\n",
    "\\sin x \\approx x\n",
    "$$\n",
    "\n",
    "onde $x$ está em radianos."
   ]
  },
  {
   "cell_type": "markdown",
   "metadata": {},
   "source": [
    "Calcule o valor do seno de $5^\\circ$, $10^\\circ$ e $20^\\circ$.\n",
    "Compare os valores desses ângulos com os valores devolvidos pela função `np.sin()`. Note que esta função toma um ângulo em radianos como argumento, utilize a constante `np.pi` para a conversão entre graus e radianos."
   ]
  },
  {
   "cell_type": "code",
   "execution_count": 3,
   "metadata": {
    "nbgrader": {
     "grade": true,
     "grade_id": "aproximar_seno",
     "locked": false,
     "points": 1,
     "schema_version": 3,
     "solution": true,
     "task": false
    }
   },
   "outputs": [
    {
     "name": "stdout",
     "output_type": "stream",
     "text": [
      "Comparando o angulo 0.08726646259971647 com seu seno 0.08715574274765817\n",
      "Comparando o angulo 0.17453292519943295 com seu seno 0.17364817766693033\n",
      "Comparando o angulo 0.3490658503988659 com seu seno 0.3420201433256687\n"
     ]
    }
   ],
   "source": [
    "import numpy as np\n",
    "#transformando os angulos conhecidos em graus para rad\n",
    "ang1 = 5 * np.pi / 180\n",
    "ang2 = 10 * np.pi / 180\n",
    "ang3 = 20 * np.pi / 180\n",
    "\n",
    "#comparando o valor dos angulos com seus respectivos senos atraves do terminal\n",
    "print(\"Comparando o angulo\", ang1, \"com seu seno\", np.sin(ang1))\n",
    "print(\"Comparando o angulo\", ang2, \"com seu seno\", np.sin(ang2))\n",
    "print(\"Comparando o angulo\", ang3, \"com seu seno\", np.sin(ang3))"
   ]
  },
  {
   "cell_type": "markdown",
   "metadata": {},
   "source": [
    "### Item 3\n",
    "A função abaixo deve receber um número `x` e retorná-lo *limitado* entre os valores `a` e `b`.\n",
    "\n",
    "```\n",
    "def clip(x, a, b):\n",
    "    # alguma lógica\n",
    "    return x\n",
    "```"
   ]
  },
  {
   "cell_type": "markdown",
   "metadata": {},
   "source": [
    "Escreva esta função utilizando as estruturas de controle `if`, `elif` e `else` conforme necessário.\n",
    "\n",
    "Demonstre o funcionamento da sua função para os valores de `x` dados na lista `valores` abaixo."
   ]
  },
  {
   "cell_type": "code",
   "execution_count": 4,
   "metadata": {
    "nbgrader": {
     "grade": true,
     "grade_id": "compara_valores",
     "locked": false,
     "points": 2,
     "schema_version": 3,
     "solution": true,
     "task": false
    }
   },
   "outputs": [],
   "source": [
    "valores = [8.65, 2.83, 12.01, 5.91, 4.48,\n",
    "           10.11, 10.01, 4.77, 7.05, -0.85]"
   ]
  },
  {
   "cell_type": "code",
   "execution_count": 5,
   "metadata": {
    "nbgrader": {
     "grade": true,
     "grade_id": "compara_valores",
     "locked": false,
     "points": 2,
     "schema_version": 3,
     "solution": true,
     "task": false
    }
   },
   "outputs": [
    {
     "name": "stdout",
     "output_type": "stream",
     "text": [
      "Escreva um valor para ser truncado entre 5 e 10 7\n",
      "7.0\n",
      "8.65 8.65\n",
      "2.83 5\n",
      "12.01 10\n",
      "5.91 5.91\n",
      "4.48 5\n",
      "10.11 10\n",
      "10.01 10\n",
      "4.77 5\n",
      "7.05 7.05\n",
      "-0.85 5\n"
     ]
    }
   ],
   "source": [
    "#funcao que trunca o valor recebido entre os limites definidos\n",
    "def clip(valorRecebido, limiteInf, limiteSup):\n",
    "    if (valorRecebido < limiteInf):\n",
    "        return limiteInf\n",
    "    if (valorRecebido > limiteSup):\n",
    "        return limiteSup\n",
    "    return valorRecebido\n",
    "\n",
    "valorRecebido = float(input('Escreva um valor para ser truncado entre 5 e 10 '))\n",
    "valorTruncado = clip(valorRecebido, 5, 10)\n",
    "print(valorTruncado)\n",
    "\n",
    "for num in valores:\n",
    "    print(num, clip(num, 5, 10))"
   ]
  },
  {
   "cell_type": "markdown",
   "metadata": {},
   "source": [
    "### Item 4\n",
    "Calcule explicitamente a soma dos números inteiros ímpares entre 200 e 1000.\n"
   ]
  },
  {
   "cell_type": "code",
   "execution_count": 6,
   "metadata": {
    "nbgrader": {
     "grade": true,
     "grade_id": "somatorio_inteiros",
     "locked": false,
     "points": 2,
     "schema_version": 3,
     "solution": true,
     "task": false
    }
   },
   "outputs": [
    {
     "name": "stdout",
     "output_type": "stream",
     "text": [
      "240000\n"
     ]
    }
   ],
   "source": [
    "#iniciando a variavel de controle com o primeiro valor impar do intervalo\n",
    "x = 201\n",
    "#iniciando o controle da soma com 0\n",
    "soma = 0\n",
    "\n",
    "#loop que acrescenta à soma o valor impar até que chegue no limite superior do intervalo\n",
    "while(x < 1000):\n",
    "    soma += x\n",
    "    x += 2 #ao acrescentarmos 2 ao controle, garantimos que ele sempre será o próximo valor inteiro ímpar\n",
    "\n",
    "print(soma)"
   ]
  },
  {
   "cell_type": "markdown",
   "metadata": {},
   "source": [
    "### Item 5\n",
    "Calcule o valor aproximado de $\\pi$, usando os $N$ primeiros termos da série\n",
    "\n",
    "$$\n",
    "\\frac{\\pi^2}{6} = \\frac{1}{1^2} + \\frac{1}{2^2} + \\frac{1}{3^2} + \\frac{1}{4^2} + \\ldots\n",
    "$$\n",
    "\n",
    "Estime o erro relativo em relação ao valor assintótico (usando a constante `np.pi`), para $N = 10, 100, 1000$.\n",
    "\n",
    "Dica: se você vai usar a função `range()`, note que `range(1, 50)` vai de 1 a 49. Para iterar de `A` até `B`, inclusive, é preciso fazer `range(A, B + 1)`."
   ]
  },
  {
   "cell_type": "code",
   "execution_count": 7,
   "metadata": {
    "nbgrader": {
     "grade": true,
     "grade_id": "aproximar_pi",
     "locked": false,
     "points": 2,
     "schema_version": 3,
     "solution": true,
     "task": false
    }
   },
   "outputs": [
    {
     "name": "stdout",
     "output_type": "stream",
     "text": [
      "Usando 10 valores de n, obtemos a aproximacao de 3.04936163598207 para o valor do numero Pi, com erro relativo de 2.9358044717329577\n",
      "Usando 100 valores de n, obtemos a aproximacao de 3.1320765318091053 para o valor do numero Pi, com erro relativo de 0.30290756409218367\n",
      "Usando 1000 valores de n, obtemos a aproximacao de 3.1406380562059946 para o valor do numero Pi, com erro relativo de 0.03038577845882608\n"
     ]
    }
   ],
   "source": [
    "import numpy as np\n",
    "\n",
    "def seriesPi(limite):\n",
    "    valorAproximado = 0\n",
    "\n",
    "    for num in range (1, limite + 1):\n",
    "        valorAproximado += 1 / num**2\n",
    "        num += 1\n",
    "\n",
    "    valorAproximado *= 6\n",
    "    valorAproximado = np.sqrt(valorAproximado)\n",
    "    erroRelativo = abs(valorAproximado - np.pi) * 100 / np.pi\n",
    "    print('Usando', limite, 'valores de n, obtemos a aproximacao de', valorAproximado, 'para o valor do numero Pi, com erro relativo de', erroRelativo)\n",
    "\n",
    "seriesPi(10)\n",
    "seriesPi(100)\n",
    "seriesPi(1000)"
   ]
  },
  {
   "cell_type": "markdown",
   "metadata": {},
   "source": [
    "### Item 6\n",
    "Calcule o fatorial de um número inteiro $n$. Verifique se o código funciona calculando $n!$ para $ 1 \\leq n \\leq 10$.\n",
    "\n",
    "Calcule também $200!$."
   ]
  },
  {
   "cell_type": "code",
   "execution_count": 8,
   "metadata": {
    "nbgrader": {
     "grade": true,
     "grade_id": "fatorial",
     "locked": false,
     "points": 2,
     "schema_version": 3,
     "solution": true,
     "task": false
    }
   },
   "outputs": [
    {
     "name": "stdout",
     "output_type": "stream",
     "text": [
      "Digite o valor para calcular o fatorial 4\n",
      "O fatorial do numero eh 24\n",
      "O fatorial do numero 200 eh 788657867364790503552363213932185062295135977687173263294742533244359449963403342920304284011984623904177212138919638830257642790242637105061926624952829931113462857270763317237396988943922445621451664240254033291864131227428294853277524242407573903240321257405579568660226031904170324062351700858796178922222789623703897374720000000000000000000000000000000000000000000000000\n"
     ]
    }
   ],
   "source": [
    "def fatorial(valor):\n",
    "    fatorial = 1\n",
    "    \n",
    "    while (valor != 0):\n",
    "        fatorial *= valor\n",
    "        valor -= 1\n",
    "    return fatorial\n",
    "\n",
    "valorRecebido = int(input('Digite o valor para calcular o fatorial '))\n",
    "print('O fatorial do numero eh', fatorial(valorRecebido))\n",
    "\n",
    "numTeste = 200\n",
    "print('O fatorial do numero 200 eh', fatorial(numTeste))"
   ]
  }
 ],
 "metadata": {
  "celltoolbar": "Create Assignment",
  "kernelspec": {
   "display_name": "Python 3 (ipykernel)",
   "language": "python",
   "name": "python3"
  },
  "language_info": {
   "codemirror_mode": {
    "name": "ipython",
    "version": 3
   },
   "file_extension": ".py",
   "mimetype": "text/x-python",
   "name": "python",
   "nbconvert_exporter": "python",
   "pygments_lexer": "ipython3",
   "version": "3.11.5"
  }
 },
 "nbformat": 4,
 "nbformat_minor": 4
}
