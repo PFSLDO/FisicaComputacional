{
 "cells": [
  {
   "cell_type": "markdown",
   "metadata": {},
   "source": [
    "# Avaliação - semana 1\n",
    "## FSC5705 - Física Computacional\n",
    "## 13/03/2024\n",
    "\n",
    "### Atenção\n",
    "- **Não esqueça de reiniciar o kernel e rodar todas as células para testar o notebook antes de enviar.**"
   ]
  },
  {
   "cell_type": "markdown",
   "metadata": {},
   "source": [
    "### Item 1\n",
    "Podemos calcular a raiz quadrada de um número `float` utilizando o pacote `numpy`, fazendo"
   ]
  },
  {
   "cell_type": "code",
   "execution_count": null,
   "metadata": {},
   "outputs": [],
   "source": [
    "import numpy as np\n",
    "x = 81.0\n",
    "print(np.sqrt(x))"
   ]
  },
  {
   "cell_type": "markdown",
   "metadata": {},
   "source": [
    "Calcule $\\sqrt[4]{1728.8969}$."
   ]
  },
  {
   "cell_type": "code",
   "execution_count": null,
   "metadata": {
    "nbgrader": {
     "grade": true,
     "grade_id": "raiz_quarta",
     "locked": false,
     "points": 1,
     "schema_version": 3,
     "solution": true,
     "task": false
    }
   },
   "outputs": [],
   "source": []
  },
  {
   "cell_type": "markdown",
   "metadata": {},
   "source": [
    "### Item 2\n",
    "Para pequenos valores de $x$, $\\sin x$ pode ser aproximado por\n",
    "\n",
    "$$\n",
    "\\sin x \\approx x\n",
    "$$\n",
    "\n",
    "onde $x$ está em radianos."
   ]
  },
  {
   "cell_type": "markdown",
   "metadata": {},
   "source": [
    "Calcule o valor do seno de $5^\\circ$, $10^\\circ$ e $20^\\circ$.\n",
    "Compare os valores desses ângulos com os valores devolvidos pela função `np.sin()`. Note que esta função toma um ângulo em radianos como argumento, utilize a constante `np.pi` para a conversão entre graus e radianos."
   ]
  },
  {
   "cell_type": "code",
   "execution_count": null,
   "metadata": {
    "nbgrader": {
     "grade": true,
     "grade_id": "aproximar_seno",
     "locked": false,
     "points": 1,
     "schema_version": 3,
     "solution": true,
     "task": false
    }
   },
   "outputs": [],
   "source": []
  },
  {
   "cell_type": "markdown",
   "metadata": {},
   "source": [
    "### Item 3\n",
    "A função abaixo deve receber um número `x` e retorná-lo *limitado* entre os valores `a` e `b`.\n",
    "\n",
    "```\n",
    "def clip(x, a, b):\n",
    "    # alguma lógica\n",
    "    return x\n",
    "```"
   ]
  },
  {
   "cell_type": "markdown",
   "metadata": {},
   "source": [
    "Escreva esta função utilizando as estruturas de controle `if`, `elif` e `else` conforme necessário.\n",
    "\n",
    "Demonstre o funcionamento da sua funçãp para os valores de `x` dados na lista `valores` abaixo."
   ]
  },
  {
   "cell_type": "code",
   "execution_count": null,
   "metadata": {
    "nbgrader": {
     "grade": true,
     "grade_id": "compara_valores",
     "locked": false,
     "points": 2,
     "schema_version": 3,
     "solution": true,
     "task": false
    }
   },
   "outputs": [],
   "source": [
    "valores = [8.65, 2.83, 12.01, 5.91, 4.48,\n",
    "           10.11, 10.01, 4.77, 7.05, -0.85]"
   ]
  },
  {
   "cell_type": "code",
   "execution_count": null,
   "metadata": {
    "nbgrader": {
     "grade": true,
     "grade_id": "compara_valores",
     "locked": false,
     "points": 2,
     "schema_version": 3,
     "solution": true,
     "task": false
    }
   },
   "outputs": [],
   "source": []
  },
  {
   "cell_type": "markdown",
   "metadata": {},
   "source": [
    "### Item 4\n",
    "Calcule explicitamente a soma dos números inteiros ímpares entre 200 e 1000.\n"
   ]
  },
  {
   "cell_type": "code",
   "execution_count": null,
   "metadata": {
    "nbgrader": {
     "grade": true,
     "grade_id": "somatorio_inteiros",
     "locked": false,
     "points": 2,
     "schema_version": 3,
     "solution": true,
     "task": false
    }
   },
   "outputs": [],
   "source": []
  },
  {
   "cell_type": "markdown",
   "metadata": {},
   "source": [
    "### Item 5\n",
    "Calcule o valor aproximado de $\\pi$, usando os $N$ primeiros termos da série\n",
    "\n",
    "$$\n",
    "\\frac{\\pi^2}{6} = \\frac{1}{1^2} + \\frac{1}{2^2} + \\frac{1}{3^2} + \\frac{1}{4^2} + \\ldots\n",
    "$$\n",
    "\n",
    "Estime o erro relativo em relação ao valor assintótico (usando a constante `np.pi`), para $N = 10, 100, 1000$.\n",
    "\n",
    "Dica: se você vai usar a função `range()`, note que `range(1, 50)` vai de 1 a 49. Para iterar de `A` até `B`, inclusive, é preciso fazer `range(A, B + 1)`."
   ]
  },
  {
   "cell_type": "code",
   "execution_count": null,
   "metadata": {
    "nbgrader": {
     "grade": true,
     "grade_id": "aproximar_pi",
     "locked": false,
     "points": 2,
     "schema_version": 3,
     "solution": true,
     "task": false
    }
   },
   "outputs": [],
   "source": []
  },
  {
   "cell_type": "markdown",
   "metadata": {},
   "source": [
    "### Item 6\n",
    "Calcule o fatorial de um número inteiro $n$. Verifique se o código funciona calculando $n!$ para $ 1 \\leq n \\leq 10$.\n",
    "\n",
    "Calcule também $200!$."
   ]
  },
  {
   "cell_type": "code",
   "execution_count": null,
   "metadata": {
    "nbgrader": {
     "grade": true,
     "grade_id": "fatorial",
     "locked": false,
     "points": 2,
     "schema_version": 3,
     "solution": true,
     "task": false
    }
   },
   "outputs": [],
   "source": []
  }
 ],
 "metadata": {
  "celltoolbar": "Create Assignment",
  "kernelspec": {
   "display_name": "Python 3 (ipykernel)",
   "language": "python",
   "name": "python3"
  },
  "language_info": {
   "codemirror_mode": {
    "name": "ipython",
    "version": 3
   },
   "file_extension": ".py",
   "mimetype": "text/x-python",
   "name": "python",
   "nbconvert_exporter": "python",
   "pygments_lexer": "ipython3",
   "version": "3.11.5"
  }
 },
 "nbformat": 4,
 "nbformat_minor": 4
}
