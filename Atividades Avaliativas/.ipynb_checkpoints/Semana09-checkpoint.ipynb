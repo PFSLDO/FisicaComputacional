{
 "cells": [
  {
   "cell_type": "markdown",
   "metadata": {},
   "source": [
    "# Semana 9\n",
    "\n",
    "## FSC5705 - Física Computacional\n",
    "## 08/05/2024\n",
    "\n",
    "### Atenção\n",
    "- **Não esqueça de reiniciar o kernel e rodar todas as células para testar o notebook antes de enviar.**"
   ]
  },
  {
   "cell_type": "markdown",
   "metadata": {},
   "source": [
    "### Funções de Bessel do primeiro tipo\n",
    "\n",
    "As funções de Bessel do primeiro tipo, na sua forma integral, são dadas por\n",
    "\n",
    "$$\n",
    "J_m(x) = \\frac 1 \\pi \\int_0^\\pi \\cos \\left( m\\theta - x \\sin \\theta \\right)\\ \\mathrm{d}\\theta,\n",
    "$$\n",
    "\n",
    "onde $m$ é um inteiro não negativo, e $x \\geq 0$."
   ]
  },
  {
   "cell_type": "markdown",
   "metadata": {},
   "source": [
    "#### Item 1\n",
    "\n",
    "Escreva uma função que calcule o valor de $J_m(x)$ usando o método de quadratura gaussiana (use $N=20$)."
   ]
  },
  {
   "cell_type": "code",
   "execution_count": null,
   "metadata": {
    "nbgrader": {
     "grade": true,
     "grade_id": "cell-7a04bbf11ef3252d",
     "locked": false,
     "points": 2,
     "schema_version": 3,
     "solution": true,
     "task": false
    }
   },
   "outputs": [],
   "source": []
  },
  {
   "cell_type": "markdown",
   "metadata": {},
   "source": [
    "#### Item 2\n",
    "\n",
    "Use sua função para fazer um gráfico comparando $J_0$, $J_1$ e $J_2$ (no mesmo gráfico), com $0 \\leq x \\leq 20$."
   ]
  },
  {
   "cell_type": "code",
   "execution_count": null,
   "metadata": {
    "nbgrader": {
     "grade": true,
     "grade_id": "cell-7a04bbf11ef3252d",
     "locked": false,
     "points": 2,
     "schema_version": 3,
     "solution": true,
     "task": false
    }
   },
   "outputs": [],
   "source": []
  }
 ],
 "metadata": {
  "celltoolbar": "Create Assignment",
  "kernelspec": {
   "display_name": "Python 3 (ipykernel)",
   "language": "python",
   "name": "python3"
  },
  "language_info": {
   "codemirror_mode": {
    "name": "ipython",
    "version": 3
   },
   "file_extension": ".py",
   "mimetype": "text/x-python",
   "name": "python",
   "nbconvert_exporter": "python",
   "pygments_lexer": "ipython3",
   "version": "3.11.5"
  }
 },
 "nbformat": 4,
 "nbformat_minor": 4
}
