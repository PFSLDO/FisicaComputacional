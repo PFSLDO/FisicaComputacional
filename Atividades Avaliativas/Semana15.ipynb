{
 "cells": [
  {
   "cell_type": "markdown",
   "metadata": {},
   "source": [
    "# Avaliação - semana 15\n",
    "## FSC5705 - Física Computacional\n",
    "## 15/07/2024\n",
    "\n",
    "### Atenção\n",
    "- **Não esqueça de reiniciar o kernel e rodar todas as células para testar o notebook antes de enviar.**"
   ]
  },
  {
   "cell_type": "markdown",
   "metadata": {},
   "source": [
    "Considere o circuito RC abaixo."
   ]
  },
  {
   "cell_type": "markdown",
   "metadata": {},
   "source": [
    "![Circuito RC](data:image/png;base64,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)"
   ]
  },
  {
   "cell_type": "markdown",
   "metadata": {},
   "source": [
    "Este circuito funciona como um filtro, dada uma tensão de entrada $V_\\text{in}(t)$, o circuito fornece uma tensão de saída $V_\\text{out}(t)$. Vamos analisar este circuito e tentar determinar $V_\\text{out}$ dada uma entrada $V_\\text{in}$. Considere que a carga colocada em $V_\\text{out}$ é de alta impedância, e a corrente que sai do circuito é desprezível. Isto é, a corrente que passa pelo resistor é a mesma que pelo capacitor."
   ]
  },
  {
   "cell_type": "markdown",
   "metadata": {},
   "source": [
    "Usando a lei das malhas,\n",
    "\n",
    "$$\n",
    "IR = V_\\text{in}(t) - V_\\text{out}.\n",
    "$$"
   ]
  },
  {
   "cell_type": "markdown",
   "metadata": {},
   "source": [
    "Por outro lado, no capacitor,\n",
    "\n",
    "$$\n",
    "I = \\frac{\\mathrm{d}Q}{\\mathrm{d}t},\\qquad Q = C V_\\text{out}.\n",
    "$$"
   ]
  },
  {
   "cell_type": "markdown",
   "metadata": {},
   "source": [
    "Juntando estas equações, é fácil mostrar que\n",
    "\n",
    "$$\n",
    " \\frac{\\mathrm{d}V_\\text{out}}{\\mathrm{d}t} = \\frac{1}{RC} \\left(V_\\text{in}(t) - V_\\text{out} \\right).\n",
    "$$"
   ]
  },
  {
   "cell_type": "markdown",
   "metadata": {},
   "source": [
    "Nesta equação, $t$ é a variável independente, $V_\\text{out}$ é a variável independente, e $V_\\text{in}$ é uma função de $t$."
   ]
  },
  {
   "cell_type": "markdown",
   "metadata": {},
   "source": [
    "Para resolver esta equação, precisamos saber primeiro a tensão de entrada, $V_\\text{in}(t)$. Vamos supor que temos uma onda retangular de frequência $\\nu$, em $[\\mathrm{Hz}]$, e amplitude $1\\,\\mathrm{V}$. Uma forma de descrever esta função matematicamente é\n",
    "\n",
    "\\begin{align}\n",
    "V_\\text{in}(t) = \\left\\{ \\\n",
    "\\begin{array}{ll}\n",
    "1\\,\\mathrm{V} \\qquad &\\text{se} \\lfloor 2\\nu t \\rfloor \\text{é par}, \\\\\n",
    "-1\\,\\mathrm{V} \\qquad &\\text{se} \\lfloor 2\\nu t \\rfloor \\text{é ímpar},\n",
    "\\end{array}\n",
    "\\right .\n",
    "\\end{align}"
   ]
  },
  {
   "cell_type": "markdown",
   "metadata": {},
   "source": [
    "onde $\\lfloor x \\rfloor$ é significa \"$x$ arredondado para o inteiro imediatamente abaixo\". Em python, podemos usar a função `np.floor()`. Abaixo, temos uma função chamada `Vin(t, nu)` que implementa esta onda retangular."
   ]
  },
  {
   "cell_type": "code",
   "execution_count": null,
   "metadata": {
    "nbgrader": {
     "grade": true,
     "grade_id": "cell-239a274a2d4f0f7b",
     "locked": false,
     "points": 1,
     "schema_version": 3,
     "solution": true,
     "task": false
    }
   },
   "outputs": [],
   "source": [
    "import numpy as np\n",
    "\n",
    "def Vin(t, nu):\n",
    "    if np.floor(2 * nu * t) % 2:\n",
    "        return 1.0\n",
    "    else:\n",
    "        return -1.0"
   ]
  },
  {
   "cell_type": "markdown",
   "metadata": {},
   "source": [
    "Vamos fazer o seu gráfico para uma frequência de $2\\,\\mathrm{Hz}$, com $t$ variando de $0$ até $3\\,\\mathrm{s}$."
   ]
  },
  {
   "cell_type": "code",
   "execution_count": null,
   "metadata": {
    "nbgrader": {
     "grade": true,
     "grade_id": "cell-239a274a2d4f0f7b",
     "locked": false,
     "points": 1,
     "schema_version": 3,
     "solution": true,
     "task": false
    }
   },
   "outputs": [],
   "source": [
    "nu = 2.0\n",
    "ti = 0.0\n",
    "tf = 3.0\n",
    "N = 1000\n",
    "h = (tf - ti) / N\n",
    "\n",
    "t = np.zeros(N)\n",
    "Vi = np.zeros(N)\n",
    "\n",
    "for j in range(N):\n",
    "    t[j] = ti + j * h\n",
    "    Vi[j] = Vin(t[j], nu)"
   ]
  },
  {
   "cell_type": "code",
   "execution_count": null,
   "metadata": {
    "tags": []
   },
   "outputs": [],
   "source": [
    "import matplotlib.pyplot as plt\n",
    "plt.style.use('ggplot')\n",
    "plt.rcParams['font.family'] = 'serif'\n",
    "plt.rcParams['mathtext.fontset'] = 'stix'"
   ]
  },
  {
   "cell_type": "code",
   "execution_count": null,
   "metadata": {
    "nbgrader": {
     "grade": true,
     "grade_id": "cell-239a274a2d4f0f7b",
     "locked": false,
     "points": 1,
     "schema_version": 3,
     "solution": true,
     "task": false
    }
   },
   "outputs": [],
   "source": [
    "fig, ax = plt.subplots()\n",
    "ax.plot(t, Vi)\n",
    "ax.set_xlabel(r'$t\\ [\\mathrm{s}]$')\n",
    "ax.set_ylabel(r'$V_\\mathrm{in}(t)\\ [\\mathrm{V}]$')\n",
    "plt.show()"
   ]
  },
  {
   "cell_type": "markdown",
   "metadata": {},
   "source": [
    "#### Questão 1\n",
    "\n",
    "Vamos escolher uma capacitância $C = 47\\,\\mathrm{nF}$, e uma resistência $R = 4.7\\,\\mathrm{k \\Omega}$. Usando a função $V_\\text{in}(t)$ definido acima, com uma frequência $\\nu = 2000\\,\\mathrm{Hz}$, determine $V_\\text{out}(t)$, com a condição inicial $V_\\text{out}(0) = 0$. Calcule a solução deste problema de condições iniciais usando o método RK4 programado explicitamente."
   ]
  },
  {
   "cell_type": "markdown",
   "metadata": {},
   "source": [
    "A solução deverá ser uma função periódica, com período semelhante ao da tensão de entrada. Logo, é conveniente usar como passo de tempo $h$ uma fração pequena do período.\n",
    "\n",
    "Faça o gráfico de $V_\\text{in}(t)$ e $V_\\text{out}(t)$ sobrepostos no mesmo subplot."
   ]
  },
  {
   "cell_type": "code",
   "execution_count": null,
   "metadata": {
    "nbgrader": {
     "grade": true,
     "grade_id": "cell-572efcb06e343cb0",
     "locked": false,
     "points": 2,
     "schema_version": 3,
     "solution": true,
     "task": false
    }
   },
   "outputs": [],
   "source": []
  },
  {
   "cell_type": "markdown",
   "metadata": {},
   "source": [
    "#### Questão 2\n",
    "\n",
    "Crie outra função para gerar uma tensão de entrada senoidal, isto é, $V^\\prime_\\text{in}(t) = \\cos(2\\pi \\nu t)$. Encontre a solução do circuito, e faça o gráfico de entrada e saída no mesmo subplot, como o item acima. Teste o gráfico da solução para  $\\nu = 200$, $800$ e $2000\\,\\mathrm{Hz}$."
   ]
  },
  {
   "cell_type": "code",
   "execution_count": null,
   "metadata": {},
   "outputs": [],
   "source": []
  },
  {
   "cell_type": "markdown",
   "metadata": {},
   "source": [
    "### Questão 3\n",
    "\n",
    "Este é um circuito RC agindo como um filtro *passa-baixa*. Verifique se a amplitude da tensão de saída é atenuada da forma esperada, quando se varia a frequência. No caso de uma onda senoidal,\n",
    "\n",
    "\\begin{align}\n",
    "\\frac{V_\\mathrm{out}}{V_\\mathrm{in}} = \\frac{X_\\mathrm{C}}{\\sqrt{R^2 + X_\\mathrm{C}^2}}, \\\\\n",
    "X_\\mathrm{C} = \\frac 1 {2 \\pi \\nu C},\n",
    "\\end{align}"
   ]
  },
  {
   "cell_type": "markdown",
   "metadata": {},
   "source": [
    "onde $X_{\\mathrm{C}}$ é a reatância capacitiva do capacitor $C$ e $V_\\mathrm{in}$ e $V_\\mathrm{out}$ são os valores médios quadráticos (RMS) da tensão de entrada e de saída.\n",
    "\n",
    "Calcule os valores RMS da solução que você calculou, e compare com o valor esperado. Certifique-se de calcular a solução por vários períodos, para ter mais precisão na média."
   ]
  },
  {
   "cell_type": "code",
   "execution_count": null,
   "metadata": {},
   "outputs": [],
   "source": []
  }
 ],
 "metadata": {
  "celltoolbar": "Create Assignment",
  "kernelspec": {
   "display_name": "Python 3 (ipykernel)",
   "language": "python",
   "name": "python3"
  },
  "language_info": {
   "codemirror_mode": {
    "name": "ipython",
    "version": 3
   },
   "file_extension": ".py",
   "mimetype": "text/x-python",
   "name": "python",
   "nbconvert_exporter": "python",
   "pygments_lexer": "ipython3",
   "version": "3.11.6"
  }
 },
 "nbformat": 4,
 "nbformat_minor": 4
}
