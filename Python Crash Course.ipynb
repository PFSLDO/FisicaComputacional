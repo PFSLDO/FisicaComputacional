{
 "cells": [
  {
   "cell_type": "markdown",
   "metadata": {},
   "source": [
    "# Crash course in Python"
   ]
  },
  {
   "cell_type": "markdown",
   "metadata": {},
   "source": [
    "Este é um tutorial rápido(?) para demonstrar as característica da linguagem Python. Partimos do pressuposto de que você já sabe programar em alguma linguagem. Se você cursou FSC7114 ou equivalente, será provavelmente C, Fortran, Pascal ou JavaScript. Mesmo se você já sabe Python, siga o tutorial com atenção, pode ser que haja algum aspecto que você não conhecia."
   ]
  },
  {
   "cell_type": "markdown",
   "metadata": {},
   "source": [
    "Guarde este texto como referência, pode ser útil durante o semestre.\n",
    "\n",
    "O que veremos sobre Python:\n",
    "\n",
    "- Tipos de dados (*data model*)\n",
    "- Operadores\n",
    "- Funções\n",
    "- Controle de execução\n",
    "- *comprehensions*\n",
    "- Módulos e pacotes\n",
    "- Exceções"
   ]
  },
  {
   "cell_type": "markdown",
   "metadata": {},
   "source": [
    "Baseado em notas de aula de [Cliburn Chan](http://people.duke.edu/~ccc14/sta-663-2019/notebook/S01_Jupyter_and_Python_Annotated.html)© Copyright 2019."
   ]
  },
  {
   "cell_type": "markdown",
   "metadata": {},
   "source": [
    "# Introdução ao Python"
   ]
  },
  {
   "cell_type": "markdown",
   "metadata": {},
   "source": [
    "Características do Python:\n",
    "- Linguagem de uso geral (web, databases, introductory programming classes)\n",
    "- Linguagem para computação científica (physics, engineering, statistics, ML, AI)\n",
    "- Legível por humanos\n",
    "- Interpretada\n",
    "- Tipagem dinâmica\n",
    "- Tipagem forte\n",
    "- Grande biblioteca de pacotes"
   ]
  },
  {
   "cell_type": "markdown",
   "metadata": {},
   "source": [
    "Veja também:\n",
    "- [Documentação oficial do Python](https://docs.python.org/3/)\n",
    "- [Why Python?](https://insights.stackoverflow.com/trends?tags=python%2Cjavascript%2Cjava%2Cc%2B%2B%2Cr%2Cjulia-lang%2Cscala&utm_source=so-owned&utm_medium=blog&utm_campaign=gen-blog&utm_content=blog-link&utm_term=incredible-growth-python)"
   ]
  },
  {
   "cell_type": "markdown",
   "metadata": {},
   "source": [
    "# Sintaxe básica\n",
    "\n",
    "## Indentação"
   ]
  },
  {
   "cell_type": "markdown",
   "metadata": {},
   "source": [
    "Talvez a característica mais marcante do Python seja a sua forma de indentação. Em outras linguagens como C, JavaScript, Java ou C#, usamos chaves (`{}`) para indentar código. Em Python, usamos espaços em branco alinhados. Use a tecla TAB para indentar. Para remover a indentação, basta apagar o espaço. Mais adiante vamos entrar em detalhes sobre a sintaxe do código, mas tente entender a indentação abaixo. A função `print()` escreve coisas na tela."
   ]
  },
  {
   "cell_type": "code",
   "execution_count": 1,
   "metadata": {},
   "outputs": [
    {
     "name": "stdout",
     "output_type": "stream",
     "text": [
      "Positivo\n"
     ]
    }
   ],
   "source": [
    "x = 1\n",
    "if x > 0:\n",
    "    print('Positivo')\n",
    "else:\n",
    "    if x < 0:\n",
    "        print('Negativo')\n",
    "    else:\n",
    "        print('Zero')"
   ]
  },
  {
   "cell_type": "markdown",
   "metadata": {},
   "source": [
    "## Comentários\n",
    "Comentários são feitos usando o caractere `#`. O que vier a partir dele é ignorado."
   ]
  },
  {
   "cell_type": "code",
   "execution_count": null,
   "metadata": {},
   "outputs": [],
   "source": [
    "# Comentário no começo da linha.\n",
    "print('Comentário no final da linha.') # Isto será ignorado."
   ]
  },
  {
   "cell_type": "markdown",
   "metadata": {},
   "source": [
    "Comentários mais longos, com múltiplas linhas, podem ser feitos usando *heredocs*, delimitados por três aspas simples."
   ]
  },
  {
   "cell_type": "code",
   "execution_count": null,
   "metadata": {},
   "outputs": [],
   "source": [
    "'''\n",
    "Um comentário gigante,\n",
    "com muitas linhas,\n",
    "para documentar muito bem o seu código.\n",
    "'''\n",
    "print('Código muito bem documentado.')"
   ]
  },
  {
   "cell_type": "markdown",
   "metadata": {},
   "source": [
    "## Parênteses\n",
    "Os parênteses funcionam da mesma forma que em outras linguagens, para explicitar a precedência das operações que estamos fazendo. Eles também são usados para definir tuplas e geradores, além de delimitar os argumentos de chamadas a funções."
   ]
  },
  {
   "cell_type": "code",
   "execution_count": null,
   "metadata": {},
   "outputs": [],
   "source": [
    "print(1 + 3 * 2)\n",
    "print((1 + 3) * 2)"
   ]
  },
  {
   "cell_type": "markdown",
   "metadata": {},
   "source": [
    "# Modelo de dados\n",
    "Em inglês, *data model*. É primordial que se compreenda como as informações são armazenadas em um computador, e que tipo de abstração é utilizada para que nós, humanos, possamos interagir com esses dados através de uma dada linguagem de computador."
   ]
  },
  {
   "cell_type": "markdown",
   "metadata": {},
   "source": [
    "Tudo em Python são objetos. Eles são a abstração do Python para todos os tipos de dados. Todos os objetos têm uma identidade, um tipo e um valor."
   ]
  },
  {
   "cell_type": "markdown",
   "metadata": {},
   "source": [
    "A **identidade** de um objeto nunca muda, ela é definida quando o objeto é criado.\n",
    "É como um ponteiro ou endereço de memória em C. A função `id()` retorna a identidade de um objeto."
   ]
  },
  {
   "cell_type": "markdown",
   "metadata": {},
   "source": [
    "O **tipo** de um objeto define as operações que podemos fazer com ele, e os valores que ele pode tomar.\n",
    "Podemos usar a função `type()` para saber o tipo de um objeto.\n",
    "O tipo de um objeto não muda, dizemos que o Python tem *tipagem forte*."
   ]
  },
  {
   "cell_type": "markdown",
   "metadata": {},
   "source": [
    "O **valor** de alguns objetos pode mudar. Esses são objetos *mutáveis*.\n",
    "Outros objetos têm um valor fixo dado na sua criação.\n",
    "São objetos *imutáveis*. Isso pode ser complicado quando temos objetos mais elaborados, como *contêiners*, que contêm referências a outros objetos.\n",
    "Não se preocupe, com um tempo isso vai fazer sentido."
   ]
  },
  {
   "cell_type": "markdown",
   "metadata": {},
   "source": [
    "Quando damos nome a um objeto, criamos uma **variável**. As variáveis são como etiquetas com nomes coladas nos objetos.\n",
    "Numa equivalência com a linguagem C, variáveis *apontam* para os objetos, mas sem a aritmética de ponteiros.\n",
    "Podemos mudar os objetos para qual uma variável aponta, independente do seu tipo.\n",
    "Chamamos isto de *tipagem dinâmica*."
   ]
  },
  {
   "cell_type": "markdown",
   "metadata": {},
   "source": [
    "No exemplo abaixo, vamos criar uma variável `x` com o valor numérico `1`, e vamos mostrar o seu valor com a função `print()`."
   ]
  },
  {
   "cell_type": "code",
   "execution_count": 3,
   "metadata": {},
   "outputs": [
    {
     "name": "stdout",
     "output_type": "stream",
     "text": [
      "1\n"
     ]
    }
   ],
   "source": [
    "x = 1\n",
    "print(x)"
   ]
  },
  {
   "cell_type": "markdown",
   "metadata": {},
   "source": [
    "Não é preciso declarar o seu tipo. Podemos mudar o valor de `x` para qualquer outra coisa. Por exemplo, o texto `'um'`."
   ]
  },
  {
   "cell_type": "code",
   "execution_count": 4,
   "metadata": {},
   "outputs": [
    {
     "name": "stdout",
     "output_type": "stream",
     "text": [
      "um\n"
     ]
    }
   ],
   "source": [
    "x = 'um'\n",
    "print(x)"
   ]
  },
  {
   "cell_type": "markdown",
   "metadata": {},
   "source": [
    "Outras variáveis podem *referenciar* o mesmo objeto. Abaixo, `x` e `y` referenciam o objeto numérico de valor `1.0`."
   ]
  },
  {
   "cell_type": "code",
   "execution_count": 24,
   "metadata": {},
   "outputs": [
    {
     "name": "stdout",
     "output_type": "stream",
     "text": [
      "1.0 1.0\n"
     ]
    }
   ],
   "source": [
    "y = 1.0\n",
    "x = y\n",
    "print(x, y)"
   ]
  },
  {
   "cell_type": "markdown",
   "metadata": {},
   "source": [
    "Isso fica mais claro quando vemos que as identidades de `x` e `y` são iguais."
   ]
  },
  {
   "cell_type": "code",
   "execution_count": 25,
   "metadata": {},
   "outputs": [
    {
     "name": "stdout",
     "output_type": "stream",
     "text": [
      "4602714448 4602714448\n"
     ]
    }
   ],
   "source": [
    "print(id(x), id(y))"
   ]
  },
  {
   "cell_type": "markdown",
   "metadata": {},
   "source": [
    "Por outro lado, nem todo valor numérico igual significa que são os mesmo objetos. No exemplo, `z` tem valor igual a `x`, mas identidade diferente."
   ]
  },
  {
   "cell_type": "code",
   "execution_count": 30,
   "metadata": {},
   "outputs": [
    {
     "name": "stdout",
     "output_type": "stream",
     "text": [
      "4.0 1.0 1.0\n",
      "4602714832 4602714448 4602714256\n"
     ]
    }
   ],
   "source": [
    "z = 1.0\n",
    "print(x, y, z)\n",
    "print(id(x), id(y), id(z))"
   ]
  },
  {
   "cell_type": "code",
   "execution_count": 29,
   "metadata": {},
   "outputs": [
    {
     "name": "stdout",
     "output_type": "stream",
     "text": [
      "4602714832 4602714448\n"
     ]
    }
   ],
   "source": [
    "x = x + 1\n",
    "print(id(x), id(y))"
   ]
  },
  {
   "cell_type": "markdown",
   "metadata": {},
   "source": [
    "Temos então dois objetos, um deles vale `1.0` e está referenciado por `x` e `y`, e outro que também vale `1.0`, mas é referenciado por `z`. No caso de números, isso praticamente não faz diferença, mas pode fazer para tipos mais complicados."
   ]
  },
  {
   "cell_type": "markdown",
   "metadata": {},
   "source": [
    "## [Extra] Tipos mutáveis $\\times$ imutáveis\n",
    "\n",
    "A natureza mutável ou imutável de um objeto causa diferenças sutis, mas extremamente importantes, no seu comportamento. Se uma variável referencia um objeto de tipo imutável, podemos ter certeza de que o seu valor não será modificado em algum outro lugar do programa. No caso acima, `x` vai continuar valendo `1.0` independente do que façamos com `y`."
   ]
  },
  {
   "cell_type": "markdown",
   "metadata": {},
   "source": [
    "Por outro lado, um objeto de tipo mutável pode ter o seu conteúdo modificado. Considere um objeto do tipo `list`, que veremos com mais detalhes adiante. Vamos criar uma lista com três números."
   ]
  },
  {
   "cell_type": "code",
   "execution_count": null,
   "metadata": {},
   "outputs": [],
   "source": [
    "l1 = [1, 2, 3]\n",
    "print(l1)"
   ]
  },
  {
   "cell_type": "markdown",
   "metadata": {},
   "source": [
    "Se criarmos uma nova lista idêntica, ela não terá a mesma identidade."
   ]
  },
  {
   "cell_type": "code",
   "execution_count": null,
   "metadata": {},
   "outputs": [],
   "source": [
    "l2 = [1, 2, 3]\n",
    "print(l2)\n",
    "print(id(l1), id(l2))"
   ]
  },
  {
   "cell_type": "markdown",
   "metadata": {},
   "source": [
    "Se modificarmos `l2`, `l1` fica intacto."
   ]
  },
  {
   "cell_type": "code",
   "execution_count": null,
   "metadata": {},
   "outputs": [],
   "source": [
    "l2[0] = 4 # Modifica o primeiro elemento.\n",
    "print(l1, l2)"
   ]
  },
  {
   "cell_type": "markdown",
   "metadata": {},
   "source": [
    "A identidade de `l2` permanece igual, mesmo depois de modificada."
   ]
  },
  {
   "cell_type": "code",
   "execution_count": null,
   "metadata": {},
   "outputs": [],
   "source": [
    "print(id(l2))"
   ]
  },
  {
   "cell_type": "markdown",
   "metadata": {},
   "source": [
    "Agora, fazemos `l1` e `l2` apontarem para o mesmo objeto. O que acontece quando modificamos `l2`?"
   ]
  },
  {
   "cell_type": "code",
   "execution_count": null,
   "metadata": {},
   "outputs": [],
   "source": [
    "l1 = [4, 5, 6]\n",
    "l2 = l1\n",
    "print(l1, l2)\n",
    "print(id(l1), id(l2))"
   ]
  },
  {
   "cell_type": "code",
   "execution_count": null,
   "metadata": {},
   "outputs": [],
   "source": [
    "l2[0] = -1\n",
    "print(l1, l2)"
   ]
  },
  {
   "cell_type": "markdown",
   "metadata": {},
   "source": [
    "Aparentemente, modificar `l2` faz `l1` mudar. Mas, não se engane! Na verdade, existe apenas uma única lista, tanto `l1` quanto `l2` referenciam o mesmo objeto. Se não tivermos claro esse comportamento de tipos mutáveis, corremos o risco de ser vítimas de bugs \"fantasmagóricos\", onde objetos que pensamos ser constantes aparentemente se modificam sozinhos."
   ]
  },
  {
   "cell_type": "markdown",
   "metadata": {},
   "source": [
    "Esta abstração de mutável *vs.* imutável do Python leva um tempo para ser digerida. Na liguagem C esse controle de quem pode ou não modificar o quê, é feito usando tipos `const`, ponteiros e passagem de argumentos de funções por valor ou referência. Outras linguagens têm suas próprias abstrações, que não vêm ao caso agora."
   ]
  },
  {
   "cell_type": "markdown",
   "metadata": {},
   "source": [
    "Veremos a seguir alguns tipos de dados mais comumente usados em Python."
   ]
  },
  {
   "cell_type": "markdown",
   "metadata": {},
   "source": [
    "## Tipos numéricos\n",
    "Estes são imutáveis, e incluem:\n",
    "- Booleanos/lógicos (`bool`): Valores `True` ou `False`.\n",
    "- Inteiros (`int`): Valores inteiros, sem limite superior ou inferior. Inteiros em Python se comportam de maneira *muito diferente do C*, onde especificamos o tamanho em bytes (`char`, `int`, `long`, etc.).\n",
    "- Números reais/ponto flutuante (`float`): Equivalente ao `double` do C, geralmente segue o padrão IEEE-754. O site [Float Toy](http://evanw.github.io/float-toy/) demonstra como os `float`s funcionam. Nem sempre eles se comportam como números reais!\n",
    "- Números complexos (`complex`): Par de `float`s contendo as partes real e imaginária.\n",
    " "
   ]
  },
  {
   "cell_type": "markdown",
   "metadata": {},
   "source": [
    "### Exemplos"
   ]
  },
  {
   "cell_type": "code",
   "execution_count": null,
   "metadata": {},
   "outputs": [],
   "source": [
    "True, False"
   ]
  },
  {
   "cell_type": "code",
   "execution_count": null,
   "metadata": {},
   "outputs": [],
   "source": [
    "type(True)"
   ]
  },
  {
   "cell_type": "code",
   "execution_count": null,
   "metadata": {},
   "outputs": [],
   "source": [
    "1, 2, 3"
   ]
  },
  {
   "cell_type": "code",
   "execution_count": null,
   "metadata": {},
   "outputs": [],
   "source": [
    "type(2)"
   ]
  },
  {
   "cell_type": "code",
   "execution_count": null,
   "metadata": {},
   "outputs": [],
   "source": [
    "3.14, 1 / 3"
   ]
  },
  {
   "cell_type": "code",
   "execution_count": null,
   "metadata": {},
   "outputs": [],
   "source": [
    "type(3.14)"
   ]
  },
  {
   "cell_type": "code",
   "execution_count": null,
   "metadata": {},
   "outputs": [],
   "source": [
    "3 + 4j"
   ]
  },
  {
   "cell_type": "code",
   "execution_count": null,
   "metadata": {},
   "outputs": [],
   "source": [
    "type(3 + 4j)"
   ]
  },
  {
   "cell_type": "code",
   "execution_count": null,
   "metadata": {},
   "outputs": [],
   "source": [
    "c = (1 + 1j) * (1 - 1j)\n",
    "print(c, c.real, c.imag)"
   ]
  },
  {
   "cell_type": "markdown",
   "metadata": {},
   "source": [
    "## Sequências imutáveis\n",
    "Objetos que contêm coleções de outros objetos, com um tamanho definido. O *i*-ésimo elemento de uma sequência `a` pode ser acessado usando usando o operador de indexação, `a[i]`. A indexação começa em zero, logo o primeiro elemento da sequência `a` é `a[0]`.\n",
    "\n",
    "São sequências imutáveis:\n",
    "- Cadeias de texto, ou *strings* (`str`): Texto usando caracteres Unicode, delimitados por `''` ou `\"\"`.\n",
    "- Cadeias de bytes (`bytes`): Sequência de bytes (inteiros entre 0 e 255). Exemplo: `b'abcd'`.\n",
    "- Tuplas (`tuple`): sequência de qualquer coisa. Podem ser construídas de diversas formas:\n",
    "  - Usando um par de parênteses para denotar a tupla vazia: `()`.\n",
    "  - Usando uma vírgula depois de um item para uma tupla de um objeto: `a,` ou `(a,)`.\n",
    "  - Separando itens com vírgulas: `a, b, c` ou `(a, b, c)`.\n",
    "  - Usando a função pré definida `tuple()` sobre um objeto iterável: `tuple()` or `tuple(iteravel)` (veremos depois o que é um objeto iterável)."
   ]
  },
  {
   "cell_type": "markdown",
   "metadata": {},
   "source": [
    "### Exemplos"
   ]
  },
  {
   "cell_type": "code",
   "execution_count": null,
   "metadata": {},
   "outputs": [],
   "source": [
    "'hello, world'"
   ]
  },
  {
   "cell_type": "code",
   "execution_count": null,
   "metadata": {},
   "outputs": [],
   "source": [
    "type('Hello!')"
   ]
  },
  {
   "cell_type": "code",
   "execution_count": null,
   "metadata": {},
   "outputs": [],
   "source": [
    "\"hell's bells\""
   ]
  },
  {
   "cell_type": "code",
   "execution_count": null,
   "metadata": {},
   "outputs": [],
   "source": [
    "type(\"adf\")"
   ]
  },
  {
   "cell_type": "code",
   "execution_count": null,
   "metadata": {},
   "outputs": [],
   "source": [
    "'''\n",
    "texto muito longo\n",
    "com muitas linhas\n",
    "Sim, usamos estas strings como\n",
    "comentários! Inteligente, né?\n",
    "'''"
   ]
  },
  {
   "cell_type": "code",
   "execution_count": null,
   "metadata": {},
   "outputs": [],
   "source": [
    "# Suporte a unicode nativo!\n",
    "\"\"\"三轮车跑的快\n",
    "上面坐个老太太\n",
    "要五毛给一块\n",
    "你说奇怪不奇怪\"\"\""
   ]
  },
  {
   "cell_type": "code",
   "execution_count": null,
   "metadata": {},
   "outputs": [],
   "source": [
    "type('要五毛')"
   ]
  },
  {
   "cell_type": "code",
   "execution_count": 31,
   "metadata": {},
   "outputs": [
    {
     "data": {
      "text/plain": [
       "str"
      ]
     },
     "execution_count": 31,
     "metadata": {},
     "output_type": "execute_result"
    }
   ],
   "source": [
    "nome = 'andré'\n",
    "type(nome)"
   ]
  },
  {
   "cell_type": "code",
   "execution_count": 32,
   "metadata": {},
   "outputs": [
    {
     "name": "stdout",
     "output_type": "stream",
     "text": [
      "pode emoji? 🤔\n"
     ]
    }
   ],
   "source": [
    "print('pode emoji? 🤔')"
   ]
  },
  {
   "cell_type": "code",
   "execution_count": null,
   "metadata": {},
   "outputs": [],
   "source": [
    "print(nome[0])"
   ]
  },
  {
   "cell_type": "code",
   "execution_count": 33,
   "metadata": {},
   "outputs": [
    {
     "data": {
      "text/plain": [
       "b'asdfg'"
      ]
     },
     "execution_count": 33,
     "metadata": {},
     "output_type": "execute_result"
    }
   ],
   "source": [
    "b'asdfg'"
   ]
  },
  {
   "cell_type": "code",
   "execution_count": null,
   "metadata": {},
   "outputs": [],
   "source": [
    "type(b'qwert')"
   ]
  },
  {
   "cell_type": "code",
   "execution_count": null,
   "metadata": {},
   "outputs": [],
   "source": [
    "tt = (1, 2, 3, 4, 5, 6)\n",
    "tt[0], tt[-1]"
   ]
  },
  {
   "cell_type": "code",
   "execution_count": null,
   "metadata": {},
   "outputs": [],
   "source": [
    "type(tt)"
   ]
  },
  {
   "cell_type": "code",
   "execution_count": null,
   "metadata": {},
   "outputs": [],
   "source": [
    "tt[-2]"
   ]
  },
  {
   "cell_type": "markdown",
   "metadata": {},
   "source": [
    "Podemos tomar fatias (*slices*) de tuplas."
   ]
  },
  {
   "cell_type": "code",
   "execution_count": null,
   "metadata": {},
   "outputs": [],
   "source": [
    "tt[1:4]"
   ]
  },
  {
   "cell_type": "code",
   "execution_count": null,
   "metadata": {},
   "outputs": [],
   "source": [
    "# Esta célula vai falhar, pois tt tem apenas 3 elementos.\n",
    "tt[9]"
   ]
  },
  {
   "cell_type": "markdown",
   "metadata": {},
   "source": [
    "Uma tupla pode ter elementos de tipos misturados."
   ]
  },
  {
   "cell_type": "code",
   "execution_count": null,
   "metadata": {},
   "outputs": [],
   "source": [
    "a = ('a', 'b', None, 3.14)"
   ]
  },
  {
   "cell_type": "code",
   "execution_count": null,
   "metadata": {},
   "outputs": [],
   "source": [
    "print(a)"
   ]
  },
  {
   "cell_type": "code",
   "execution_count": null,
   "metadata": {},
   "outputs": [],
   "source": [
    "# Esta célula vai falhar, pois tuplas são imutáveis.\n",
    "tt[1] = 9"
   ]
  },
  {
   "cell_type": "markdown",
   "metadata": {},
   "source": [
    "## Outros tipos\n",
    "- `NoneType`: É um tipo especial, utilizado para indicar ausência de valor. Funciona como o `NULL` do C. Só existe um objeto, pré definido pelo Python chamado `None`, que é imutável.\n",
    "\n",
    "- Chamáveis (*callable*): Funções são objetos em Python!\n",
    "\n",
    "- Coleções: São tipos que contêm outros objetos, e são iteráveis. Veja o módulo [`collections`](https://docs.python.org/3/library/collections.html) para saber o que faz cada tipo de coleção. Algumas coleções importantes:\n",
    "\n",
    "  - Sequências (`list` e `tuple`): Listas e tuplas contém elementos ordenados, que podem ser acessados individualmente ou em \"fatias\", chamadas *slices*. Como vimos, listas são mutáveis, e tuplas são imutáveis. Elas podem conter objetos de qualquer tipo, inclusive de tipos diferentes dentro da mesma sequência.\n",
    "  - Conjuntos (`set`): representam conjuntos finitos de objetos únicos sem uma ordem definida. Delimitados por `{}`, ou construídos usando a função pré definida `set()`. Os elementos de um `set` devem ser imutáveis, mas um `set` é um objeto mutável: podemos adicionar ou remover itens de um `set`.\n",
    "  - Dicionários (`dict`): mapas entre chave e valor. Estes podem ser objetos de qualquer tipo, com a restrição de que a chave deve ser imutável. Acessamos o valor da chave `k` de um dicionário *d* usando `d[k]`. Construímos um dicionário usando a notação `{chave1: valor1, chave2: valor2,}`, ou usando a função `dict()`.\n",
    "  \n",
    "### Exemplos"
   ]
  },
  {
   "cell_type": "code",
   "execution_count": null,
   "metadata": {},
   "outputs": [],
   "source": [
    "None"
   ]
  },
  {
   "cell_type": "code",
   "execution_count": null,
   "metadata": {},
   "outputs": [],
   "source": [
    "type(None)"
   ]
  },
  {
   "cell_type": "code",
   "execution_count": null,
   "metadata": {},
   "outputs": [],
   "source": [
    "ll = ['a', 'b', 'c', 'c', 'a', 'c']\n",
    "ll[4]"
   ]
  },
  {
   "cell_type": "code",
   "execution_count": null,
   "metadata": {},
   "outputs": [],
   "source": [
    "type(ll)"
   ]
  },
  {
   "cell_type": "code",
   "execution_count": null,
   "metadata": {},
   "outputs": [],
   "source": [
    "# Esta célula NÃO vai falhar, listas são mutáveis.\n",
    "ll[1] = 9\n",
    "ll"
   ]
  },
  {
   "cell_type": "code",
   "execution_count": null,
   "metadata": {},
   "outputs": [],
   "source": [
    "print(tt)\n",
    "print(list(tt))"
   ]
  },
  {
   "cell_type": "code",
   "execution_count": null,
   "metadata": {},
   "outputs": [],
   "source": [
    "{1,2,2,3,3,3}"
   ]
  },
  {
   "cell_type": "code",
   "execution_count": null,
   "metadata": {},
   "outputs": [],
   "source": [
    "ss = set(ll)\n",
    "print(ll)\n",
    "print(ss)"
   ]
  },
  {
   "cell_type": "code",
   "execution_count": null,
   "metadata": {},
   "outputs": [],
   "source": [
    "type(ss)"
   ]
  },
  {
   "cell_type": "code",
   "execution_count": null,
   "metadata": {},
   "outputs": [],
   "source": [
    "list(ss)"
   ]
  },
  {
   "cell_type": "code",
   "execution_count": null,
   "metadata": {},
   "outputs": [],
   "source": [
    "{'a': 0, 'b': 1, 'c': 2}"
   ]
  },
  {
   "cell_type": "code",
   "execution_count": null,
   "metadata": {},
   "outputs": [],
   "source": [
    "{tt: 'tupla', 1: 'número'}"
   ]
  },
  {
   "cell_type": "code",
   "execution_count": null,
   "metadata": {},
   "outputs": [],
   "source": [
    "# Esta célula vai falhar, a chave precisa ser imutável.\n",
    "# Não se pode usar uma lista como chave.\n",
    "{tt: 'tupla', 1: 'número', ll: 'lista'}"
   ]
  },
  {
   "cell_type": "code",
   "execution_count": null,
   "metadata": {},
   "outputs": [],
   "source": [
    "dict(a=0, b=1, c=2)"
   ]
  },
  {
   "cell_type": "markdown",
   "metadata": {},
   "source": [
    "Jeito rápido de criar dicionários usando a função `zip()`, que produz um gerador de tuplas."
   ]
  },
  {
   "cell_type": "code",
   "execution_count": null,
   "metadata": {},
   "outputs": [],
   "source": [
    "keys = ['cachorro', 'batman', 2.72, 'gandhi']\n",
    "values = ['gato', 'coringa', 3.14, None]\n",
    "zip(keys, values)"
   ]
  },
  {
   "cell_type": "code",
   "execution_count": null,
   "metadata": {},
   "outputs": [],
   "source": [
    "list(zip(keys, values))"
   ]
  },
  {
   "cell_type": "code",
   "execution_count": null,
   "metadata": {},
   "outputs": [],
   "source": [
    "inimigos = dict(zip(keys, values))\n",
    "inimigos"
   ]
  },
  {
   "cell_type": "code",
   "execution_count": null,
   "metadata": {},
   "outputs": [],
   "source": [
    "inimigos['batman']"
   ]
  },
  {
   "cell_type": "code",
   "execution_count": null,
   "metadata": {},
   "outputs": [],
   "source": [
    "list(inimigos.keys())"
   ]
  },
  {
   "cell_type": "code",
   "execution_count": null,
   "metadata": {},
   "outputs": [],
   "source": [
    "list(inimigos.values())"
   ]
  },
  {
   "cell_type": "code",
   "execution_count": null,
   "metadata": {},
   "outputs": [],
   "source": [
    "list(inimigos.items())"
   ]
  },
  {
   "cell_type": "markdown",
   "metadata": {},
   "source": [
    "# Operadores\n",
    "\n",
    "Os operadores em Python são parecidos com as outras linguagens. Vamos ver a seguir os tipos de operadores existentes."
   ]
  },
  {
   "cell_type": "markdown",
   "metadata": {},
   "source": [
    "## Aritméticos\n",
    "Funcionam para tipos numéricos, `int`, `float` e `complex`. Os valores são promovidos nesta ordem (`int` vira `float`, `float` vira `complex`) quando as operações envolvem tipos diferentes.\n",
    "\n",
    "Adição e subtração são triviais, certo?"
   ]
  },
  {
   "cell_type": "code",
   "execution_count": 34,
   "metadata": {},
   "outputs": [
    {
     "data": {
      "text/plain": [
       "6.28"
      ]
     },
     "execution_count": 34,
     "metadata": {},
     "output_type": "execute_result"
    }
   ],
   "source": [
    "3.14 + 3.14"
   ]
  },
  {
   "cell_type": "code",
   "execution_count": 35,
   "metadata": {},
   "outputs": [
    {
     "data": {
      "text/plain": [
       "6.140000000000001"
      ]
     },
     "execution_count": 35,
     "metadata": {},
     "output_type": "execute_result"
    }
   ],
   "source": [
    "3 + 3.14"
   ]
  },
  {
   "cell_type": "markdown",
   "metadata": {},
   "source": [
    "Isso foi inesperado, o resultado deveria ser `6.14`. De fato, veja que"
   ]
  },
  {
   "cell_type": "code",
   "execution_count": null,
   "metadata": {},
   "outputs": [],
   "source": [
    "(3 + 3.14) - 6.14"
   ]
  },
  {
   "cell_type": "markdown",
   "metadata": {},
   "source": [
    "Outro exemplo:"
   ]
  },
  {
   "cell_type": "code",
   "execution_count": 44,
   "metadata": {},
   "outputs": [
    {
     "data": {
      "text/plain": [
       "5.551115123125783e-17"
      ]
     },
     "execution_count": 44,
     "metadata": {},
     "output_type": "execute_result"
    }
   ],
   "source": [
    "(0.1 + 0.1 + 0.1) - 0.3"
   ]
  },
  {
   "cell_type": "code",
   "execution_count": 46,
   "metadata": {},
   "outputs": [
    {
     "data": {
      "text/plain": [
       "0.0"
      ]
     },
     "execution_count": 46,
     "metadata": {},
     "output_type": "execute_result"
    }
   ],
   "source": [
    "1 + 1e50 - 1e50"
   ]
  },
  {
   "cell_type": "markdown",
   "metadata": {},
   "source": [
    "O problema está na conversão de `3.14` para binário. Este número não tem uma representação exata em binário, do mesmo jeito que $\\frac 1 3$ não tem representação exata em decimal. Veja o site [Floating Point Visually Explained](https://fabiensanglard.net/floating_point_visually_explained/index.html) para uma explicação mais detalhada. Outra referência visual interessante é [Half-Precision Floating-Point, Visualized](https://observablehq.com/@rreusser/half-precision-floating-point-visualized).\n",
    "\n",
    "Seguindo com os operadores, o operador de potenciação é `**`. Para fazer $2^3$, usamos"
   ]
  },
  {
   "cell_type": "code",
   "execution_count": null,
   "metadata": {},
   "outputs": [],
   "source": [
    "2**3"
   ]
  },
  {
   "cell_type": "markdown",
   "metadata": {},
   "source": [
    "Para divisão há 3 operadores. Divisão \"normal\" dá um resultado `float`."
   ]
  },
  {
   "cell_type": "code",
   "execution_count": null,
   "metadata": {},
   "outputs": [],
   "source": [
    "11 / 3"
   ]
  },
  {
   "cell_type": "markdown",
   "metadata": {},
   "source": [
    "Se quisermos a divisão de inteiros, usamos o operador `//`."
   ]
  },
  {
   "cell_type": "code",
   "execution_count": null,
   "metadata": {},
   "outputs": [],
   "source": [
    "11 // 3"
   ]
  },
  {
   "cell_type": "markdown",
   "metadata": {},
   "source": [
    "Para obter o resto da divisão, usamos o operador `%`, também chamado de \"módulo\"."
   ]
  },
  {
   "cell_type": "code",
   "execution_count": null,
   "metadata": {},
   "outputs": [],
   "source": [
    "11 % 3"
   ]
  },
  {
   "cell_type": "markdown",
   "metadata": {},
   "source": [
    "Veja que podemos misturar tipos, e o Python se arranja."
   ]
  },
  {
   "cell_type": "code",
   "execution_count": null,
   "metadata": {},
   "outputs": [],
   "source": [
    "(3 + 2j) * (1 + 2j) + 3.14"
   ]
  },
  {
   "cell_type": "markdown",
   "metadata": {},
   "source": [
    "## Relacionais\n",
    "\n",
    "Servem para fazer comparação entre tipos numéricos, e retorna um valor booleano. Os operadores são os seguintes:"
   ]
  },
  {
   "cell_type": "code",
   "execution_count": null,
   "metadata": {},
   "outputs": [],
   "source": [
    "2 == 2, 2 == 3, 2 != 3, 2 < 3, 2 <= 3, 2 > 3, 2 >= 3"
   ]
  },
  {
   "cell_type": "markdown",
   "metadata": {},
   "source": [
    "Cuidado ao usar esses operadores com `float`. Lembre do caso de `3.14`:"
   ]
  },
  {
   "cell_type": "code",
   "execution_count": null,
   "metadata": {},
   "outputs": [],
   "source": [
    "(3.14 + 3) == 6.14"
   ]
  },
  {
   "cell_type": "markdown",
   "metadata": {},
   "source": [
    "Em geral deve-se evitar comparar a igualdade de `float`s, usando sempre `>` ou `<` quando possível."
   ]
  },
  {
   "cell_type": "markdown",
   "metadata": {},
   "source": [
    "## Lógicos\n",
    "Uma operação lógica retorna o primeiro ou o segundo item, dependendo se o primeiro item é avaliado como `True` ou `False`.\n",
    "\n",
    "* `x or y` é equivalente a *se x é falso, retorna y, se não x*\n",
    "* `x and y` é equivalente a *se x é falso, retorna x, se não y*\n",
    "* `not x` é equivalente a *se x é falso, retorna `True`, se não `False`*\n",
    "\n",
    "Por padrão, os objetos são considerados `True`, exceto:\n",
    "* Constantes consideradas `False` por definição: `None`, `False` \n",
    "* Sequências e coleções vazias: `''`,`()`,`[]`,`{}`,`set()`,`range(0)`\n",
    "* Zero de qualquer tipo numérico: 0, 0.0, 0j ! FLOAT!\n",
    "\n",
    "Isso pode dar um nó na cabeça, especialmente se levar em conta que `y` pode nem sequer ser avaliado. Leia a seção [*Boolean operators*](https://docs.python.org/3.8/library/stdtypes.html#boolean-operations-and-or-not) da documentação do Python.\n"
   ]
  },
  {
   "cell_type": "code",
   "execution_count": null,
   "metadata": {},
   "outputs": [],
   "source": [
    "True and False"
   ]
  },
  {
   "cell_type": "code",
   "execution_count": null,
   "metadata": {},
   "outputs": [],
   "source": [
    "True or False"
   ]
  },
  {
   "cell_type": "code",
   "execution_count": null,
   "metadata": {},
   "outputs": [],
   "source": [
    "not (True or False)"
   ]
  },
  {
   "cell_type": "code",
   "execution_count": null,
   "metadata": {},
   "outputs": [],
   "source": [
    "'a' or 0"
   ]
  },
  {
   "cell_type": "code",
   "execution_count": null,
   "metadata": {},
   "outputs": [],
   "source": [
    "0 or 'a'"
   ]
  },
  {
   "cell_type": "code",
   "execution_count": null,
   "metadata": {},
   "outputs": [],
   "source": [
    "not 5"
   ]
  },
  {
   "cell_type": "code",
   "execution_count": null,
   "metadata": {},
   "outputs": [],
   "source": [
    "not ''"
   ]
  },
  {
   "cell_type": "code",
   "execution_count": null,
   "metadata": {},
   "outputs": [],
   "source": [
    "3 and []"
   ]
  },
  {
   "cell_type": "code",
   "execution_count": null,
   "metadata": {},
   "outputs": [],
   "source": [
    "bool(3 and [])"
   ]
  },
  {
   "cell_type": "markdown",
   "metadata": {},
   "source": [
    "## *Bitwise*\n",
    "Estes operadores atuam sobre inteiros, e agem bit a bit, mais ou menos da mesma forma que os operadores lógicos. O resultado pode não ser muito intuitivo por causa do sinal. Vamos usar a função `format()` para exibir números em binário."
   ]
  },
  {
   "cell_type": "code",
   "execution_count": null,
   "metadata": {},
   "outputs": [],
   "source": [
    "# 04b indica que queremos 4 dígitos binários, preenchendo com zeros à esquerda.\n",
    "format(10, '04b')"
   ]
  },
  {
   "cell_type": "code",
   "execution_count": null,
   "metadata": {},
   "outputs": [],
   "source": [
    "format(7, '04b')"
   ]
  },
  {
   "cell_type": "markdown",
   "metadata": {},
   "source": [
    "Operador E (AND)"
   ]
  },
  {
   "cell_type": "code",
   "execution_count": null,
   "metadata": {},
   "outputs": [],
   "source": [
    "x = 10 & 7\n",
    "print(x, format(x, '04b'))"
   ]
  },
  {
   "cell_type": "markdown",
   "metadata": {},
   "source": [
    "Operador OU (OR)"
   ]
  },
  {
   "cell_type": "code",
   "execution_count": null,
   "metadata": {},
   "outputs": [],
   "source": [
    "x = 10 | 7\n",
    "print(x, format(x, '04b'))"
   ]
  },
  {
   "cell_type": "markdown",
   "metadata": {},
   "source": [
    "Operador OU exclusixo (XOR)"
   ]
  },
  {
   "cell_type": "code",
   "execution_count": null,
   "metadata": {},
   "outputs": [],
   "source": [
    "x = 10 ^ 7\n",
    "print(x, format(x, '04b'))"
   ]
  },
  {
   "cell_type": "markdown",
   "metadata": {},
   "source": [
    "Operador NOT, que age sobre um único operando."
   ]
  },
  {
   "cell_type": "code",
   "execution_count": null,
   "metadata": {},
   "outputs": [],
   "source": [
    "x = ~7\n",
    "x, format(x, '04b')"
   ]
  },
  {
   "cell_type": "markdown",
   "metadata": {},
   "source": [
    "## Membro de uma coleção\n",
    "O operador `in` retorna `True` se um objeto faz parte de uma coleção (ou qualquer iterável), e `False` caso contrário. É fácil ver isso usando strings."
   ]
  },
  {
   "cell_type": "code",
   "execution_count": null,
   "metadata": {},
   "outputs": [],
   "source": [
    "'hell' in 'hello'"
   ]
  },
  {
   "cell_type": "code",
   "execution_count": null,
   "metadata": {},
   "outputs": [],
   "source": [
    "'I' not in 'team'"
   ]
  },
  {
   "cell_type": "markdown",
   "metadata": {},
   "source": [
    "Usando `range()` que é um gerador:"
   ]
  },
  {
   "cell_type": "code",
   "execution_count": null,
   "metadata": {},
   "outputs": [],
   "source": [
    "print(tuple(range(5)))"
   ]
  },
  {
   "cell_type": "code",
   "execution_count": null,
   "metadata": {},
   "outputs": [],
   "source": [
    "3 in range(5), 7 in range(5)"
   ]
  },
  {
   "cell_type": "markdown",
   "metadata": {},
   "source": [
    "Funciona para as chaves de dicionários."
   ]
  },
  {
   "cell_type": "code",
   "execution_count": null,
   "metadata": {},
   "outputs": [],
   "source": [
    "# Uma forma desnecessariamente elaborada de fazer um dicionário.\n",
    "dd = dict(zip('abc', range(3)))\n",
    "print(dd)"
   ]
  },
  {
   "cell_type": "code",
   "execution_count": null,
   "metadata": {},
   "outputs": [],
   "source": [
    "'a' in dd"
   ]
  },
  {
   "cell_type": "markdown",
   "metadata": {},
   "source": [
    "## Identidade\n",
    "O operador `is` retorna `True` se os dois objetos são o mesmo. Isto é, têm o mesmo `id()`. Lembre do papo sobre identidade e tipos mutáveis/imutáveis. Por exemplo, listas podem ser idênticas."
   ]
  },
  {
   "cell_type": "code",
   "execution_count": null,
   "metadata": {},
   "outputs": [],
   "source": [
    "x = [2, 3]\n",
    "y = [2, 3]\n",
    "x == y"
   ]
  },
  {
   "cell_type": "markdown",
   "metadata": {},
   "source": [
    "Mas não têm a mesma identidade."
   ]
  },
  {
   "cell_type": "code",
   "execution_count": null,
   "metadata": {},
   "outputs": [],
   "source": [
    "x is y"
   ]
  },
  {
   "cell_type": "markdown",
   "metadata": {},
   "source": [
    "Isto é equivalente a"
   ]
  },
  {
   "cell_type": "code",
   "execution_count": null,
   "metadata": {},
   "outputs": [],
   "source": [
    "print(id(x), id(y))\n",
    "id(x) == id(y)"
   ]
  },
  {
   "cell_type": "markdown",
   "metadata": {},
   "source": [
    "Se fizermos `x` e `y` referenciarem a mesma lista, a identidade deles fica igual."
   ]
  },
  {
   "cell_type": "code",
   "execution_count": null,
   "metadata": {},
   "outputs": [],
   "source": [
    "x = y"
   ]
  },
  {
   "cell_type": "code",
   "execution_count": null,
   "metadata": {},
   "outputs": [],
   "source": [
    "id(x), id(y)"
   ]
  },
  {
   "cell_type": "code",
   "execution_count": null,
   "metadata": {},
   "outputs": [],
   "source": [
    "x is y"
   ]
  },
  {
   "cell_type": "markdown",
   "metadata": {},
   "source": [
    "Relembrando, é a mesma lista!"
   ]
  },
  {
   "cell_type": "code",
   "execution_count": null,
   "metadata": {},
   "outputs": [],
   "source": [
    "x"
   ]
  },
  {
   "cell_type": "code",
   "execution_count": null,
   "metadata": {},
   "outputs": [],
   "source": [
    "y"
   ]
  },
  {
   "cell_type": "code",
   "execution_count": null,
   "metadata": {},
   "outputs": [],
   "source": [
    "x[0] = 'a'"
   ]
  },
  {
   "cell_type": "code",
   "execution_count": null,
   "metadata": {},
   "outputs": [],
   "source": [
    "y"
   ]
  },
  {
   "cell_type": "markdown",
   "metadata": {},
   "source": [
    "Objetos imutáveis iguais têm sempre a mesma identidade. Veja alguns exemplos."
   ]
  },
  {
   "cell_type": "code",
   "execution_count": null,
   "metadata": {},
   "outputs": [],
   "source": [
    "x = 'hello'\n",
    "y = 'hello'"
   ]
  },
  {
   "cell_type": "code",
   "execution_count": null,
   "metadata": {},
   "outputs": [],
   "source": [
    "x == y, x is y"
   ]
  },
  {
   "cell_type": "code",
   "execution_count": null,
   "metadata": {},
   "outputs": [],
   "source": [
    "id(x), id(y)"
   ]
  },
  {
   "cell_type": "code",
   "execution_count": null,
   "metadata": {},
   "outputs": [],
   "source": [
    "id(None)"
   ]
  },
  {
   "cell_type": "code",
   "execution_count": null,
   "metadata": {},
   "outputs": [],
   "source": [
    "None is None"
   ]
  },
  {
   "cell_type": "code",
   "execution_count": null,
   "metadata": {},
   "outputs": [],
   "source": [
    "x = None"
   ]
  },
  {
   "cell_type": "code",
   "execution_count": null,
   "metadata": {},
   "outputs": [],
   "source": [
    "x is None"
   ]
  },
  {
   "cell_type": "markdown",
   "metadata": {},
   "source": [
    "## Atribuição\n",
    "\n",
    "Este operador é o mesmo que nas outras linguagens."
   ]
  },
  {
   "cell_type": "code",
   "execution_count": null,
   "metadata": {},
   "outputs": [],
   "source": [
    "x = 2"
   ]
  },
  {
   "cell_type": "code",
   "execution_count": null,
   "metadata": {},
   "outputs": [],
   "source": [
    "x = x + 2"
   ]
  },
  {
   "cell_type": "code",
   "execution_count": null,
   "metadata": {},
   "outputs": [],
   "source": [
    "x"
   ]
  },
  {
   "cell_type": "markdown",
   "metadata": {},
   "source": [
    "Existem os operadores \"compactos\". Para fazer `x = x + 2`, podemos também usar"
   ]
  },
  {
   "cell_type": "code",
   "execution_count": null,
   "metadata": {},
   "outputs": [],
   "source": [
    "x += 2"
   ]
  },
  {
   "cell_type": "code",
   "execution_count": null,
   "metadata": {},
   "outputs": [],
   "source": [
    "x"
   ]
  },
  {
   "cell_type": "markdown",
   "metadata": {},
   "source": [
    "Temos os operadores de atribuição `+=`, `-=`, `*=`, `/=` e `**=`.\n",
    "\n",
    "Não existe o operador de incremento e decremento:"
   ]
  },
  {
   "cell_type": "code",
   "execution_count": null,
   "metadata": {},
   "outputs": [],
   "source": [
    "# Esta célula vai falhar, não existe operador de incremento (nem decremento).\n",
    "x++"
   ]
  },
  {
   "cell_type": "markdown",
   "metadata": {},
   "source": [
    "# Funções\n",
    "\n",
    "Funções são sequências de operações que recebem argumentos e retornam um valor. Elas sâo *chamadas* usando parênteses. Exemplo: chamando a função *func* com argumentos *arg1* e *arg2*, colocando o valor em *x*: `x = func(arg1, arg2)`.\n",
    "\n",
    "Chamadas de função podem ser aninhadas:"
   ]
  },
  {
   "cell_type": "code",
   "execution_count": null,
   "metadata": {},
   "outputs": [],
   "source": [
    "list(range(10))"
   ]
  },
  {
   "cell_type": "markdown",
   "metadata": {},
   "source": [
    "Definimos uma função com a sintaxe abaixo. O texto em aspas triplas é o *docstring*."
   ]
  },
  {
   "cell_type": "code",
   "execution_count": null,
   "metadata": {},
   "outputs": [],
   "source": [
    "def f(a, b):\n",
    "    '''\n",
    "    Faz alguma coisa com a e b.\n",
    "    \n",
    "    Admite que os operadores + e *\n",
    "    estejam definidos para a e b.\n",
    "    '''\n",
    "    \n",
    "    return 2 * a + 3 * b"
   ]
  },
  {
   "cell_type": "markdown",
   "metadata": {},
   "source": [
    "Ele serve como um *help* da função. Veja como acessar o help rodando a célula abaixo."
   ]
  },
  {
   "cell_type": "code",
   "execution_count": null,
   "metadata": {},
   "outputs": [],
   "source": [
    "f?"
   ]
  },
  {
   "cell_type": "markdown",
   "metadata": {},
   "source": [
    "## Chamando a função de formas variadas\n",
    "\n",
    "Na chamada a funções, a ordem dos argumentos é importante."
   ]
  },
  {
   "cell_type": "code",
   "execution_count": null,
   "metadata": {},
   "outputs": [],
   "source": [
    "f(2, 3)"
   ]
  },
  {
   "cell_type": "code",
   "execution_count": null,
   "metadata": {},
   "outputs": [],
   "source": [
    "f(3, 2)"
   ]
  },
  {
   "cell_type": "markdown",
   "metadata": {},
   "source": [
    "Podemos explicitar os argumentos)"
   ]
  },
  {
   "cell_type": "code",
   "execution_count": null,
   "metadata": {},
   "outputs": [],
   "source": [
    "f(b=3, a=2)"
   ]
  },
  {
   "cell_type": "markdown",
   "metadata": {},
   "source": [
    "Podemos também usar uma tupla ou um dicionário com a lista de argumentos, usando os operadores `*` e `**` (que aqui não são aritméticos) para explodir as sequências. Isto é uma forma um pouco avançada, deixe de lado por enquanto se você não entender."
   ]
  },
  {
   "cell_type": "code",
   "execution_count": null,
   "metadata": {},
   "outputs": [],
   "source": [
    "args = (2,3)\n",
    "f(*args)"
   ]
  },
  {
   "cell_type": "code",
   "execution_count": null,
   "metadata": {},
   "outputs": [],
   "source": [
    "dict_args = dict(a=2, b=3)\n",
    "f(**dict_args)"
   ]
  },
  {
   "cell_type": "markdown",
   "metadata": {},
   "source": [
    "Cuidado ao passar argumentos para funções, lembre que o python tem tipagem dinâmica. Se esperamos umtipo numérico dentro de uma função, mas passamos outro tipo de dados, os resultados podem ser inesperados. Com sorte, o programa vai falhar, mas podem acontecer situações como a seguinte:"
   ]
  },
  {
   "cell_type": "code",
   "execution_count": null,
   "metadata": {},
   "outputs": [],
   "source": [
    "f('hello', 'world')"
   ]
  },
  {
   "cell_type": "markdown",
   "metadata": {},
   "source": [
    "Que?!"
   ]
  },
  {
   "cell_type": "code",
   "execution_count": null,
   "metadata": {},
   "outputs": [],
   "source": [
    "f([1,2,3], ['a', 'b', 'c'])"
   ]
  },
  {
   "cell_type": "markdown",
   "metadata": {},
   "source": [
    "Descubra por que isto acontece!"
   ]
  },
  {
   "cell_type": "markdown",
   "metadata": {},
   "source": [
    "Lembre que funções também são objetos."
   ]
  },
  {
   "cell_type": "code",
   "execution_count": null,
   "metadata": {},
   "outputs": [],
   "source": [
    "mesma_funcao = f\n",
    "mesma_funcao(2, 3)"
   ]
  },
  {
   "cell_type": "code",
   "execution_count": null,
   "metadata": {},
   "outputs": [],
   "source": [
    "mesma_funcao is f"
   ]
  },
  {
   "cell_type": "markdown",
   "metadata": {},
   "source": [
    "# Controle de execução\n",
    "\n",
    "Aqui começa a aparecer uma coisa diferente: espaço em branco.\n",
    "Código python precisa ser indentado corretamente.\n",
    "É meio intuitivo, com o tempo você pega o jeito.\n",
    "\n",
    "## `if`-`elif`-`else`"
   ]
  },
  {
   "cell_type": "markdown",
   "metadata": {},
   "source": [
    "A expressão `if` é quase igual ao seu equivalente em C, mas não precisa de parênteses."
   ]
  },
  {
   "cell_type": "code",
   "execution_count": null,
   "metadata": {},
   "outputs": [],
   "source": [
    "if 1 + 1 == 3:\n",
    "    print('Ufa!')    "
   ]
  },
  {
   "cell_type": "code",
   "execution_count": null,
   "metadata": {},
   "outputs": [],
   "source": [
    "if 1+1 == 2:\n",
    "    print('Opa?')\n",
    "else:\n",
    "    print('Ufa!')\n",
    "    print('Ainda falso!')\n",
    "print('Esta linha sempre aparece.')"
   ]
  },
  {
   "cell_type": "code",
   "execution_count": null,
   "metadata": {},
   "outputs": [],
   "source": [
    "if []:\n",
    "    print('Esta linha nunca vai aparecer!')\n",
    "elif 1 + 2 == 3:\n",
    "    print('Esta sim!')\n",
    "else:\n",
    "    print('Esta linha só aparece em outro universo!')"
   ]
  },
  {
   "cell_type": "markdown",
   "metadata": {},
   "source": [
    "Existe também o operador ternário: `x = a if condition else b`."
   ]
  },
  {
   "cell_type": "code",
   "execution_count": null,
   "metadata": {},
   "outputs": [],
   "source": [
    "'vegano' if 1 + 1  == 2 else 'carnívoro'"
   ]
  },
  {
   "cell_type": "code",
   "execution_count": null,
   "metadata": {},
   "outputs": [],
   "source": [
    "'vegano' if 1 + 1  == 3 else 'carnívoro'"
   ]
  },
  {
   "cell_type": "markdown",
   "metadata": {},
   "source": [
    "Um idioma comum para evitar divisão por zero:"
   ]
  },
  {
   "cell_type": "code",
   "execution_count": null,
   "metadata": {},
   "outputs": [],
   "source": [
    "soma = 0\n",
    "N = 0\n",
    "media = soma / N if N > 0 else -1\n",
    "print(media)"
   ]
  },
  {
   "cell_type": "markdown",
   "metadata": {},
   "source": [
    "## Laços `for`\n",
    "Servem para iterar sequências e qualquer outra coisa iterável. Isto inclui listas, tuplas, dicionários, strings, geradores, etc."
   ]
  },
  {
   "cell_type": "code",
   "execution_count": null,
   "metadata": {},
   "outputs": [],
   "source": [
    "for nota in [9.4, 7.9, 8.1, 5.7]:\n",
    "    if nota > 9.0:\n",
    "        print('A')\n",
    "    elif nota > 8.0:\n",
    "        print('B')\n",
    "    elif nota > 7.0:\n",
    "        print('C')\n",
    "    else:\n",
    "        print('Estás na turma certa?')"
   ]
  },
  {
   "cell_type": "code",
   "execution_count": null,
   "metadata": {},
   "outputs": [],
   "source": [
    "for i in range(1,5):\n",
    "    print(i, end=',')"
   ]
  },
  {
   "cell_type": "markdown",
   "metadata": {},
   "source": [
    "## Laços `while`\n",
    "Repete a execução enquanto a condição for verdadeira."
   ]
  },
  {
   "cell_type": "code",
   "execution_count": null,
   "metadata": {},
   "outputs": [],
   "source": [
    "i = 10\n",
    "while i > 0:\n",
    "    print(i)\n",
    "    i -= 1"
   ]
  },
  {
   "cell_type": "markdown",
   "metadata": {},
   "source": [
    "## `break` e `continue`\n",
    "Uma expressão `break` quebra a execução de um laço `for` ou `while`. Já uma expressão `continue` pula para o começo da próxima iteração."
   ]
  },
  {
   "cell_type": "code",
   "execution_count": null,
   "metadata": {},
   "outputs": [],
   "source": [
    "# Só os números ímpares.\n",
    "for i in range(1, 10):\n",
    "    if i % 2 == 0:\n",
    "        continue\n",
    "    print(i)"
   ]
  },
  {
   "cell_type": "code",
   "execution_count": null,
   "metadata": {},
   "outputs": [],
   "source": [
    "for i in range(1, 10):\n",
    "    if i > 3:\n",
    "        break\n",
    "    print(i)"
   ]
  },
  {
   "cell_type": "markdown",
   "metadata": {},
   "source": [
    "## `pass`\n",
    "\n",
    "É uma expressão nula, não executa nada. É usada quando alguma expressão é necessária, ou guardar espaço enquanto não se define uma parte do código."
   ]
  },
  {
   "cell_type": "code",
   "execution_count": null,
   "metadata": {},
   "outputs": [],
   "source": [
    "def incomplete_func():\n",
    "    '''\n",
    "    TODO: escrever esta função.\n",
    "    '''\n",
    "    pass"
   ]
  },
  {
   "cell_type": "code",
   "execution_count": null,
   "metadata": {},
   "outputs": [],
   "source": [
    "incomplete_func()"
   ]
  },
  {
   "cell_type": "code",
   "execution_count": null,
   "metadata": {},
   "outputs": [],
   "source": [
    "for i in range(1, 10):\n",
    "    if i % 2 == 0:\n",
    "        # nao sei\n",
    "        pass\n",
    "    else:\n",
    "        print(i)"
   ]
  },
  {
   "cell_type": "markdown",
   "metadata": {},
   "source": [
    "## Laços e *comprehensions*\n",
    "\n",
    "Às vezes precisamos montar uma sequência com base numa outra sequência original. Por exemplo, para gerar uma lista de números quadrados, podemos escrever um código como este:"
   ]
  },
  {
   "cell_type": "code",
   "execution_count": null,
   "metadata": {},
   "outputs": [],
   "source": [
    "# Inicializa uma lista vazia.\n",
    "y = []\n",
    "\n",
    "# O gerador range() produz uma sequência.\n",
    "for x in range(1, 10):\n",
    "    # Adiciona um item ao final da lista y.\n",
    "    y.append(x**2)\n",
    "\n",
    "print(y)"
   ]
  },
  {
   "cell_type": "markdown",
   "metadata": {},
   "source": [
    "Uma forma equivalente, e talvez mais legível, é escrever este laço como um *list comprehension*."
   ]
  },
  {
   "cell_type": "code",
   "execution_count": null,
   "metadata": {},
   "outputs": [],
   "source": [
    "y = [x**2 for x in range(1, 10)]\n",
    "print(y)"
   ]
  },
  {
   "cell_type": "markdown",
   "metadata": {},
   "source": [
    "É possível ter um condicional para selecionar os itens a serem iterados. Por exemplo, uma lista dos números pares elevados ao quadrado."
   ]
  },
  {
   "cell_type": "code",
   "execution_count": null,
   "metadata": {},
   "outputs": [],
   "source": [
    "z = [x**2 for x in range(1, 10) if x % 2 == 0]\n",
    "print(z)"
   ]
  },
  {
   "cell_type": "markdown",
   "metadata": {},
   "source": [
    "*Comprehensions* produzem objetos iteráveis com base em outros. Vejamos os tipos existentes."
   ]
  },
  {
   "cell_type": "markdown",
   "metadata": {},
   "source": [
    "### `list`\n",
    "\n",
    "Este é o mais simples, que acabamos de ver."
   ]
  },
  {
   "cell_type": "code",
   "execution_count": null,
   "metadata": {},
   "outputs": [],
   "source": [
    "[x for x in range(10)]"
   ]
  },
  {
   "cell_type": "code",
   "execution_count": null,
   "metadata": {},
   "outputs": [],
   "source": [
    "[x**3 for x in range(10)]"
   ]
  },
  {
   "cell_type": "markdown",
   "metadata": {},
   "source": [
    "### `set`\n",
    "\n",
    "Produz um conjunto de valores únicos."
   ]
  },
  {
   "cell_type": "code",
   "execution_count": null,
   "metadata": {},
   "outputs": [],
   "source": [
    "y = [1, 2, 3, 3, 5, 3, 1]\n",
    "{x**3 for x in y}"
   ]
  },
  {
   "cell_type": "markdown",
   "metadata": {},
   "source": [
    "### `dict`\n",
    "\n",
    "Produz um dicionário."
   ]
  },
  {
   "cell_type": "code",
   "execution_count": null,
   "metadata": {},
   "outputs": [],
   "source": [
    "dic_quadrados = {x: x**2 for x in range(1, 10)}\n",
    "print(dic_quadrados)"
   ]
  },
  {
   "cell_type": "markdown",
   "metadata": {},
   "source": [
    "É possível iterar um dicionário usando o método `dicionario.items()`. Exemplo, transformando o dicionário anterior em strings."
   ]
  },
  {
   "cell_type": "code",
   "execution_count": null,
   "metadata": {},
   "outputs": [],
   "source": [
    "dic_str = {str(ch): str(val) for ch, val in dic_quadrados.items()}\n",
    "print(dic_str)"
   ]
  },
  {
   "cell_type": "markdown",
   "metadata": {},
   "source": [
    "### Gerador"
   ]
  },
  {
   "cell_type": "markdown",
   "metadata": {},
   "source": [
    "Um gerador é um iterável dito *lazy*, não calcula o resultado na hora. Apesar da sintaxe usando parênteses, a linha abaixo produz um gerador, **não uma tupla**."
   ]
  },
  {
   "cell_type": "code",
   "execution_count": null,
   "metadata": {},
   "outputs": [],
   "source": [
    "y = (x**2 for x in range(1, 10))\n",
    "print(y)"
   ]
  },
  {
   "cell_type": "markdown",
   "metadata": {},
   "source": [
    "Seu valor é calculado apenas quando o gerador é iterado, por exemplo, com um laço `for`."
   ]
  },
  {
   "cell_type": "code",
   "execution_count": null,
   "metadata": {},
   "outputs": [],
   "source": [
    "cubos = (x**3 for x in range(1, 10))\n",
    "for c in cubos:\n",
    "    print(c)"
   ]
  },
  {
   "cell_type": "markdown",
   "metadata": {},
   "source": [
    "Um gerador pode ser avaliado por completo e transformado, por exemplo, numa lista."
   ]
  },
  {
   "cell_type": "code",
   "execution_count": null,
   "metadata": {},
   "outputs": [],
   "source": [
    "cubos = (x**3 for x in range(1, 10))\n",
    "y = list(cubos)\n",
    "print(y)"
   ]
  },
  {
   "cell_type": "markdown",
   "metadata": {},
   "source": [
    "Veja que um gerador \"acaba\" ao ser iterado, ou seja, é exaurido. Por exemplo, o gerador `cubos` já foi iterado na lista acima."
   ]
  },
  {
   "cell_type": "code",
   "execution_count": null,
   "metadata": {},
   "outputs": [],
   "source": [
    "z = list(cubos)\n",
    "print(z)"
   ]
  },
  {
   "cell_type": "markdown",
   "metadata": {},
   "source": [
    "# Módulos e pacotes\n",
    "\n",
    "Apenas questão de nomenclatura. Módulos são arquivos terminados em `.py`. Pacotes são uma hierarquia de módulos, e em geral são instalados com um gerenciador de pacotes, ou criados pelo usuário. Exemplo de criação de um módulo aqui mesmo dentro do notebook."
   ]
  },
  {
   "cell_type": "code",
   "execution_count": null,
   "metadata": {},
   "outputs": [],
   "source": [
    "%%file meu_modulo.py\n",
    "\n",
    "def func(x):\n",
    "    '''\n",
    "    Função do módulo meu_modulo. Tem até formatação.\n",
    "    '''\n",
    "    return f'Função importada, muito chique. Entrou {x}!'"
   ]
  },
  {
   "cell_type": "markdown",
   "metadata": {},
   "source": [
    "Como eu uso um módulo? Basta importá-lo."
   ]
  },
  {
   "cell_type": "code",
   "execution_count": null,
   "metadata": {},
   "outputs": [],
   "source": [
    "import meu_modulo\n",
    "meu_modulo.func(42)"
   ]
  },
  {
   "cell_type": "markdown",
   "metadata": {},
   "source": [
    "Veja que você pode editar o módulo externamente ao notebook. Tente abrir o arquivo `meu_modulo.py` e modificar a função. Em seguida re-execute a linha acima."
   ]
  },
  {
   "cell_type": "markdown",
   "metadata": {},
   "source": [
    "Forma alternativa, importando apenas a função."
   ]
  },
  {
   "cell_type": "code",
   "execution_count": null,
   "metadata": {},
   "outputs": [],
   "source": [
    "from meu_modulo import func"
   ]
  },
  {
   "cell_type": "code",
   "execution_count": null,
   "metadata": {},
   "outputs": [],
   "source": [
    "func(42)"
   ]
  },
  {
   "cell_type": "markdown",
   "metadata": {},
   "source": [
    "Para ver a documentação de uma função, faça:"
   ]
  },
  {
   "cell_type": "code",
   "execution_count": null,
   "metadata": {},
   "outputs": [],
   "source": [
    "func?"
   ]
  },
  {
   "cell_type": "markdown",
   "metadata": {},
   "source": [
    "Importando o pacote `numpy`, com muitas funções úteis para cálculo numérico."
   ]
  },
  {
   "cell_type": "code",
   "execution_count": null,
   "metadata": {},
   "outputs": [],
   "source": [
    "import numpy as np"
   ]
  },
  {
   "cell_type": "code",
   "execution_count": null,
   "metadata": {},
   "outputs": [],
   "source": [
    "np.random.randint(0, 10, (5,5))"
   ]
  },
  {
   "cell_type": "markdown",
   "metadata": {},
   "source": [
    "# Exceções\n",
    "\n",
    "Quando ocorrem erros em Python, eles geram *exceções*."
   ]
  },
  {
   "cell_type": "code",
   "execution_count": null,
   "metadata": {},
   "outputs": [],
   "source": [
    "# Esta célula vai falhar devido ao erro de divisão por zero.\n",
    "x = 1 / 0"
   ]
  },
  {
   "cell_type": "markdown",
   "metadata": {},
   "source": [
    "Podemos usar o tratamento de exceções para tomar alguma atitude quando uma exceção ocorrer. Teste valores de zero e diferentes de zero."
   ]
  },
  {
   "cell_type": "code",
   "execution_count": null,
   "metadata": {},
   "outputs": [],
   "source": [
    "numerador = 1\n",
    "denominador = 0\n",
    "try:\n",
    "    x = numerador / denominador\n",
    "except ZeroDivisionError:\n",
    "    print('Erro de divisão por zero, vamos fingir que x é infinito.')\n",
    "    x = float('inf')\n",
    "print('x =', x)"
   ]
  },
  {
   "cell_type": "markdown",
   "metadata": {},
   "source": [
    "Você pode coletar o objeto do tipo `Exception` gerado na exceção para ver mais detalhes sobre o erro."
   ]
  },
  {
   "cell_type": "code",
   "execution_count": null,
   "metadata": {},
   "outputs": [],
   "source": [
    "numerador = 1\n",
    "denominador = 0\n",
    "try:\n",
    "    x = numerador / denominador\n",
    "except Exception as e:\n",
    "    print('Erro do tipo', type(e), 'mensagem:', e)\n",
    "    # Pra saber ainda mais coisas sobre o erro:\n",
    "    from traceback import print_exception\n",
    "    print_exception(type(e), e, e.__traceback__)\n",
    "    x = float('inf')\n",
    "print('x =', x)"
   ]
  },
  {
   "cell_type": "markdown",
   "metadata": {},
   "source": [
    "Apesar de aparecer o erro como anteriomente, conseguimos fazer o programa seguir adiante (a linha `x = inf` aparece mesmo se o denominador é zero)."
   ]
  },
  {
   "cell_type": "markdown",
   "metadata": {},
   "source": [
    "# Conclusão\n",
    "\n",
    "Isso foi apenas um passeio sobre as funcionalidades e características do Python. Sim, é muita coisa pra assimilar numa semana! Tudo bem, guarde este notebook, e volte nele sempre que tiver alguma dúvida, ou quiser revisar e experimentar."
   ]
  }
 ],
 "metadata": {
  "kernelspec": {
   "display_name": "Python 3 (ipykernel)",
   "language": "python",
   "name": "python3"
  },
  "language_info": {
   "codemirror_mode": {
    "name": "ipython",
    "version": 3
   },
   "file_extension": ".py",
   "mimetype": "text/x-python",
   "name": "python",
   "nbconvert_exporter": "python",
   "pygments_lexer": "ipython3",
   "version": "3.11.5"
  }
 },
 "nbformat": 4,
 "nbformat_minor": 4
}
